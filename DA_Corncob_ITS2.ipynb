{
 "cells": [
  {
   "cell_type": "markdown",
   "metadata": {},
   "source": [
    "## Running Corncob to look for differential abundances"
   ]
  },
  {
   "cell_type": "code",
   "execution_count": 1,
   "metadata": {},
   "outputs": [
    {
     "name": "stderr",
     "output_type": "stream",
     "text": [
      "Loading required package: permute\n",
      "Loading required package: lattice\n",
      "This is vegan 2.5-6\n",
      "\n",
      "Attaching package: ‘dplyr’\n",
      "\n",
      "The following objects are masked from ‘package:stats’:\n",
      "\n",
      "    filter, lag\n",
      "\n",
      "The following objects are masked from ‘package:base’:\n",
      "\n",
      "    intersect, setdiff, setequal, union\n",
      "\n"
     ]
    }
   ],
   "source": [
    "library(phyloseq)\n",
    "library(wesanderson)\n",
    "library(ggplot2)\n",
    "library(vegan)\n",
    "library(dplyr)\n",
    "library(corncob)"
   ]
  },
  {
   "cell_type": "code",
   "execution_count": 2,
   "metadata": {},
   "outputs": [
    {
     "data": {
      "text/plain": [
       "phyloseq-class experiment-level object\n",
       "otu_table()   OTU Table:         [ 1810 taxa and 177 samples ]\n",
       "sample_data() Sample Data:       [ 177 samples by 69 sample variables ]\n",
       "tax_table()   Taxonomy Table:    [ 1810 taxa by 7 taxonomic ranks ]"
      ]
     },
     "metadata": {},
     "output_type": "display_data"
    }
   ],
   "source": [
    "ps=readRDS(\"../data/CornellITS2/ps.ITS2\")\n",
    "ps.norm=readRDS(\"../data/CornellITS2/ps.ITS2.norm\")\n",
    "ps"
   ]
  },
  {
   "cell_type": "code",
   "execution_count": 3,
   "metadata": {},
   "outputs": [
    {
     "data": {
      "text/html": [
       "<table>\n",
       "<caption>A data.frame: 10 × 2</caption>\n",
       "<thead>\n",
       "\t<tr><th scope=col>Soil_Trtmt</th><th scope=col>Amdmt</th></tr>\n",
       "\t<tr><th scope=col>&lt;fct&gt;</th><th scope=col>&lt;fct&gt;</th></tr>\n",
       "</thead>\n",
       "<tbody>\n",
       "\t<tr><td>Hawaii  </td><td>OM  </td></tr>\n",
       "\t<tr><td>Alaska  </td><td>OM  </td></tr>\n",
       "\t<tr><td>Utah    </td><td>OM  </td></tr>\n",
       "\t<tr><td>New York</td><td>OM  </td></tr>\n",
       "\t<tr><td>Florida </td><td>OM  </td></tr>\n",
       "\t<tr><td>Hawaii  </td><td>PyOM</td></tr>\n",
       "\t<tr><td>Alaska  </td><td>PyOM</td></tr>\n",
       "\t<tr><td>Utah    </td><td>PyOM</td></tr>\n",
       "\t<tr><td>New York</td><td>PyOM</td></tr>\n",
       "\t<tr><td>Florida </td><td>PyOM</td></tr>\n",
       "</tbody>\n",
       "</table>\n"
      ],
      "text/latex": [
       "A data.frame: 10 × 2\n",
       "\\begin{tabular}{r|ll}\n",
       " Soil\\_Trtmt & Amdmt\\\\\n",
       " <fct> & <fct>\\\\\n",
       "\\hline\n",
       "\t Hawaii   & OM  \\\\\n",
       "\t Alaska   & OM  \\\\\n",
       "\t Utah     & OM  \\\\\n",
       "\t New York & OM  \\\\\n",
       "\t Florida  & OM  \\\\\n",
       "\t Hawaii   & PyOM\\\\\n",
       "\t Alaska   & PyOM\\\\\n",
       "\t Utah     & PyOM\\\\\n",
       "\t New York & PyOM\\\\\n",
       "\t Florida  & PyOM\\\\\n",
       "\\end{tabular}\n"
      ],
      "text/markdown": [
       "\n",
       "A data.frame: 10 × 2\n",
       "\n",
       "| Soil_Trtmt &lt;fct&gt; | Amdmt &lt;fct&gt; |\n",
       "|---|---|\n",
       "| Hawaii   | OM   |\n",
       "| Alaska   | OM   |\n",
       "| Utah     | OM   |\n",
       "| New York | OM   |\n",
       "| Florida  | OM   |\n",
       "| Hawaii   | PyOM |\n",
       "| Alaska   | PyOM |\n",
       "| Utah     | PyOM |\n",
       "| New York | PyOM |\n",
       "| Florida  | PyOM |\n",
       "\n"
      ],
      "text/plain": [
       "   Soil_Trtmt Amdmt\n",
       "1  Hawaii     OM   \n",
       "2  Alaska     OM   \n",
       "3  Utah       OM   \n",
       "4  New York   OM   \n",
       "5  Florida    OM   \n",
       "6  Hawaii     PyOM \n",
       "7  Alaska     PyOM \n",
       "8  Utah       PyOM \n",
       "9  New York   PyOM \n",
       "10 Florida    PyOM "
      ]
     },
     "metadata": {},
     "output_type": "display_data"
    }
   ],
   "source": [
    "# Most interested in the final timepoint, for OM and for PyOM\n",
    "\n",
    "#Factors = expand.grid(Soil_Trtmt=c(\"Hawaii\",\"Alaska\",\"Utah\",\"New York\",\"Florida\"),Day=c(\"10\",\"26\"),Amdmt=c(\"OM\",\"PyOM\"))\n",
    "Factors = expand.grid(Soil_Trtmt=c(\"Hawaii\",\"Alaska\",\"Utah\",\"New York\",\"Florida\"),Amdmt=c(\"OM\",\"PyOM\"))\n",
    "Factors"
   ]
  },
  {
   "cell_type": "code",
   "execution_count": 6,
   "metadata": {},
   "outputs": [
    {
     "data": {
      "text/html": [
       "<table>\n",
       "<caption>A tibble: 6 × 4</caption>\n",
       "<thead>\n",
       "\t<tr><th scope=col>OTU</th><th scope=col>OverallMeanAbund</th><th scope=col>MaxAbund</th><th scope=col>MinAbund</th></tr>\n",
       "\t<tr><th scope=col>&lt;chr&gt;</th><th scope=col>&lt;dbl&gt;</th><th scope=col>&lt;dbl&gt;</th><th scope=col>&lt;dbl&gt;</th></tr>\n",
       "</thead>\n",
       "<tbody>\n",
       "\t<tr><td>OTU2 </td><td>0.06124741</td><td>0.1942210</td><td>8.071010e-04</td></tr>\n",
       "\t<tr><td>OTU1 </td><td>0.05058680</td><td>0.2482875</td><td>5.827245e-05</td></tr>\n",
       "\t<tr><td>OTU3 </td><td>0.04552510</td><td>0.1382869</td><td>0.000000e+00</td></tr>\n",
       "\t<tr><td>OTU10</td><td>0.04206690</td><td>0.2103345</td><td>0.000000e+00</td></tr>\n",
       "\t<tr><td>OTU8 </td><td>0.03313128</td><td>0.1636249</td><td>0.000000e+00</td></tr>\n",
       "\t<tr><td>OTU4 </td><td>0.02939538</td><td>0.1468503</td><td>0.000000e+00</td></tr>\n",
       "</tbody>\n",
       "</table>\n"
      ],
      "text/latex": [
       "A tibble: 6 × 4\n",
       "\\begin{tabular}{r|llll}\n",
       " OTU & OverallMeanAbund & MaxAbund & MinAbund\\\\\n",
       " <chr> & <dbl> & <dbl> & <dbl>\\\\\n",
       "\\hline\n",
       "\t OTU2  & 0.06124741 & 0.1942210 & 8.071010e-04\\\\\n",
       "\t OTU1  & 0.05058680 & 0.2482875 & 5.827245e-05\\\\\n",
       "\t OTU3  & 0.04552510 & 0.1382869 & 0.000000e+00\\\\\n",
       "\t OTU10 & 0.04206690 & 0.2103345 & 0.000000e+00\\\\\n",
       "\t OTU8  & 0.03313128 & 0.1636249 & 0.000000e+00\\\\\n",
       "\t OTU4  & 0.02939538 & 0.1468503 & 0.000000e+00\\\\\n",
       "\\end{tabular}\n"
      ],
      "text/markdown": [
       "\n",
       "A tibble: 6 × 4\n",
       "\n",
       "| OTU &lt;chr&gt; | OverallMeanAbund &lt;dbl&gt; | MaxAbund &lt;dbl&gt; | MinAbund &lt;dbl&gt; |\n",
       "|---|---|---|---|\n",
       "| OTU2  | 0.06124741 | 0.1942210 | 8.071010e-04 |\n",
       "| OTU1  | 0.05058680 | 0.2482875 | 5.827245e-05 |\n",
       "| OTU3  | 0.04552510 | 0.1382869 | 0.000000e+00 |\n",
       "| OTU10 | 0.04206690 | 0.2103345 | 0.000000e+00 |\n",
       "| OTU8  | 0.03313128 | 0.1636249 | 0.000000e+00 |\n",
       "| OTU4  | 0.02939538 | 0.1468503 | 0.000000e+00 |\n",
       "\n"
      ],
      "text/plain": [
       "  OTU   OverallMeanAbund MaxAbund  MinAbund    \n",
       "1 OTU2  0.06124741       0.1942210 8.071010e-04\n",
       "2 OTU1  0.05058680       0.2482875 5.827245e-05\n",
       "3 OTU3  0.04552510       0.1382869 0.000000e+00\n",
       "4 OTU10 0.04206690       0.2103345 0.000000e+00\n",
       "5 OTU8  0.03313128       0.1636249 0.000000e+00\n",
       "6 OTU4  0.02939538       0.1468503 0.000000e+00"
      ]
     },
     "metadata": {},
     "output_type": "display_data"
    }
   ],
   "source": [
    "# This should take all the OTUs from each soil, and find their average abundance (across all samples in that soil)\n",
    "# Then, for each OTU, we look across the soils and see what the average average abundance is, plus the max and min\n",
    "# That allows us to include abundant taxa\n",
    "# Ok, but previously we were calculating the abundant taxa within just a single soil anyway\n",
    "# So, I guess this is not necessary...\n",
    "# But could reduce cutoff futher to be sure to include all possible taxa...\n",
    "AbundTaxa = psmelt(ps.norm)%>%\n",
    "    group_by(Soil_Trtmt,OTU)%>%\n",
    "    summarize(MeanAbund=mean(Abundance))%>%\n",
    "    group_by(OTU)%>%\n",
    "    summarize(OverallMeanAbund=mean(MeanAbund),MaxAbund=max(MeanAbund),MinAbund=min(MeanAbund))%>%\n",
    "    arrange(-OverallMeanAbund)\n",
    "head(AbundTaxa)"
   ]
  },
  {
   "cell_type": "code",
   "execution_count": 12,
   "metadata": {},
   "outputs": [],
   "source": [
    "# Make function to test for differential abundance\n",
    "# controlling for differential variance\n",
    "da_analysis = function(Factors){\n",
    "    Soil_Trtmt=paste(Factors[\"Soil_Trtmt\"])\n",
    "    Amdmt=paste(Factors[\"Amdmt\"])\n",
    "    ps.DA = prune_samples(sample_data(ps)$Soil_Trtmt==Soil_Trtmt & sample_data(ps)$Day %in% c(\"10\",\"26\") & (sample_data(ps)$Amdmt == Amdmt | sample_data(ps)$Amdmt == \"Soil\"),ps)\n",
    "    ps.DA = prune_taxa(taxa_sums(ps.DA)>0,ps.DA)\n",
    "    print(ps.DA)\n",
    "    AbundTaxa = taxa_names(filter_taxa(ps.norm, function(x) mean(x) > 0.0001, TRUE))\n",
    "    ps.DA = prune_taxa(AbundTaxa,ps.DA)\n",
    "    print(ps.DA)\n",
    "    dT = differentialTest(formula = ~ Day+Amdmt,\n",
    "    phi.formula = ~ Day+Amdmt,\n",
    "    formula_null = ~ Day,\n",
    "    phi.formula_null = ~ Day+Amdmt,\n",
    "    test = \"Wald\", boot = FALSE,\n",
    "    data = ps.DA,\n",
    "    fdr_cutoff = 0.05)\n",
    "    results=list(dT,Amdmt,Soil_Trtmt)\n",
    "    return(results)\n",
    "    }"
   ]
  },
  {
   "cell_type": "code",
   "execution_count": 13,
   "metadata": {},
   "outputs": [
    {
     "name": "stdout",
     "output_type": "stream",
     "text": [
      "phyloseq-class experiment-level object\n",
      "otu_table()   OTU Table:         [ 161 taxa and 16 samples ]\n",
      "sample_data() Sample Data:       [ 16 samples by 69 sample variables ]\n",
      "tax_table()   Taxonomy Table:    [ 161 taxa by 7 taxonomic ranks ]\n",
      "phyloseq-class experiment-level object\n",
      "otu_table()   OTU Table:         [ 61 taxa and 16 samples ]\n",
      "sample_data() Sample Data:       [ 16 samples by 69 sample variables ]\n",
      "tax_table()   Taxonomy Table:    [ 61 taxa by 7 taxonomic ranks ]\n",
      "phyloseq-class experiment-level object\n",
      "otu_table()   OTU Table:         [ 118 taxa and 16 samples ]\n",
      "sample_data() Sample Data:       [ 16 samples by 69 sample variables ]\n",
      "tax_table()   Taxonomy Table:    [ 118 taxa by 7 taxonomic ranks ]\n",
      "phyloseq-class experiment-level object\n",
      "otu_table()   OTU Table:         [ 64 taxa and 16 samples ]\n",
      "sample_data() Sample Data:       [ 16 samples by 69 sample variables ]\n",
      "tax_table()   Taxonomy Table:    [ 64 taxa by 7 taxonomic ranks ]\n",
      "phyloseq-class experiment-level object\n",
      "otu_table()   OTU Table:         [ 194 taxa and 16 samples ]\n",
      "sample_data() Sample Data:       [ 16 samples by 69 sample variables ]\n",
      "tax_table()   Taxonomy Table:    [ 194 taxa by 7 taxonomic ranks ]\n",
      "phyloseq-class experiment-level object\n",
      "otu_table()   OTU Table:         [ 78 taxa and 16 samples ]\n",
      "sample_data() Sample Data:       [ 16 samples by 69 sample variables ]\n",
      "tax_table()   Taxonomy Table:    [ 78 taxa by 7 taxonomic ranks ]\n",
      "phyloseq-class experiment-level object\n",
      "otu_table()   OTU Table:         [ 130 taxa and 16 samples ]\n",
      "sample_data() Sample Data:       [ 16 samples by 69 sample variables ]\n",
      "tax_table()   Taxonomy Table:    [ 130 taxa by 7 taxonomic ranks ]\n",
      "phyloseq-class experiment-level object\n",
      "otu_table()   OTU Table:         [ 59 taxa and 16 samples ]\n",
      "sample_data() Sample Data:       [ 16 samples by 69 sample variables ]\n",
      "tax_table()   Taxonomy Table:    [ 59 taxa by 7 taxonomic ranks ]\n",
      "phyloseq-class experiment-level object\n",
      "otu_table()   OTU Table:         [ 126 taxa and 16 samples ]\n",
      "sample_data() Sample Data:       [ 16 samples by 69 sample variables ]\n",
      "tax_table()   Taxonomy Table:    [ 126 taxa by 7 taxonomic ranks ]\n",
      "phyloseq-class experiment-level object\n",
      "otu_table()   OTU Table:         [ 65 taxa and 16 samples ]\n",
      "sample_data() Sample Data:       [ 16 samples by 69 sample variables ]\n",
      "tax_table()   Taxonomy Table:    [ 65 taxa by 7 taxonomic ranks ]\n",
      "phyloseq-class experiment-level object\n",
      "otu_table()   OTU Table:         [ 220 taxa and 16 samples ]\n",
      "sample_data() Sample Data:       [ 16 samples by 69 sample variables ]\n",
      "tax_table()   Taxonomy Table:    [ 220 taxa by 7 taxonomic ranks ]\n",
      "phyloseq-class experiment-level object\n",
      "otu_table()   OTU Table:         [ 70 taxa and 16 samples ]\n",
      "sample_data() Sample Data:       [ 16 samples by 69 sample variables ]\n",
      "tax_table()   Taxonomy Table:    [ 70 taxa by 7 taxonomic ranks ]\n",
      "phyloseq-class experiment-level object\n",
      "otu_table()   OTU Table:         [ 188 taxa and 16 samples ]\n",
      "sample_data() Sample Data:       [ 16 samples by 69 sample variables ]\n",
      "tax_table()   Taxonomy Table:    [ 188 taxa by 7 taxonomic ranks ]\n",
      "phyloseq-class experiment-level object\n",
      "otu_table()   OTU Table:         [ 76 taxa and 16 samples ]\n",
      "sample_data() Sample Data:       [ 16 samples by 69 sample variables ]\n",
      "tax_table()   Taxonomy Table:    [ 76 taxa by 7 taxonomic ranks ]\n",
      "phyloseq-class experiment-level object\n",
      "otu_table()   OTU Table:         [ 248 taxa and 16 samples ]\n",
      "sample_data() Sample Data:       [ 16 samples by 69 sample variables ]\n",
      "tax_table()   Taxonomy Table:    [ 248 taxa by 7 taxonomic ranks ]\n",
      "phyloseq-class experiment-level object\n",
      "otu_table()   OTU Table:         [ 81 taxa and 16 samples ]\n",
      "sample_data() Sample Data:       [ 16 samples by 69 sample variables ]\n",
      "tax_table()   Taxonomy Table:    [ 81 taxa by 7 taxonomic ranks ]\n",
      "phyloseq-class experiment-level object\n",
      "otu_table()   OTU Table:         [ 179 taxa and 16 samples ]\n",
      "sample_data() Sample Data:       [ 16 samples by 69 sample variables ]\n",
      "tax_table()   Taxonomy Table:    [ 179 taxa by 7 taxonomic ranks ]\n",
      "phyloseq-class experiment-level object\n",
      "otu_table()   OTU Table:         [ 65 taxa and 16 samples ]\n",
      "sample_data() Sample Data:       [ 16 samples by 69 sample variables ]\n",
      "tax_table()   Taxonomy Table:    [ 65 taxa by 7 taxonomic ranks ]\n",
      "phyloseq-class experiment-level object\n",
      "otu_table()   OTU Table:         [ 150 taxa and 16 samples ]\n",
      "sample_data() Sample Data:       [ 16 samples by 69 sample variables ]\n",
      "tax_table()   Taxonomy Table:    [ 150 taxa by 7 taxonomic ranks ]\n",
      "phyloseq-class experiment-level object\n",
      "otu_table()   OTU Table:         [ 66 taxa and 16 samples ]\n",
      "sample_data() Sample Data:       [ 16 samples by 69 sample variables ]\n",
      "tax_table()   Taxonomy Table:    [ 66 taxa by 7 taxonomic ranks ]\n"
     ]
    }
   ],
   "source": [
    "results = apply(Factors[c(1:10),],1,da_analysis)\n",
    "# This produces a series of items with the corncob results for each soil/amendment combination"
   ]
  },
  {
   "cell_type": "code",
   "execution_count": 14,
   "metadata": {},
   "outputs": [],
   "source": [
    "#saveRDS(results,\"../data/CornellITS2/DA.results.ITS2\")\n",
    "#saveRDS(results,\"../data/CornellITS2/DA.results.ITS2.0.001\")\n",
    "#saveRDS(results,\"../data/CornellITS2/DA.results.ITS2.0.0001\")"
   ]
  },
  {
   "cell_type": "code",
   "execution_count": 15,
   "metadata": {},
   "outputs": [
    {
     "data": {
      "text/html": [
       "<ol class=list-inline>\n",
       "\t<li>'OTU1'</li>\n",
       "\t<li>'OTU10'</li>\n",
       "\t<li>'OTU105'</li>\n",
       "\t<li>'OTU20'</li>\n",
       "\t<li>'OTU4'</li>\n",
       "\t<li>'OTU576'</li>\n",
       "\t<li>'OTU98'</li>\n",
       "</ol>\n"
      ],
      "text/latex": [
       "\\begin{enumerate*}\n",
       "\\item 'OTU1'\n",
       "\\item 'OTU10'\n",
       "\\item 'OTU105'\n",
       "\\item 'OTU20'\n",
       "\\item 'OTU4'\n",
       "\\item 'OTU576'\n",
       "\\item 'OTU98'\n",
       "\\end{enumerate*}\n"
      ],
      "text/markdown": [
       "1. 'OTU1'\n",
       "2. 'OTU10'\n",
       "3. 'OTU105'\n",
       "4. 'OTU20'\n",
       "5. 'OTU4'\n",
       "6. 'OTU576'\n",
       "7. 'OTU98'\n",
       "\n",
       "\n"
      ],
      "text/plain": [
       "[1] \"OTU1\"   \"OTU10\"  \"OTU105\" \"OTU20\"  \"OTU4\"   \"OTU576\" \"OTU98\" "
      ]
     },
     "metadata": {},
     "output_type": "display_data"
    }
   ],
   "source": [
    "cutoff=0.05\n",
    "r = lapply(results, function(l) l[[1]])\n",
    "sigOTUs = c(\n",
    "row.names(tax_table(r[[1]]$data)[!is.na(r[[1]]$p_fdr) & r[[1]]$p_fdr<cutoff]),\n",
    "#row.names(tax_table(r[[2]]$data)[!is.na(r[[2]]$p_fdr) & r[[2]]$p_fdr<cutoff]),\n",
    "row.names(tax_table(r[[3]]$data)[!is.na(r[[3]]$p_fdr) & r[[3]]$p_fdr<cutoff]),\n",
    "row.names(tax_table(r[[4]]$data)[!is.na(r[[4]]$p_fdr) & r[[4]]$p_fdr<cutoff]),\n",
    "row.names(tax_table(r[[5]]$data)[!is.na(r[[5]]$p_fdr) & r[[5]]$p_fdr<cutoff]),\n",
    "#row.names(tax_table(r[[6]]$data)[!is.na(r[[6]]$p_fdr) & r[[6]]$p_fdr<cutoff]), # No significant taxa\n",
    "#row.names(tax_table(r[[7]]$data)[!is.na(r[[7]]$p_fdr) & r[[7]]$p_fdr<cutoff]),\n",
    "#row.names(tax_table(r[[8]]$data)[!is.na(r[[8]]$p_fdr) & r[[8]]$p_fdr<cutoff]),\n",
    "row.names(tax_table(r[[9]]$data)[!is.na(r[[9]]$p_fdr) & r[[9]]$p_fdr<cutoff]),\n",
    "row.names(tax_table(r[[10]]$data)[!is.na(r[[10]]$p_fdr) & r[[10]]$p_fdr<cutoff]))\n",
    "levels(as.factor(sigOTUs))"
   ]
  },
  {
   "cell_type": "code",
   "execution_count": 16,
   "metadata": {},
   "outputs": [],
   "source": [
    "# For each list, and for each significant taxon in that list, extract the mu coefficients and the p_fdr\n",
    "# Currently not running for 2,6,7, and 8 because no significant taxa\n",
    "\n",
    "df = data.frame()\n",
    "for (i in c(1,3,4,5,9,10)){\n",
    "    r = results[[i]][[1]]\n",
    "    Amdmt = try(results[[i]][[2]])\n",
    "    Soil = try(results[[i]][[3]])\n",
    "    for (j in 1:length(r$significant_taxa)){\n",
    "        sig_models = try(r$significant_models[[j]],silent=TRUE)\n",
    "        mu = try(data.frame(t(as.matrix(sig_models$coefficients[3,]))),silent=TRUE)\n",
    "        p_fdr = try(r$p_fdr[r$significant_taxa][j],silent=TRUE)\n",
    "        mu$p_fdr = try(p_fdr,silent=TRUE)\n",
    "        mu$Amdmt = try(Amdmt,silent=TRUE)\n",
    "        mu$Soil = try(Soil,silent=TRUE)\n",
    "        row.names(mu)= try(paste(row.names(try(data.frame(p_fdr))),\"_\",i,sep=\"\"),silent=TRUE)\n",
    "        df = try(rbind(df,mu))\n",
    "    }\n",
    "}"
   ]
  },
  {
   "cell_type": "code",
   "execution_count": 17,
   "metadata": {},
   "outputs": [
    {
     "data": {
      "text/html": [
       "<ol class=list-inline>\n",
       "\t<li>7</li>\n",
       "\t<li>8</li>\n",
       "</ol>\n"
      ],
      "text/latex": [
       "\\begin{enumerate*}\n",
       "\\item 7\n",
       "\\item 8\n",
       "\\end{enumerate*}\n"
      ],
      "text/markdown": [
       "1. 7\n",
       "2. 8\n",
       "\n",
       "\n"
      ],
      "text/plain": [
       "[1] 7 8"
      ]
     },
     "metadata": {},
     "output_type": "display_data"
    },
    {
     "data": {
      "text/html": [
       "<table>\n",
       "<caption>A data.frame: 6 × 8</caption>\n",
       "<thead>\n",
       "\t<tr><th></th><th scope=col>log2FC</th><th scope=col>se</th><th scope=col>t</th><th scope=col>p</th><th scope=col>p_fdr</th><th scope=col>Amdmt</th><th scope=col>Soil_Trtmt</th><th scope=col>OTU</th></tr>\n",
       "\t<tr><th></th><th scope=col>&lt;dbl&gt;</th><th scope=col>&lt;dbl&gt;</th><th scope=col>&lt;dbl&gt;</th><th scope=col>&lt;dbl&gt;</th><th scope=col>&lt;dbl&gt;</th><th scope=col>&lt;chr&gt;</th><th scope=col>&lt;chr&gt;</th><th scope=col>&lt;chr&gt;</th></tr>\n",
       "</thead>\n",
       "<tbody>\n",
       "\t<tr><th scope=row>OTU1_1</th><td>-2.703783</td><td>0.8330667</td><td> -3.245578</td><td>8.786032e-03</td><td>1.758189e-02</td><td>OM  </td><td>Hawaii  </td><td>OTU1_1  </td></tr>\n",
       "\t<tr><th scope=row>OTU4_3</th><td>-3.200196</td><td>0.3004376</td><td>-10.651784</td><td>8.885044e-07</td><td>1.539495e-25</td><td>OM  </td><td>Utah    </td><td>OTU4_3  </td></tr>\n",
       "\t<tr><th scope=row>OTU10_4</th><td>-4.228979</td><td>1.2382561</td><td> -3.415270</td><td>6.599622e-03</td><td>7.646252e-03</td><td>OM  </td><td>New York</td><td>OTU10_4 </td></tr>\n",
       "\t<tr><th scope=row>OTU20_5</th><td>-7.136893</td><td>1.9128196</td><td> -3.731085</td><td>3.903379e-03</td><td>1.715912e-03</td><td>OM  </td><td>Florida </td><td>OTU20_5 </td></tr>\n",
       "\t<tr><th scope=row>OTU98_9</th><td>-8.072926</td><td>0.7217836</td><td>-11.184691</td><td>5.645628e-07</td><td>1.647604e-27</td><td>PyOM</td><td>New York</td><td>OTU98_9 </td></tr>\n",
       "\t<tr><th scope=row>OTU576_9</th><td> 4.443103</td><td>1.3989090</td><td>  3.176120</td><td>9.884364e-03</td><td>2.537406e-02</td><td>PyOM</td><td>New York</td><td>OTU576_9</td></tr>\n",
       "</tbody>\n",
       "</table>\n"
      ],
      "text/latex": [
       "A data.frame: 6 × 8\n",
       "\\begin{tabular}{r|llllllll}\n",
       "  & log2FC & se & t & p & p\\_fdr & Amdmt & Soil\\_Trtmt & OTU\\\\\n",
       "  & <dbl> & <dbl> & <dbl> & <dbl> & <dbl> & <chr> & <chr> & <chr>\\\\\n",
       "\\hline\n",
       "\tOTU1\\_1 & -2.703783 & 0.8330667 &  -3.245578 & 8.786032e-03 & 1.758189e-02 & OM   & Hawaii   & OTU1\\_1  \\\\\n",
       "\tOTU4\\_3 & -3.200196 & 0.3004376 & -10.651784 & 8.885044e-07 & 1.539495e-25 & OM   & Utah     & OTU4\\_3  \\\\\n",
       "\tOTU10\\_4 & -4.228979 & 1.2382561 &  -3.415270 & 6.599622e-03 & 7.646252e-03 & OM   & New York & OTU10\\_4 \\\\\n",
       "\tOTU20\\_5 & -7.136893 & 1.9128196 &  -3.731085 & 3.903379e-03 & 1.715912e-03 & OM   & Florida  & OTU20\\_5 \\\\\n",
       "\tOTU98\\_9 & -8.072926 & 0.7217836 & -11.184691 & 5.645628e-07 & 1.647604e-27 & PyOM & New York & OTU98\\_9 \\\\\n",
       "\tOTU576\\_9 &  4.443103 & 1.3989090 &   3.176120 & 9.884364e-03 & 2.537406e-02 & PyOM & New York & OTU576\\_9\\\\\n",
       "\\end{tabular}\n"
      ],
      "text/markdown": [
       "\n",
       "A data.frame: 6 × 8\n",
       "\n",
       "| <!--/--> | log2FC &lt;dbl&gt; | se &lt;dbl&gt; | t &lt;dbl&gt; | p &lt;dbl&gt; | p_fdr &lt;dbl&gt; | Amdmt &lt;chr&gt; | Soil_Trtmt &lt;chr&gt; | OTU &lt;chr&gt; |\n",
       "|---|---|---|---|---|---|---|---|---|\n",
       "| OTU1_1 | -2.703783 | 0.8330667 |  -3.245578 | 8.786032e-03 | 1.758189e-02 | OM   | Hawaii   | OTU1_1   |\n",
       "| OTU4_3 | -3.200196 | 0.3004376 | -10.651784 | 8.885044e-07 | 1.539495e-25 | OM   | Utah     | OTU4_3   |\n",
       "| OTU10_4 | -4.228979 | 1.2382561 |  -3.415270 | 6.599622e-03 | 7.646252e-03 | OM   | New York | OTU10_4  |\n",
       "| OTU20_5 | -7.136893 | 1.9128196 |  -3.731085 | 3.903379e-03 | 1.715912e-03 | OM   | Florida  | OTU20_5  |\n",
       "| OTU98_9 | -8.072926 | 0.7217836 | -11.184691 | 5.645628e-07 | 1.647604e-27 | PyOM | New York | OTU98_9  |\n",
       "| OTU576_9 |  4.443103 | 1.3989090 |   3.176120 | 9.884364e-03 | 2.537406e-02 | PyOM | New York | OTU576_9 |\n",
       "\n"
      ],
      "text/plain": [
       "         log2FC    se        t          p            p_fdr        Amdmt\n",
       "OTU1_1   -2.703783 0.8330667  -3.245578 8.786032e-03 1.758189e-02 OM   \n",
       "OTU4_3   -3.200196 0.3004376 -10.651784 8.885044e-07 1.539495e-25 OM   \n",
       "OTU10_4  -4.228979 1.2382561  -3.415270 6.599622e-03 7.646252e-03 OM   \n",
       "OTU20_5  -7.136893 1.9128196  -3.731085 3.903379e-03 1.715912e-03 OM   \n",
       "OTU98_9  -8.072926 0.7217836 -11.184691 5.645628e-07 1.647604e-27 PyOM \n",
       "OTU576_9  4.443103 1.3989090   3.176120 9.884364e-03 2.537406e-02 PyOM \n",
       "         Soil_Trtmt OTU     \n",
       "OTU1_1   Hawaii     OTU1_1  \n",
       "OTU4_3   Utah       OTU4_3  \n",
       "OTU10_4  New York   OTU10_4 \n",
       "OTU20_5  Florida    OTU20_5 \n",
       "OTU98_9  New York   OTU98_9 \n",
       "OTU576_9 New York   OTU576_9"
      ]
     },
     "metadata": {},
     "output_type": "display_data"
    }
   ],
   "source": [
    "df$OTU = row.names(df)\n",
    "colnames(df) = c(\"log2FC\",\"se\",\"t\",\"p\",\"p_fdr\",\"Amdmt\",\"Soil_Trtmt\",\"OTU\")\n",
    "dim(df)\n",
    "head(df)\n",
    "# Final summary of results - actually I think this is all we want."
   ]
  },
  {
   "cell_type": "code",
   "execution_count": 18,
   "metadata": {},
   "outputs": [
    {
     "data": {
      "text/html": [
       "<ol class=list-inline>\n",
       "\t<li>'OTU1'</li>\n",
       "\t<li>'OTU4'</li>\n",
       "\t<li>'OTU10'</li>\n",
       "\t<li>'OTU20'</li>\n",
       "\t<li>'OTU98'</li>\n",
       "\t<li>'OTU576'</li>\n",
       "\t<li>'OTU1050'</li>\n",
       "</ol>\n"
      ],
      "text/latex": [
       "\\begin{enumerate*}\n",
       "\\item 'OTU1'\n",
       "\\item 'OTU4'\n",
       "\\item 'OTU10'\n",
       "\\item 'OTU20'\n",
       "\\item 'OTU98'\n",
       "\\item 'OTU576'\n",
       "\\item 'OTU1050'\n",
       "\\end{enumerate*}\n"
      ],
      "text/markdown": [
       "1. 'OTU1'\n",
       "2. 'OTU4'\n",
       "3. 'OTU10'\n",
       "4. 'OTU20'\n",
       "5. 'OTU98'\n",
       "6. 'OTU576'\n",
       "7. 'OTU1050'\n",
       "\n",
       "\n"
      ],
      "text/plain": [
       "[1] \"OTU1\"    \"OTU4\"    \"OTU10\"   \"OTU20\"   \"OTU98\"   \"OTU576\"  \"OTU1050\""
      ]
     },
     "metadata": {},
     "output_type": "display_data"
    }
   ],
   "source": [
    "df$OTU = row.names(df)\n",
    "df$OTU = sub(\"_[0-9]\",\"\",df$OTU)\n",
    "df$OTU"
   ]
  },
  {
   "cell_type": "code",
   "execution_count": 19,
   "metadata": {},
   "outputs": [],
   "source": [
    "SigOTUs = levels(as.factor(df$OTU))\n",
    "pruned = prune_taxa(SigOTUs,ps.norm)\n",
    "taxtab = data.frame(tax_table(pruned))\n",
    "taxtab$OTU = c(taxa_names(pruned))\n",
    "joined = merge(taxtab,df,by=c(\"OTU\"))\n",
    "#head(joined)"
   ]
  },
  {
   "cell_type": "code",
   "execution_count": 20,
   "metadata": {},
   "outputs": [
    {
     "data": {
      "text/html": [
       "<ol class=list-inline>\n",
       "\t<li>'Saitozyma'</li>\n",
       "\t<li>'Fusarium'</li>\n",
       "\t<li>'Tulostoma'</li>\n",
       "\t<li>'Umbelopsis'</li>\n",
       "\t<li>'Alternaria'</li>\n",
       "\t<li>'Spizellomyces'</li>\n",
       "</ol>\n"
      ],
      "text/latex": [
       "\\begin{enumerate*}\n",
       "\\item 'Saitozyma'\n",
       "\\item 'Fusarium'\n",
       "\\item 'Tulostoma'\n",
       "\\item 'Umbelopsis'\n",
       "\\item 'Alternaria'\n",
       "\\item 'Spizellomyces'\n",
       "\\end{enumerate*}\n"
      ],
      "text/markdown": [
       "1. 'Saitozyma'\n",
       "2. 'Fusarium'\n",
       "3. 'Tulostoma'\n",
       "4. 'Umbelopsis'\n",
       "5. 'Alternaria'\n",
       "6. 'Spizellomyces'\n",
       "\n",
       "\n"
      ],
      "text/plain": [
       "[1] \"Saitozyma\"     \"Fusarium\"      \"Tulostoma\"     \"Umbelopsis\"   \n",
       "[5] \"Alternaria\"    \"Spizellomyces\""
      ]
     },
     "metadata": {},
     "output_type": "display_data"
    }
   ],
   "source": [
    "ignoreList = c(\"\",\"uncultured\",\"uncultured bacterium\",\"uncultured soil bacterium\",\"uncultured forest soil bacterium\",\"uncultured actinobacterium\",\"uncultured planctomycete\")\n",
    "\n",
    "joined$Phylum = ifelse(joined$Phylum==\"WPS-2\",\"Eremiobacterota (WPS-2)\",paste(joined$Phylum))\n",
    "\n",
    "joined = joined %>%\n",
    "    mutate(Name = ifelse(Genus %in% ignoreList |is.na(Genus),ifelse(Family %in% ignoreList |is.na(Family),ifelse(Class %in% ignoreList |is.na(Class),ifelse(Phylum %in% ignoreList |is.na(Phylum),paste(OTU),\n",
    "                            paste(Phylum)),paste(Class)),paste(Family)),paste(Genus)))#%>%\n",
    "    #mutate(Name = paste(Name,\"\\n(OTU\",OTU,\")\"),sep=\"\")\n",
    "head(joined$Name)"
   ]
  },
  {
   "cell_type": "code",
   "execution_count": 21,
   "metadata": {},
   "outputs": [
    {
     "data": {
      "text/html": [
       "<table>\n",
       "<caption>A data.frame: 6 × 16</caption>\n",
       "<thead>\n",
       "\t<tr><th scope=col>OTU</th><th scope=col>Kingdom</th><th scope=col>Phylum</th><th scope=col>Class</th><th scope=col>Order</th><th scope=col>Family</th><th scope=col>Genus</th><th scope=col>Species</th><th scope=col>log2FC</th><th scope=col>se</th><th scope=col>t</th><th scope=col>p</th><th scope=col>p_fdr</th><th scope=col>Amdmt</th><th scope=col>Soil_Trtmt</th><th scope=col>Name</th></tr>\n",
       "\t<tr><th scope=col>&lt;chr&gt;</th><th scope=col>&lt;fct&gt;</th><th scope=col>&lt;chr&gt;</th><th scope=col>&lt;fct&gt;</th><th scope=col>&lt;fct&gt;</th><th scope=col>&lt;fct&gt;</th><th scope=col>&lt;fct&gt;</th><th scope=col>&lt;fct&gt;</th><th scope=col>&lt;dbl&gt;</th><th scope=col>&lt;dbl&gt;</th><th scope=col>&lt;dbl&gt;</th><th scope=col>&lt;dbl&gt;</th><th scope=col>&lt;dbl&gt;</th><th scope=col>&lt;chr&gt;</th><th scope=col>&lt;chr&gt;</th><th scope=col>&lt;chr&gt;</th></tr>\n",
       "</thead>\n",
       "<tbody>\n",
       "\t<tr><td>OTU1   </td><td>Fungi</td><td>Basidiomycota  </td><td>Tremellomycetes   </td><td>Tremellales      </td><td>Trimorphomycetaceae</td><td>Saitozyma    </td><td>podzolica        </td><td>-2.703783</td><td>0.8330667</td><td> -3.245578</td><td>8.786032e-03</td><td>1.758189e-02</td><td>OM  </td><td>Hawaii  </td><td>Saitozyma    </td></tr>\n",
       "\t<tr><td>OTU10  </td><td>Fungi</td><td>Ascomycota     </td><td>Sordariomycetes   </td><td>Hypocreales      </td><td>Nectriaceae        </td><td>Fusarium     </td><td>oxysporum        </td><td>-4.228979</td><td>1.2382561</td><td> -3.415270</td><td>6.599622e-03</td><td>7.646252e-03</td><td>OM  </td><td>New York</td><td>Fusarium     </td></tr>\n",
       "\t<tr><td>OTU1050</td><td>Fungi</td><td>Basidiomycota  </td><td>Agaricomycetes    </td><td>Agaricales       </td><td>Agaricaceae        </td><td>Tulostoma    </td><td>kotlabae         </td><td>-6.520177</td><td>2.0058201</td><td> -3.250629</td><td>8.711207e-03</td><td>2.533298e-02</td><td>PyOM</td><td>Florida </td><td>Tulostoma    </td></tr>\n",
       "\t<tr><td>OTU20  </td><td>Fungi</td><td>Mucoromycota   </td><td>Umbelopsidomycetes</td><td>Umbelopsidales   </td><td>Umbelopsidaceae    </td><td>Umbelopsis   </td><td>dimorpha         </td><td>-7.136893</td><td>1.9128196</td><td> -3.731085</td><td>3.903379e-03</td><td>1.715912e-03</td><td>OM  </td><td>Florida </td><td>Umbelopsis   </td></tr>\n",
       "\t<tr><td>OTU4   </td><td>Fungi</td><td>Ascomycota     </td><td>Dothideomycetes   </td><td>Pleosporales     </td><td>Pleosporaceae      </td><td>Alternaria   </td><td>chlamydosporigena</td><td>-3.200196</td><td>0.3004376</td><td>-10.651784</td><td>8.885044e-07</td><td>1.539495e-25</td><td>OM  </td><td>Utah    </td><td>Alternaria   </td></tr>\n",
       "\t<tr><td>OTU576 </td><td>Fungi</td><td>Chytridiomycota</td><td>Spizellomycetes   </td><td>Spizellomycetales</td><td>Spizellomycetaceae </td><td>Spizellomyces</td><td>NA               </td><td> 4.443103</td><td>1.3989090</td><td>  3.176120</td><td>9.884364e-03</td><td>2.537406e-02</td><td>PyOM</td><td>New York</td><td>Spizellomyces</td></tr>\n",
       "</tbody>\n",
       "</table>\n"
      ],
      "text/latex": [
       "A data.frame: 6 × 16\n",
       "\\begin{tabular}{r|llllllllllllllll}\n",
       " OTU & Kingdom & Phylum & Class & Order & Family & Genus & Species & log2FC & se & t & p & p\\_fdr & Amdmt & Soil\\_Trtmt & Name\\\\\n",
       " <chr> & <fct> & <chr> & <fct> & <fct> & <fct> & <fct> & <fct> & <dbl> & <dbl> & <dbl> & <dbl> & <dbl> & <chr> & <chr> & <chr>\\\\\n",
       "\\hline\n",
       "\t OTU1    & Fungi & Basidiomycota   & Tremellomycetes    & Tremellales       & Trimorphomycetaceae & Saitozyma     & podzolica         & -2.703783 & 0.8330667 &  -3.245578 & 8.786032e-03 & 1.758189e-02 & OM   & Hawaii   & Saitozyma    \\\\\n",
       "\t OTU10   & Fungi & Ascomycota      & Sordariomycetes    & Hypocreales       & Nectriaceae         & Fusarium      & oxysporum         & -4.228979 & 1.2382561 &  -3.415270 & 6.599622e-03 & 7.646252e-03 & OM   & New York & Fusarium     \\\\\n",
       "\t OTU1050 & Fungi & Basidiomycota   & Agaricomycetes     & Agaricales        & Agaricaceae         & Tulostoma     & kotlabae          & -6.520177 & 2.0058201 &  -3.250629 & 8.711207e-03 & 2.533298e-02 & PyOM & Florida  & Tulostoma    \\\\\n",
       "\t OTU20   & Fungi & Mucoromycota    & Umbelopsidomycetes & Umbelopsidales    & Umbelopsidaceae     & Umbelopsis    & dimorpha          & -7.136893 & 1.9128196 &  -3.731085 & 3.903379e-03 & 1.715912e-03 & OM   & Florida  & Umbelopsis   \\\\\n",
       "\t OTU4    & Fungi & Ascomycota      & Dothideomycetes    & Pleosporales      & Pleosporaceae       & Alternaria    & chlamydosporigena & -3.200196 & 0.3004376 & -10.651784 & 8.885044e-07 & 1.539495e-25 & OM   & Utah     & Alternaria   \\\\\n",
       "\t OTU576  & Fungi & Chytridiomycota & Spizellomycetes    & Spizellomycetales & Spizellomycetaceae  & Spizellomyces & NA                &  4.443103 & 1.3989090 &   3.176120 & 9.884364e-03 & 2.537406e-02 & PyOM & New York & Spizellomyces\\\\\n",
       "\\end{tabular}\n"
      ],
      "text/markdown": [
       "\n",
       "A data.frame: 6 × 16\n",
       "\n",
       "| OTU &lt;chr&gt; | Kingdom &lt;fct&gt; | Phylum &lt;chr&gt; | Class &lt;fct&gt; | Order &lt;fct&gt; | Family &lt;fct&gt; | Genus &lt;fct&gt; | Species &lt;fct&gt; | log2FC &lt;dbl&gt; | se &lt;dbl&gt; | t &lt;dbl&gt; | p &lt;dbl&gt; | p_fdr &lt;dbl&gt; | Amdmt &lt;chr&gt; | Soil_Trtmt &lt;chr&gt; | Name &lt;chr&gt; |\n",
       "|---|---|---|---|---|---|---|---|---|---|---|---|---|---|---|---|\n",
       "| OTU1    | Fungi | Basidiomycota   | Tremellomycetes    | Tremellales       | Trimorphomycetaceae | Saitozyma     | podzolica         | -2.703783 | 0.8330667 |  -3.245578 | 8.786032e-03 | 1.758189e-02 | OM   | Hawaii   | Saitozyma     |\n",
       "| OTU10   | Fungi | Ascomycota      | Sordariomycetes    | Hypocreales       | Nectriaceae         | Fusarium      | oxysporum         | -4.228979 | 1.2382561 |  -3.415270 | 6.599622e-03 | 7.646252e-03 | OM   | New York | Fusarium      |\n",
       "| OTU1050 | Fungi | Basidiomycota   | Agaricomycetes     | Agaricales        | Agaricaceae         | Tulostoma     | kotlabae          | -6.520177 | 2.0058201 |  -3.250629 | 8.711207e-03 | 2.533298e-02 | PyOM | Florida  | Tulostoma     |\n",
       "| OTU20   | Fungi | Mucoromycota    | Umbelopsidomycetes | Umbelopsidales    | Umbelopsidaceae     | Umbelopsis    | dimorpha          | -7.136893 | 1.9128196 |  -3.731085 | 3.903379e-03 | 1.715912e-03 | OM   | Florida  | Umbelopsis    |\n",
       "| OTU4    | Fungi | Ascomycota      | Dothideomycetes    | Pleosporales      | Pleosporaceae       | Alternaria    | chlamydosporigena | -3.200196 | 0.3004376 | -10.651784 | 8.885044e-07 | 1.539495e-25 | OM   | Utah     | Alternaria    |\n",
       "| OTU576  | Fungi | Chytridiomycota | Spizellomycetes    | Spizellomycetales | Spizellomycetaceae  | Spizellomyces | NA                |  4.443103 | 1.3989090 |   3.176120 | 9.884364e-03 | 2.537406e-02 | PyOM | New York | Spizellomyces |\n",
       "\n"
      ],
      "text/plain": [
       "  OTU     Kingdom Phylum          Class              Order            \n",
       "1 OTU1    Fungi   Basidiomycota   Tremellomycetes    Tremellales      \n",
       "2 OTU10   Fungi   Ascomycota      Sordariomycetes    Hypocreales      \n",
       "3 OTU1050 Fungi   Basidiomycota   Agaricomycetes     Agaricales       \n",
       "4 OTU20   Fungi   Mucoromycota    Umbelopsidomycetes Umbelopsidales   \n",
       "5 OTU4    Fungi   Ascomycota      Dothideomycetes    Pleosporales     \n",
       "6 OTU576  Fungi   Chytridiomycota Spizellomycetes    Spizellomycetales\n",
       "  Family              Genus         Species           log2FC    se       \n",
       "1 Trimorphomycetaceae Saitozyma     podzolica         -2.703783 0.8330667\n",
       "2 Nectriaceae         Fusarium      oxysporum         -4.228979 1.2382561\n",
       "3 Agaricaceae         Tulostoma     kotlabae          -6.520177 2.0058201\n",
       "4 Umbelopsidaceae     Umbelopsis    dimorpha          -7.136893 1.9128196\n",
       "5 Pleosporaceae       Alternaria    chlamydosporigena -3.200196 0.3004376\n",
       "6 Spizellomycetaceae  Spizellomyces NA                 4.443103 1.3989090\n",
       "  t          p            p_fdr        Amdmt Soil_Trtmt Name         \n",
       "1  -3.245578 8.786032e-03 1.758189e-02 OM    Hawaii     Saitozyma    \n",
       "2  -3.415270 6.599622e-03 7.646252e-03 OM    New York   Fusarium     \n",
       "3  -3.250629 8.711207e-03 2.533298e-02 PyOM  Florida    Tulostoma    \n",
       "4  -3.731085 3.903379e-03 1.715912e-03 OM    Florida    Umbelopsis   \n",
       "5 -10.651784 8.885044e-07 1.539495e-25 OM    Utah       Alternaria   \n",
       "6   3.176120 9.884364e-03 2.537406e-02 PyOM  New York   Spizellomyces"
      ]
     },
     "metadata": {},
     "output_type": "display_data"
    }
   ],
   "source": [
    "head(joined)"
   ]
  },
  {
   "cell_type": "code",
   "execution_count": 22,
   "metadata": {},
   "outputs": [],
   "source": [
    "TaxonOrder = joined %>%\n",
    "    select(Phylum,Genus,OTU,Name)%>%\n",
    "    arrange(Phylum)\n",
    "OTUOrder = unique(TaxonOrder$OTU)\n",
    "GenusOrder = unique(TaxonOrder$Genus)\n",
    "NameOrder = unique(TaxonOrder$Name)\n",
    "joined$OTU = factor(joined$OTU, levels = OTUOrder)\n",
    "joined$Genus = factor(joined$Genus, levels = GenusOrder)\n",
    "joined$Name = factor(joined$Name, levels = NameOrder)\n",
    "joined$Soil_Trtmt = factor(joined$Soil_Trtmt, levels = c(\"Hawaii\",\"Alaska\",\"Utah\",\"New York\",\"Florida\"))\n",
    "\n",
    "levels(joined$Soil_Trtmt)[levels(joined$Soil_Trtmt)==\"Hawaii\"] = \"Hydrudand\"\n",
    "levels(joined$Soil_Trtmt)[levels(joined$Soil_Trtmt)==\"New York\"] = \"Fragiudept\"\n",
    "levels(joined$Soil_Trtmt)[levels(joined$Soil_Trtmt)==\"Alaska\"] = \"Cryaquept\"\n",
    "levels(joined$Soil_Trtmt)[levels(joined$Soil_Trtmt)==\"Utah\"] = \"Haplocalcid\"\n",
    "levels(joined$Soil_Trtmt)[levels(joined$Soil_Trtmt)==\"Florida\"] = \"Quartzipsamment\"\n",
    "\n",
    "joined.plot = joined %>%\n",
    "    filter(log2FC>0)\n",
    "\n",
    "joined.plot2 = joined %>%\n",
    "    filter(log2FC<0)"
   ]
  },
  {
   "cell_type": "code",
   "execution_count": 26,
   "metadata": {},
   "outputs": [
    {
     "data": {
      "image/png": "[encoded data removed]",
      "text/plain": [
       "plot without title"
      ]
     },
     "metadata": {},
     "output_type": "display_data"
    }
   ],
   "source": [
    "options(repr.plot.width=6, repr.plot.height=4)\n",
    "\n",
    "#palette=brewer.pal(9,\"Set1\")\n",
    "\n",
    "p = ggplot(joined.plot,aes(y=log2FC,color=Phylum,x=Name))\n",
    "p = p + theme_bw()\n",
    "p = p + geom_point() + facet_grid(~Amdmt~Soil_Trtmt,scales=\"free_x\",space=\"free_x\")\n",
    "p = p + geom_errorbar(aes(ymax=log2FC+1.96*se,ymin=log2FC-1.96*se),width=0.2)\n",
    "p = p + theme(axis.text.x=element_text(angle=90,size=7,face=\"italic\",vjust=0,hjust=1))\n",
    "p = p + theme(strip.text.x=element_text(angle=90,size=10))\n",
    "p = p + ylab(\"log2-fold change in relative\\nabundance with amendment\") + xlab(\"\")\n",
    "#p = p + scale_color_manual(values=palette)\n",
    "p\n",
    "\n",
    "# This might be about what we want - the last question would be a relative abundance - sized by that\n",
    "# Could size by baseline relative abundance.\n",
    "# Also need to decide on how/whether to readjust p-values across soils\n",
    "# Overall, pretty good, though - conclusion - some taxa are consistent reponders"
   ]
  },
  {
   "cell_type": "code",
   "execution_count": null,
   "metadata": {},
   "outputs": [],
   "source": []
  },
  {
   "cell_type": "code",
   "execution_count": null,
   "metadata": {},
   "outputs": [],
   "source": []
  },
  {
   "cell_type": "markdown",
   "metadata": {},
   "source": [
    "## Old stuff"
   ]
  },
  {
   "cell_type": "code",
   "execution_count": 7,
   "metadata": {},
   "outputs": [
    {
     "name": "stderr",
     "output_type": "stream",
     "text": [
      "Warning message in mu$p_fdr <- try(p_fdr, silent = TRUE):\n",
      "“Coercing LHS to a list”"
     ]
    },
    {
     "name": "stdout",
     "output_type": "stream",
     "text": [
      "Error in data.frame(p_fdr) : row names contain missing values\n",
      "Error in rbind(deparse.level, ...) : \n",
      "  numbers of columns of arguments do not match\n"
     ]
    },
    {
     "name": "stderr",
     "output_type": "stream",
     "text": [
      "Warning message in mu$p_fdr <- try(p_fdr, silent = TRUE):\n",
      "“Coercing LHS to a list”"
     ]
    },
    {
     "ename": "ERROR",
     "evalue": "Error in `rownames<-`(x, value): attempt to set 'rownames' on an object with no dimensions\n",
     "output_type": "error",
     "traceback": [
      "Error in `rownames<-`(x, value): attempt to set 'rownames' on an object with no dimensions\nTraceback:\n",
      "1. `row.names<-`(`*tmp*`, value = try(row.names(try(data.frame(p_fdr))), \n .     silent = TRUE))",
      "2. `row.names<-.default`(`*tmp*`, value = try(row.names(try(data.frame(p_fdr))), \n .     silent = TRUE))",
      "3. `rownames<-`(x, value)",
      "4. stop(\"attempt to set 'rownames' on an object with no dimensions\")"
     ]
    }
   ],
   "source": [
    "# For each list, and for each significant taxon in that list, extract the mu coefficients and the p_fdr\n",
    "# Currently not runnign for 6, because no significant taxa\n",
    "\n",
    "df = data.frame()\n",
    "#for (i in c(1:3,6:7)){\n",
    "for (i in c(1:10)){\n",
    "    r = results[[i]][[1]]\n",
    "    Amdmt = try(results[[i]][[2]])\n",
    "    Soil = try(results[[i]][[3]])\n",
    "    for (j in 1:length(r$significant_taxa)){\n",
    "        sig_models = try(r$significant_models[[j]],silent=TRUE)\n",
    "        mu = try(data.frame(t(as.matrix(sig_models$coefficients[3,]))),silent=TRUE)\n",
    "        p_fdr = try(r$p_fdr[r$significant_taxa][j],silent=TRUE)\n",
    "        mu$p_fdr = try(p_fdr,silent=TRUE)\n",
    "        mu$Amdmt = try(Amdmt,silent=TRUE)\n",
    "        mu$Soil = try(Soil,silent=TRUE)\n",
    "        row.names(mu)= try(row.names(try(data.frame(p_fdr))),silent=TRUE)\n",
    "        df = try(rbind(df,mu))\n",
    "    }\n",
    "}"
   ]
  },
  {
   "cell_type": "code",
   "execution_count": 13,
   "metadata": {},
   "outputs": [
    {
     "data": {
      "text/html": [
       "<table>\n",
       "<thead><tr><th></th><th scope=col>log2FC</th><th scope=col>se</th><th scope=col>t</th><th scope=col>p</th><th scope=col>p_fdr</th><th scope=col>Amdmt</th><th scope=col>Soil_Trtmt</th><th scope=col>OTU</th></tr></thead>\n",
       "<tbody>\n",
       "\t<tr><th scope=row>OTU1</th><td>-2.753606   </td><td>0.8320948   </td><td> -3.309245  </td><td>7.889371e-03</td><td>1.029027e-02</td><td>OM          </td><td>Hawaii      </td><td>OTU1        </td></tr>\n",
       "\t<tr><th scope=row>OTU10</th><td>-4.317613   </td><td>1.2637593   </td><td> -3.416484  </td><td>6.586187e-03</td><td>6.343539e-03</td><td>OM          </td><td>New York    </td><td>OTU10       </td></tr>\n",
       "\t<tr><th scope=row>OTU20</th><td>-7.081772   </td><td>1.9380804   </td><td> -3.654014  </td><td>4.432763e-03</td><td>1.807208e-03</td><td>OM          </td><td>Florida     </td><td>OTU20       </td></tr>\n",
       "\t<tr><th scope=row>OTU98</th><td>-7.907238   </td><td>0.7199981   </td><td>-10.982304  </td><td>6.691748e-07</td><td>1.022812e-26</td><td>PyOM        </td><td>New York    </td><td>OTU98       </td></tr>\n",
       "\t<tr><th scope=row>OTU105</th><td>-6.542371   </td><td>1.9764818   </td><td> -3.310109  </td><td>7.877870e-03</td><td>1.305634e-02</td><td>PyOM        </td><td>Florida     </td><td>OTU105      </td></tr>\n",
       "</tbody>\n",
       "</table>\n"
      ],
      "text/latex": [
       "\\begin{tabular}{r|llllllll}\n",
       "  & log2FC & se & t & p & p\\_fdr & Amdmt & Soil\\_Trtmt & OTU\\\\\n",
       "\\hline\n",
       "\tOTU1 & -2.753606    & 0.8320948    &  -3.309245   & 7.889371e-03 & 1.029027e-02 & OM           & Hawaii       & OTU1        \\\\\n",
       "\tOTU10 & -4.317613    & 1.2637593    &  -3.416484   & 6.586187e-03 & 6.343539e-03 & OM           & New York     & OTU10       \\\\\n",
       "\tOTU20 & -7.081772    & 1.9380804    &  -3.654014   & 4.432763e-03 & 1.807208e-03 & OM           & Florida      & OTU20       \\\\\n",
       "\tOTU98 & -7.907238    & 0.7199981    & -10.982304   & 6.691748e-07 & 1.022812e-26 & PyOM         & New York     & OTU98       \\\\\n",
       "\tOTU105 & -6.542371    & 1.9764818    &  -3.310109   & 7.877870e-03 & 1.305634e-02 & PyOM         & Florida      & OTU105      \\\\\n",
       "\\end{tabular}\n"
      ],
      "text/markdown": [
       "\n",
       "| <!--/--> | log2FC | se | t | p | p_fdr | Amdmt | Soil_Trtmt | OTU | \n",
       "|---|---|---|---|---|\n",
       "| OTU1 | -2.753606    | 0.8320948    |  -3.309245   | 7.889371e-03 | 1.029027e-02 | OM           | Hawaii       | OTU1         | \n",
       "| OTU10 | -4.317613    | 1.2637593    |  -3.416484   | 6.586187e-03 | 6.343539e-03 | OM           | New York     | OTU10        | \n",
       "| OTU20 | -7.081772    | 1.9380804    |  -3.654014   | 4.432763e-03 | 1.807208e-03 | OM           | Florida      | OTU20        | \n",
       "| OTU98 | -7.907238    | 0.7199981    | -10.982304   | 6.691748e-07 | 1.022812e-26 | PyOM         | New York     | OTU98        | \n",
       "| OTU105 | -6.542371    | 1.9764818    |  -3.310109   | 7.877870e-03 | 1.305634e-02 | PyOM         | Florida      | OTU105       | \n",
       "\n",
       "\n"
      ],
      "text/plain": [
       "       log2FC    se        t          p            p_fdr        Amdmt\n",
       "OTU1   -2.753606 0.8320948  -3.309245 7.889371e-03 1.029027e-02 OM   \n",
       "OTU10  -4.317613 1.2637593  -3.416484 6.586187e-03 6.343539e-03 OM   \n",
       "OTU20  -7.081772 1.9380804  -3.654014 4.432763e-03 1.807208e-03 OM   \n",
       "OTU98  -7.907238 0.7199981 -10.982304 6.691748e-07 1.022812e-26 PyOM \n",
       "OTU105 -6.542371 1.9764818  -3.310109 7.877870e-03 1.305634e-02 PyOM \n",
       "       Soil_Trtmt OTU   \n",
       "OTU1   Hawaii     OTU1  \n",
       "OTU10  New York   OTU10 \n",
       "OTU20  Florida    OTU20 \n",
       "OTU98  New York   OTU98 \n",
       "OTU105 Florida    OTU105"
      ]
     },
     "metadata": {},
     "output_type": "display_data"
    }
   ],
   "source": [
    "df$OTU = row.names(df)\n",
    "colnames(df) = c(\"log2FC\",\"se\",\"t\",\"p\",\"p_fdr\",\"Amdmt\",\"Soil_Trtmt\",\"OTU\")\n",
    "head(df)\n",
    "# Final summary of results"
   ]
  },
  {
   "cell_type": "code",
   "execution_count": 14,
   "metadata": {},
   "outputs": [
    {
     "data": {
      "text/html": [
       "<table>\n",
       "<thead><tr><th scope=col>OTU</th><th scope=col>Kingdom</th><th scope=col>Phylum</th><th scope=col>Class</th><th scope=col>Order</th><th scope=col>Family</th><th scope=col>Genus</th><th scope=col>Species</th><th scope=col>log2FC</th><th scope=col>se</th><th scope=col>t</th><th scope=col>p</th><th scope=col>p_fdr</th><th scope=col>Amdmt</th><th scope=col>Soil_Trtmt</th></tr></thead>\n",
       "<tbody>\n",
       "\t<tr><td>OTU1                </td><td>Fungi               </td><td>Basidiomycota       </td><td>Tremellomycetes     </td><td>Tremellales         </td><td>Trimorphomycetaceae </td><td>Saitozyma           </td><td>podzolica           </td><td>-2.753606           </td><td>0.8320948           </td><td> -3.309245          </td><td>7.889371e-03        </td><td>1.029027e-02        </td><td>OM                  </td><td>Hawaii              </td></tr>\n",
       "\t<tr><td>OTU10               </td><td>Fungi               </td><td>Ascomycota          </td><td>Sordariomycetes     </td><td>Hypocreales         </td><td>Nectriaceae         </td><td>Fusarium            </td><td>oxysporum           </td><td>-4.317613           </td><td>1.2637593           </td><td> -3.416484          </td><td>6.586187e-03        </td><td>6.343539e-03        </td><td>OM                  </td><td>New York            </td></tr>\n",
       "\t<tr><td>OTU105              </td><td>Fungi               </td><td>Chytridiomycota     </td><td>Spizellomycetes     </td><td>Spizellomycetales   </td><td>Spizellomycetaceae  </td><td>Spizellomyces       </td><td>NA                  </td><td>-6.542371           </td><td>1.9764818           </td><td> -3.310109          </td><td>7.877870e-03        </td><td>1.305634e-02        </td><td>PyOM                </td><td>Florida             </td></tr>\n",
       "\t<tr><td>OTU20               </td><td>Fungi               </td><td>Mucoromycota        </td><td>Umbelopsidomycetes  </td><td>Umbelopsidales      </td><td>Umbelopsidaceae     </td><td>Umbelopsis          </td><td>dimorpha            </td><td>-7.081772           </td><td>1.9380804           </td><td> -3.654014          </td><td>4.432763e-03        </td><td>1.807208e-03        </td><td>OM                  </td><td>Florida             </td></tr>\n",
       "\t<tr><td>OTU98               </td><td>Fungi               </td><td>Ascomycota          </td><td>Sordariomycetes     </td><td>Glomerellales       </td><td>Plectosphaerellaceae</td><td>Gibellulopsis       </td><td>piscis              </td><td>-7.907238           </td><td>0.7199981           </td><td>-10.982304          </td><td>6.691748e-07        </td><td>1.022812e-26        </td><td>PyOM                </td><td>New York            </td></tr>\n",
       "</tbody>\n",
       "</table>\n"
      ],
      "text/latex": [
       "\\begin{tabular}{r|lllllllllllllll}\n",
       " OTU & Kingdom & Phylum & Class & Order & Family & Genus & Species & log2FC & se & t & p & p\\_fdr & Amdmt & Soil\\_Trtmt\\\\\n",
       "\\hline\n",
       "\t OTU1                 & Fungi                & Basidiomycota        & Tremellomycetes      & Tremellales          & Trimorphomycetaceae  & Saitozyma            & podzolica            & -2.753606            & 0.8320948            &  -3.309245           & 7.889371e-03         & 1.029027e-02         & OM                   & Hawaii              \\\\\n",
       "\t OTU10                & Fungi                & Ascomycota           & Sordariomycetes      & Hypocreales          & Nectriaceae          & Fusarium             & oxysporum            & -4.317613            & 1.2637593            &  -3.416484           & 6.586187e-03         & 6.343539e-03         & OM                   & New York            \\\\\n",
       "\t OTU105               & Fungi                & Chytridiomycota      & Spizellomycetes      & Spizellomycetales    & Spizellomycetaceae   & Spizellomyces        & NA                   & -6.542371            & 1.9764818            &  -3.310109           & 7.877870e-03         & 1.305634e-02         & PyOM                 & Florida             \\\\\n",
       "\t OTU20                & Fungi                & Mucoromycota         & Umbelopsidomycetes   & Umbelopsidales       & Umbelopsidaceae      & Umbelopsis           & dimorpha             & -7.081772            & 1.9380804            &  -3.654014           & 4.432763e-03         & 1.807208e-03         & OM                   & Florida             \\\\\n",
       "\t OTU98                & Fungi                & Ascomycota           & Sordariomycetes      & Glomerellales        & Plectosphaerellaceae & Gibellulopsis        & piscis               & -7.907238            & 0.7199981            & -10.982304           & 6.691748e-07         & 1.022812e-26         & PyOM                 & New York            \\\\\n",
       "\\end{tabular}\n"
      ],
      "text/markdown": [
       "\n",
       "OTU | Kingdom | Phylum | Class | Order | Family | Genus | Species | log2FC | se | t | p | p_fdr | Amdmt | Soil_Trtmt | \n",
       "|---|---|---|---|---|\n",
       "| OTU1                 | Fungi                | Basidiomycota        | Tremellomycetes      | Tremellales          | Trimorphomycetaceae  | Saitozyma            | podzolica            | -2.753606            | 0.8320948            |  -3.309245           | 7.889371e-03         | 1.029027e-02         | OM                   | Hawaii               | \n",
       "| OTU10                | Fungi                | Ascomycota           | Sordariomycetes      | Hypocreales          | Nectriaceae          | Fusarium             | oxysporum            | -4.317613            | 1.2637593            |  -3.416484           | 6.586187e-03         | 6.343539e-03         | OM                   | New York             | \n",
       "| OTU105               | Fungi                | Chytridiomycota      | Spizellomycetes      | Spizellomycetales    | Spizellomycetaceae   | Spizellomyces        | NA                   | -6.542371            | 1.9764818            |  -3.310109           | 7.877870e-03         | 1.305634e-02         | PyOM                 | Florida              | \n",
       "| OTU20                | Fungi                | Mucoromycota         | Umbelopsidomycetes   | Umbelopsidales       | Umbelopsidaceae      | Umbelopsis           | dimorpha             | -7.081772            | 1.9380804            |  -3.654014           | 4.432763e-03         | 1.807208e-03         | OM                   | Florida              | \n",
       "| OTU98                | Fungi                | Ascomycota           | Sordariomycetes      | Glomerellales        | Plectosphaerellaceae | Gibellulopsis        | piscis               | -7.907238            | 0.7199981            | -10.982304           | 6.691748e-07         | 1.022812e-26         | PyOM                 | New York             | \n",
       "\n",
       "\n"
      ],
      "text/plain": [
       "  OTU    Kingdom Phylum          Class              Order            \n",
       "1 OTU1   Fungi   Basidiomycota   Tremellomycetes    Tremellales      \n",
       "2 OTU10  Fungi   Ascomycota      Sordariomycetes    Hypocreales      \n",
       "3 OTU105 Fungi   Chytridiomycota Spizellomycetes    Spizellomycetales\n",
       "4 OTU20  Fungi   Mucoromycota    Umbelopsidomycetes Umbelopsidales   \n",
       "5 OTU98  Fungi   Ascomycota      Sordariomycetes    Glomerellales    \n",
       "  Family               Genus         Species   log2FC    se        t         \n",
       "1 Trimorphomycetaceae  Saitozyma     podzolica -2.753606 0.8320948  -3.309245\n",
       "2 Nectriaceae          Fusarium      oxysporum -4.317613 1.2637593  -3.416484\n",
       "3 Spizellomycetaceae   Spizellomyces NA        -6.542371 1.9764818  -3.310109\n",
       "4 Umbelopsidaceae      Umbelopsis    dimorpha  -7.081772 1.9380804  -3.654014\n",
       "5 Plectosphaerellaceae Gibellulopsis piscis    -7.907238 0.7199981 -10.982304\n",
       "  p            p_fdr        Amdmt Soil_Trtmt\n",
       "1 7.889371e-03 1.029027e-02 OM    Hawaii    \n",
       "2 6.586187e-03 6.343539e-03 OM    New York  \n",
       "3 7.877870e-03 1.305634e-02 PyOM  Florida   \n",
       "4 4.432763e-03 1.807208e-03 OM    Florida   \n",
       "5 6.691748e-07 1.022812e-26 PyOM  New York  "
      ]
     },
     "metadata": {},
     "output_type": "display_data"
    }
   ],
   "source": [
    "SigOTUs = row.names(df)\n",
    "pruned = prune_taxa(SigOTUs,ps.norm)\n",
    "taxtab = data.frame(tax_table(pruned))\n",
    "taxtab$OTU = c(taxa_names(pruned))\n",
    "joined = merge(taxtab,df,by=c(\"OTU\"))\n",
    "head(joined)"
   ]
  },
  {
   "cell_type": "code",
   "execution_count": 16,
   "metadata": {},
   "outputs": [
    {
     "data": {
      "text/html": [
       "<ol class=list-inline>\n",
       "\t<li>'Saitozyma'</li>\n",
       "\t<li>'Fusarium'</li>\n",
       "\t<li>'Spizellomyces'</li>\n",
       "\t<li>'Umbelopsis'</li>\n",
       "\t<li>'Gibellulopsis'</li>\n",
       "</ol>\n"
      ],
      "text/latex": [
       "\\begin{enumerate*}\n",
       "\\item 'Saitozyma'\n",
       "\\item 'Fusarium'\n",
       "\\item 'Spizellomyces'\n",
       "\\item 'Umbelopsis'\n",
       "\\item 'Gibellulopsis'\n",
       "\\end{enumerate*}\n"
      ],
      "text/markdown": [
       "1. 'Saitozyma'\n",
       "2. 'Fusarium'\n",
       "3. 'Spizellomyces'\n",
       "4. 'Umbelopsis'\n",
       "5. 'Gibellulopsis'\n",
       "\n",
       "\n"
      ],
      "text/plain": [
       "[1] \"Saitozyma\"     \"Fusarium\"      \"Spizellomyces\" \"Umbelopsis\"   \n",
       "[5] \"Gibellulopsis\""
      ]
     },
     "metadata": {},
     "output_type": "display_data"
    }
   ],
   "source": [
    "ignoreList = c(\"\",\"uncultured\")\n",
    "\n",
    "joined = joined %>%\n",
    "    mutate(Name = ifelse(Genus %in% ignoreList |is.na(Genus),ifelse(Family %in% ignoreList |is.na(Family),ifelse(Class %in% ignoreList |is.na(Class),ifelse(Phylum %in% ignoreList |is.na(Phylum),paste(OTU),\n",
    "                            paste(Phylum)),paste(Class)),paste(Family)),paste(Genus)))#%>%\n",
    "    #mutate(Name = paste(Name,\"\\n(OTU\",OTU,\")\"),sep=\"\")\n",
    "head(joined$Name)"
   ]
  },
  {
   "cell_type": "code",
   "execution_count": 17,
   "metadata": {},
   "outputs": [],
   "source": [
    "TaxonOrder = joined %>%\n",
    "    select(Phylum,Genus,OTU,Name)%>%\n",
    "    arrange(Phylum)\n",
    "OTUOrder = unique(TaxonOrder$OTU)\n",
    "GenusOrder = unique(TaxonOrder$Genus)\n",
    "NameOrder = unique(TaxonOrder$Name)\n",
    "joined$OTU = factor(joined$OTU, levels = OTUOrder)\n",
    "joined$Genus = factor(joined$Genus, levels = GenusOrder)\n",
    "joined$Name = factor(joined$Name, levels = NameOrder)\n",
    "joined$Soil_Trtmt = factor(joined$Soil_Trtmt, levels = c(\"Hawaii\",\"Alaska\",\"Utah\",\"New York\",\"Florida\"))\n",
    "\n",
    "levels(joined$Soil_Trtmt)[levels(joined$Soil_Trtmt)==\"Hawaii\"] = \"Hydrudand\"\n",
    "levels(joined$Soil_Trtmt)[levels(joined$Soil_Trtmt)==\"New York\"] = \"Fragiudept\"\n",
    "levels(joined$Soil_Trtmt)[levels(joined$Soil_Trtmt)==\"Alaska\"] = \"Cryaquept\"\n",
    "levels(joined$Soil_Trtmt)[levels(joined$Soil_Trtmt)==\"Utah\"] = \"Haplocalcid\"\n",
    "levels(joined$Soil_Trtmt)[levels(joined$Soil_Trtmt)==\"Florida\"] = \"Quartzipsamment\"\n",
    "\n",
    "joined.plot = joined %>%\n",
    "    filter(log2FC>0)"
   ]
  },
  {
   "cell_type": "code",
   "execution_count": 23,
   "metadata": {},
   "outputs": [
    {
     "data": {
      "text/html": [],
      "text/latex": [],
      "text/markdown": [],
      "text/plain": [
       "factor(0)\n",
       "Levels: Fusarium Gibellulopsis Saitozyma Spizellomyces Umbelopsis"
      ]
     },
     "metadata": {},
     "output_type": "display_data"
    }
   ],
   "source": [
    "head(joined.plot$Name)"
   ]
  },
  {
   "cell_type": "code",
   "execution_count": 32,
   "metadata": {},
   "outputs": [
    {
     "data": {},
     "metadata": {},
     "output_type": "display_data"
    },
    {
     "data": {
      "image/png": "[encoded data removed]",
      "text/plain": [
       "plot without title"
      ]
     },
     "metadata": {},
     "output_type": "display_data"
    }
   ],
   "source": [
    "options(repr.plot.width=10, repr.plot.height=7)\n",
    "p = ggplot(joined,aes(y=log2FC,color=Phylum,x=Name))\n",
    "p = p + geom_point() + facet_grid(~Amdmt~Soil_Trtmt,scales=\"free_x\",space=\"free_x\")\n",
    "p = p + geom_errorbar(aes(ymax=log2FC+se,ymin=log2FC-se),width=0.2)\n",
    "p = p + theme(axis.text.x=element_text(angle=90,size=10,face=\"italic\",vjust=0,hjust=1))\n",
    "p = p + theme(strip.text.x=element_text(angle=90,size=10,face=\"bold\"))\n",
    "p = p + ylab(\"log2-fold change in relative abundance with amendment\") + xlab(\"\")\n",
    "p = p + ylim(values=c(-10,0))\n",
    "p\n",
    "# This might be about what we want - the last question would be a relative abundance - sized by that\n",
    "# Could size by baseline relative abundance.\n",
    "# Also need to decide on how/whether to readjust p-values across soils\n",
    "# Overall, pretty good, though - conclusion - some taxa are consistent reponders"
   ]
  },
  {
   "cell_type": "code",
   "execution_count": 113,
   "metadata": {},
   "outputs": [
    {
     "data": {
      "text/html": [
       "<table>\n",
       "<thead><tr><th scope=col>Soil_Trtmt</th><th scope=col>OTU</th><th scope=col>logFC.OM</th><th scope=col>logFC.PyOM</th><th scope=col>logFC.SE.OM</th><th scope=col>logFC.SE.PyOM</th><th scope=col>logFC.padj.OM</th><th scope=col>logFC.padj.PyOM</th></tr></thead>\n",
       "<tbody>\n",
       "\t<tr><td>Florida     </td><td>OTU105      </td><td>       NA   </td><td>-6.542371   </td><td>       NA   </td><td>1.9764818   </td><td>         NA </td><td>1.305634e-02</td></tr>\n",
       "\t<tr><td>Florida     </td><td>OTU20       </td><td>-7.081772   </td><td>       NA   </td><td>1.9380804   </td><td>       NA   </td><td>0.001807208 </td><td>          NA</td></tr>\n",
       "\t<tr><td>Hawaii      </td><td>OTU1        </td><td>-2.753606   </td><td>       NA   </td><td>0.8320948   </td><td>       NA   </td><td>0.010290269 </td><td>          NA</td></tr>\n",
       "\t<tr><td>New York    </td><td>OTU10       </td><td>-4.317613   </td><td>       NA   </td><td>1.2637593   </td><td>       NA   </td><td>0.006343539 </td><td>          NA</td></tr>\n",
       "\t<tr><td>New York    </td><td>OTU98       </td><td>       NA   </td><td>-7.907238   </td><td>       NA   </td><td>0.7199981   </td><td>         NA </td><td>1.022820e-26</td></tr>\n",
       "</tbody>\n",
       "</table>\n"
      ],
      "text/latex": [
       "\\begin{tabular}{r|llllllll}\n",
       " Soil\\_Trtmt & OTU & logFC.OM & logFC.PyOM & logFC.SE.OM & logFC.SE.PyOM & logFC.padj.OM & logFC.padj.PyOM\\\\\n",
       "\\hline\n",
       "\t Florida      & OTU105       &        NA    & -6.542371    &        NA    & 1.9764818    &          NA  & 1.305634e-02\\\\\n",
       "\t Florida      & OTU20        & -7.081772    &        NA    & 1.9380804    &        NA    & 0.001807208  &           NA\\\\\n",
       "\t Hawaii       & OTU1         & -2.753606    &        NA    & 0.8320948    &        NA    & 0.010290269  &           NA\\\\\n",
       "\t New York     & OTU10        & -4.317613    &        NA    & 1.2637593    &        NA    & 0.006343539  &           NA\\\\\n",
       "\t New York     & OTU98        &        NA    & -7.907238    &        NA    & 0.7199981    &          NA  & 1.022820e-26\\\\\n",
       "\\end{tabular}\n"
      ],
      "text/markdown": [
       "\n",
       "Soil_Trtmt | OTU | logFC.OM | logFC.PyOM | logFC.SE.OM | logFC.SE.PyOM | logFC.padj.OM | logFC.padj.PyOM | \n",
       "|---|---|---|---|---|\n",
       "| Florida      | OTU105       |        NA    | -6.542371    |        NA    | 1.9764818    |          NA  | 1.305634e-02 | \n",
       "| Florida      | OTU20        | -7.081772    |        NA    | 1.9380804    |        NA    | 0.001807208  |           NA | \n",
       "| Hawaii       | OTU1         | -2.753606    |        NA    | 0.8320948    |        NA    | 0.010290269  |           NA | \n",
       "| New York     | OTU10        | -4.317613    |        NA    | 1.2637593    |        NA    | 0.006343539  |           NA | \n",
       "| New York     | OTU98        |        NA    | -7.907238    |        NA    | 0.7199981    |          NA  | 1.022820e-26 | \n",
       "\n",
       "\n"
      ],
      "text/plain": [
       "  Soil_Trtmt OTU    logFC.OM  logFC.PyOM logFC.SE.OM logFC.SE.PyOM\n",
       "1 Florida    OTU105        NA -6.542371         NA   1.9764818    \n",
       "2 Florida    OTU20  -7.081772        NA  1.9380804          NA    \n",
       "3 Hawaii     OTU1   -2.753606        NA  0.8320948          NA    \n",
       "4 New York   OTU10  -4.317613        NA  1.2637593          NA    \n",
       "5 New York   OTU98         NA -7.907238         NA   0.7199981    \n",
       "  logFC.padj.OM logFC.padj.PyOM\n",
       "1          NA   1.305634e-02   \n",
       "2 0.001807208             NA   \n",
       "3 0.010290269             NA   \n",
       "4 0.006343539             NA   \n",
       "5          NA   1.022820e-26   "
      ]
     },
     "metadata": {},
     "output_type": "display_data"
    }
   ],
   "source": [
    "# Want to make analogous figures to ISME paper\n",
    "# So, need to match up OTUs across days\n",
    "# Goal: OTU taxonomy, Soil, Day, Response to PyOM, Response to OM\n",
    "\n",
    "d.cast.l2FC = cast(df, Soil_Trtmt+OTU~Amdmt,value=c(\"log2FC\"))\n",
    "d.cast.SE = cast(df, Soil_Trtmt+OTU~Amdmt,value=c(\"se\"))\n",
    "d.cast.padj = cast(df, Soil_Trtmt+OTU~Amdmt,value=c(\"p_fdr\"))\n",
    "\n",
    "d.cast = merge(d.cast.l2FC,d.cast.SE,by=c(\"Soil_Trtmt\",\"OTU\"))\n",
    "d.cast = merge(d.cast,d.cast.padj,by=c(\"Soil_Trtmt\",\"OTU\"))\n",
    "\n",
    "colnames(d.cast) = c(colnames(d.cast)[1:2],\"logFC.OM\",\"logFC.PyOM\",\"logFC.SE.OM\",\"logFC.SE.PyOM\",\"logFC.padj.OM\",\"logFC.padj.PyOM\")\n",
    "head(d.cast)"
   ]
  },
  {
   "cell_type": "code",
   "execution_count": 117,
   "metadata": {},
   "outputs": [
    {
     "data": {},
     "metadata": {},
     "output_type": "display_data"
    },
    {
     "data": {
      "image/png": "[encoded data removed]",
      "text/plain": [
       "plot without title"
      ]
     },
     "metadata": {},
     "output_type": "display_data"
    }
   ],
   "source": [
    "options(repr.plot.width=4, repr.plot.height=3)\n",
    "d.plot = d.cast%>%\n",
    "    filter(!is.na(logFC.padj.PyOM) & !is.na(logFC.padj.OM))\n",
    "\n",
    "d.plot$Soil_Name=d.plot$Soil_Trtmt\n",
    "\n",
    "d.plot$Soil_Name = ordered(d.plot$Soil_Name, levels = c(\"Hydrudand\", \"Cryaquept\", \"Haplocalcid\",\"Fragiudept\",\"Quartzipsamment\"))\n",
    "\n",
    "p = ggplot(d.plot,aes(x=logFC.PyOM,y=logFC.OM,shape=Soil_Trtmt,color=Soil_Trtmt,fill=Soil_Trtmt))\n",
    "p = p + geom_point(size=3,alpha=0.7)\n",
    "p = p + geom_hline(yintercept = 0.0, linetype=2) + theme_bw()\n",
    "p = p + geom_vline(xintercept = 0.0, linetype=2) + theme_bw()\n",
    "p = p + xlab(\"Response to PyOM (log2-fold change)\")\n",
    "p = p + ylab(\"Response to OM (log2-fold change)\")\n",
    "\n",
    "palette = c(wes_palette(\"Darjeeling1\"),wes_palette(\"Darjeeling2\")[2:4])\n",
    "palette = palette[c(2,1,4,3,5,6)]\n",
    "p = p + scale_fill_manual(values=palette)+ scale_color_manual(values=palette) + scale_shape_manual(values=c(21:25))\n",
    "p = p + guides(shape = guide_legend(title=\"Soil Type\"), color=guide_legend(title=\"Soil Type\"), fill=guide_legend(title=\"Soil Type\"))\n",
    "p\n",
    "# No seqs in common in a given soil for OM and PyOM"
   ]
  },
  {
   "cell_type": "code",
   "execution_count": null,
   "metadata": {},
   "outputs": [],
   "source": []
  },
  {
   "cell_type": "code",
   "execution_count": null,
   "metadata": {},
   "outputs": [],
   "source": []
  },
  {
   "cell_type": "code",
   "execution_count": 74,
   "metadata": {},
   "outputs": [
    {
     "data": {
      "text/html": [
       "<table>\n",
       "<thead><tr><th></th><th scope=col>Kingdom</th><th scope=col>Phylum</th><th scope=col>Class</th><th scope=col>Order</th><th scope=col>Family</th><th scope=col>Genus</th><th scope=col>Species</th></tr></thead>\n",
       "<tbody>\n",
       "\t<tr><th scope=row>OTU1</th><td>Fungi              </td><td>Basidiomycota      </td><td>Tremellomycetes    </td><td>Tremellales        </td><td>Trimorphomycetaceae</td><td>Saitozyma          </td><td>podzolica          </td></tr>\n",
       "</tbody>\n",
       "</table>\n"
      ],
      "text/latex": [
       "\\begin{tabular}{r|lllllll}\n",
       "  & Kingdom & Phylum & Class & Order & Family & Genus & Species\\\\\n",
       "\\hline\n",
       "\tOTU1 & Fungi               & Basidiomycota       & Tremellomycetes     & Tremellales         & Trimorphomycetaceae & Saitozyma           & podzolica          \\\\\n",
       "\\end{tabular}\n"
      ],
      "text/markdown": [
       "\n",
       "| <!--/--> | Kingdom | Phylum | Class | Order | Family | Genus | Species | \n",
       "|---|\n",
       "| OTU1 | Fungi               | Basidiomycota       | Tremellomycetes     | Tremellales         | Trimorphomycetaceae | Saitozyma           | podzolica           | \n",
       "\n",
       "\n"
      ],
      "text/plain": [
       "     Kingdom Phylum        Class           Order       Family             \n",
       "OTU1 Fungi   Basidiomycota Tremellomycetes Tremellales Trimorphomycetaceae\n",
       "     Genus     Species  \n",
       "OTU1 Saitozyma podzolica"
      ]
     },
     "metadata": {},
     "output_type": "display_data"
    },
    {
     "data": {
      "text/html": [
       "<table>\n",
       "<thead><tr><th></th><th scope=col>Kingdom</th><th scope=col>Phylum</th><th scope=col>Class</th><th scope=col>Order</th><th scope=col>Family</th><th scope=col>Genus</th><th scope=col>Species</th></tr></thead>\n",
       "<tbody>\n",
       "\t<tr><th scope=row>OTU4</th><td>Fungi            </td><td>Ascomycota       </td><td>Dothideomycetes  </td><td>Pleosporales     </td><td>Pleosporaceae    </td><td>Alternaria       </td><td>chlamydosporigena</td></tr>\n",
       "</tbody>\n",
       "</table>\n"
      ],
      "text/latex": [
       "\\begin{tabular}{r|lllllll}\n",
       "  & Kingdom & Phylum & Class & Order & Family & Genus & Species\\\\\n",
       "\\hline\n",
       "\tOTU4 & Fungi             & Ascomycota        & Dothideomycetes   & Pleosporales      & Pleosporaceae     & Alternaria        & chlamydosporigena\\\\\n",
       "\\end{tabular}\n"
      ],
      "text/markdown": [
       "\n",
       "| <!--/--> | Kingdom | Phylum | Class | Order | Family | Genus | Species | \n",
       "|---|\n",
       "| OTU4 | Fungi             | Ascomycota        | Dothideomycetes   | Pleosporales      | Pleosporaceae     | Alternaria        | chlamydosporigena | \n",
       "\n",
       "\n"
      ],
      "text/plain": [
       "     Kingdom Phylum     Class           Order        Family        Genus     \n",
       "OTU4 Fungi   Ascomycota Dothideomycetes Pleosporales Pleosporaceae Alternaria\n",
       "     Species          \n",
       "OTU4 chlamydosporigena"
      ]
     },
     "metadata": {},
     "output_type": "display_data"
    },
    {
     "data": {
      "text/html": [
       "<table>\n",
       "<thead><tr><th></th><th scope=col>Kingdom</th><th scope=col>Phylum</th><th scope=col>Class</th><th scope=col>Order</th><th scope=col>Family</th><th scope=col>Genus</th><th scope=col>Species</th></tr></thead>\n",
       "<tbody>\n",
       "\t<tr><th scope=row>OTU10</th><td>Fungi             </td><td>Ascomycota        </td><td>Sordariomycetes   </td><td>Hypocreales       </td><td>Nectriaceae       </td><td>Fusarium          </td><td>oxysporum         </td></tr>\n",
       "\t<tr><th scope=row>OTU102</th><td>Fungi             </td><td>Chytridiomycota   </td><td>Spizellomycetes   </td><td>Spizellomycetales </td><td>Spizellomycetaceae</td><td>Spizellomyces     </td><td>dolichospermus    </td></tr>\n",
       "</tbody>\n",
       "</table>\n"
      ],
      "text/latex": [
       "\\begin{tabular}{r|lllllll}\n",
       "  & Kingdom & Phylum & Class & Order & Family & Genus & Species\\\\\n",
       "\\hline\n",
       "\tOTU10 & Fungi              & Ascomycota         & Sordariomycetes    & Hypocreales        & Nectriaceae        & Fusarium           & oxysporum         \\\\\n",
       "\tOTU102 & Fungi              & Chytridiomycota    & Spizellomycetes    & Spizellomycetales  & Spizellomycetaceae & Spizellomyces      & dolichospermus    \\\\\n",
       "\\end{tabular}\n"
      ],
      "text/markdown": [
       "\n",
       "| <!--/--> | Kingdom | Phylum | Class | Order | Family | Genus | Species | \n",
       "|---|---|\n",
       "| OTU10 | Fungi              | Ascomycota         | Sordariomycetes    | Hypocreales        | Nectriaceae        | Fusarium           | oxysporum          | \n",
       "| OTU102 | Fungi              | Chytridiomycota    | Spizellomycetes    | Spizellomycetales  | Spizellomycetaceae | Spizellomyces      | dolichospermus     | \n",
       "\n",
       "\n"
      ],
      "text/plain": [
       "       Kingdom Phylum          Class           Order            \n",
       "OTU10  Fungi   Ascomycota      Sordariomycetes Hypocreales      \n",
       "OTU102 Fungi   Chytridiomycota Spizellomycetes Spizellomycetales\n",
       "       Family             Genus         Species       \n",
       "OTU10  Nectriaceae        Fusarium      oxysporum     \n",
       "OTU102 Spizellomycetaceae Spizellomyces dolichospermus"
      ]
     },
     "metadata": {},
     "output_type": "display_data"
    },
    {
     "data": {
      "text/html": [
       "<table>\n",
       "<thead><tr><th></th><th scope=col>Kingdom</th><th scope=col>Phylum</th><th scope=col>Class</th><th scope=col>Order</th><th scope=col>Family</th><th scope=col>Genus</th><th scope=col>Species</th></tr></thead>\n",
       "<tbody>\n",
       "\t<tr><th scope=row>OTU20</th><td>Fungi             </td><td>Mucoromycota      </td><td>Umbelopsidomycetes</td><td>Umbelopsidales    </td><td>Umbelopsidaceae   </td><td>Umbelopsis        </td><td>dimorpha          </td></tr>\n",
       "\t<tr><th scope=row>OTU142</th><td>Fungi             </td><td>Mucoromycota      </td><td>Mucoromycetes     </td><td>Mucorales         </td><td>Rhizopodaceae     </td><td>Rhizopus          </td><td>microsporus       </td></tr>\n",
       "</tbody>\n",
       "</table>\n"
      ],
      "text/latex": [
       "\\begin{tabular}{r|lllllll}\n",
       "  & Kingdom & Phylum & Class & Order & Family & Genus & Species\\\\\n",
       "\\hline\n",
       "\tOTU20 & Fungi              & Mucoromycota       & Umbelopsidomycetes & Umbelopsidales     & Umbelopsidaceae    & Umbelopsis         & dimorpha          \\\\\n",
       "\tOTU142 & Fungi              & Mucoromycota       & Mucoromycetes      & Mucorales          & Rhizopodaceae      & Rhizopus           & microsporus       \\\\\n",
       "\\end{tabular}\n"
      ],
      "text/markdown": [
       "\n",
       "| <!--/--> | Kingdom | Phylum | Class | Order | Family | Genus | Species | \n",
       "|---|---|\n",
       "| OTU20 | Fungi              | Mucoromycota       | Umbelopsidomycetes | Umbelopsidales     | Umbelopsidaceae    | Umbelopsis         | dimorpha           | \n",
       "| OTU142 | Fungi              | Mucoromycota       | Mucoromycetes      | Mucorales          | Rhizopodaceae      | Rhizopus           | microsporus        | \n",
       "\n",
       "\n"
      ],
      "text/plain": [
       "       Kingdom Phylum       Class              Order          Family         \n",
       "OTU20  Fungi   Mucoromycota Umbelopsidomycetes Umbelopsidales Umbelopsidaceae\n",
       "OTU142 Fungi   Mucoromycota Mucoromycetes      Mucorales      Rhizopodaceae  \n",
       "       Genus      Species    \n",
       "OTU20  Umbelopsis dimorpha   \n",
       "OTU142 Rhizopus   microsporus"
      ]
     },
     "metadata": {},
     "output_type": "display_data"
    }
   ],
   "source": [
    "cutoff=0.05\n",
    "tax_table(results[[1]]$data)[!is.na(results[[1]]$p_fdr) & results[[1]]$p_fdr<cutoff]\n",
    "tax_table(results[[2]]$data)[!is.na(results[[2]]$p_fdr) & results[[2]]$p_fdr<cutoff]\n",
    "tax_table(results[[3]]$data)[!is.na(results[[3]]$p_fdr) & results[[3]]$p_fdr<cutoff]\n",
    "tax_table(results[[4]]$data)[!is.na(results[[4]]$p_fdr) & results[[4]]$p_fdr<cutoff]"
   ]
  },
  {
   "cell_type": "code",
   "execution_count": 109,
   "metadata": {},
   "outputs": [
    {
     "data": {
      "text/html": [
       "<ol class=list-inline>\n",
       "\t<li>'OTU1'</li>\n",
       "\t<li>'OTU6'</li>\n",
       "\t<li>'OTU8'</li>\n",
       "\t<li>'OTU11'</li>\n",
       "\t<li>'OTU21'</li>\n",
       "\t<li>'OTU34'</li>\n",
       "\t<li>'OTU42'</li>\n",
       "\t<li>'OTU57'</li>\n",
       "\t<li>'OTU60'</li>\n",
       "\t<li>'OTU67'</li>\n",
       "\t<li>'OTU79'</li>\n",
       "\t<li>'OTU81'</li>\n",
       "\t<li>'OTU106'</li>\n",
       "\t<li>'OTU114'</li>\n",
       "\t<li>'OTU123'</li>\n",
       "\t<li>'OTU197'</li>\n",
       "\t<li>'OTU207'</li>\n",
       "\t<li>'OTU235'</li>\n",
       "\t<li>'OTU337'</li>\n",
       "\t<li>'OTU439'</li>\n",
       "\t<li>'OTU459'</li>\n",
       "\t<li>'OTU503'</li>\n",
       "</ol>\n"
      ],
      "text/latex": [
       "\\begin{enumerate*}\n",
       "\\item 'OTU1'\n",
       "\\item 'OTU6'\n",
       "\\item 'OTU8'\n",
       "\\item 'OTU11'\n",
       "\\item 'OTU21'\n",
       "\\item 'OTU34'\n",
       "\\item 'OTU42'\n",
       "\\item 'OTU57'\n",
       "\\item 'OTU60'\n",
       "\\item 'OTU67'\n",
       "\\item 'OTU79'\n",
       "\\item 'OTU81'\n",
       "\\item 'OTU106'\n",
       "\\item 'OTU114'\n",
       "\\item 'OTU123'\n",
       "\\item 'OTU197'\n",
       "\\item 'OTU207'\n",
       "\\item 'OTU235'\n",
       "\\item 'OTU337'\n",
       "\\item 'OTU439'\n",
       "\\item 'OTU459'\n",
       "\\item 'OTU503'\n",
       "\\end{enumerate*}\n"
      ],
      "text/markdown": [
       "1. 'OTU1'\n",
       "2. 'OTU6'\n",
       "3. 'OTU8'\n",
       "4. 'OTU11'\n",
       "5. 'OTU21'\n",
       "6. 'OTU34'\n",
       "7. 'OTU42'\n",
       "8. 'OTU57'\n",
       "9. 'OTU60'\n",
       "10. 'OTU67'\n",
       "11. 'OTU79'\n",
       "12. 'OTU81'\n",
       "13. 'OTU106'\n",
       "14. 'OTU114'\n",
       "15. 'OTU123'\n",
       "16. 'OTU197'\n",
       "17. 'OTU207'\n",
       "18. 'OTU235'\n",
       "19. 'OTU337'\n",
       "20. 'OTU439'\n",
       "21. 'OTU459'\n",
       "22. 'OTU503'\n",
       "\n",
       "\n"
      ],
      "text/plain": [
       " [1] \"OTU1\"   \"OTU6\"   \"OTU8\"   \"OTU11\"  \"OTU21\"  \"OTU34\"  \"OTU42\"  \"OTU57\" \n",
       " [9] \"OTU60\"  \"OTU67\"  \"OTU79\"  \"OTU81\"  \"OTU106\" \"OTU114\" \"OTU123\" \"OTU197\"\n",
       "[17] \"OTU207\" \"OTU235\" \"OTU337\" \"OTU439\" \"OTU459\" \"OTU503\""
      ]
     },
     "metadata": {},
     "output_type": "display_data"
    },
    {
     "data": {
      "text/plain": [
       "[[1]]\n",
       "\n",
       "Call:\n",
       "bbdml(formula = formula_i, phi.formula = phi.formula, data = data_i, \n",
       "    link = link, phi.link = phi.link, inits = inits)\n",
       "\n",
       "\n",
       "Coefficients associated with abundance:\n",
       "            Estimate Std. Error t value Pr(>|t|)   \n",
       "(Intercept)  -0.7348     0.4186  -1.755  0.10466   \n",
       "AmdmtOM      -2.6954     0.8348  -3.229  0.00724 **\n",
       "---\n",
       "Signif. codes:  0 ‘***’ 0.001 ‘**’ 0.01 ‘*’ 0.05 ‘.’ 0.1 ‘ ’ 1\n",
       "\n",
       "\n",
       "Coefficients associated with dispersion:\n",
       "            Estimate Std. Error t value Pr(>|t|)\n",
       "(Intercept)  -0.6776     0.4412  -1.536    0.151\n",
       "AmdmtOM      -1.2412     0.9329  -1.331    0.208\n",
       "\n",
       "\n",
       "Log-likelihood: -139.31\n"
      ]
     },
     "metadata": {},
     "output_type": "display_data"
    },
    {
     "data": {
      "text/html": [
       "<ol class=list-inline>\n",
       "\t<li>'OTU2'</li>\n",
       "\t<li>'OTU4'</li>\n",
       "\t<li>'OTU13'</li>\n",
       "\t<li>'OTU18'</li>\n",
       "\t<li>'OTU26'</li>\n",
       "\t<li>'OTU29'</li>\n",
       "\t<li>'OTU38'</li>\n",
       "\t<li>'OTU44'</li>\n",
       "\t<li>'OTU45'</li>\n",
       "\t<li>'OTU282'</li>\n",
       "\t<li>'OTU297'</li>\n",
       "\t<li>'OTU339'</li>\n",
       "</ol>\n"
      ],
      "text/latex": [
       "\\begin{enumerate*}\n",
       "\\item 'OTU2'\n",
       "\\item 'OTU4'\n",
       "\\item 'OTU13'\n",
       "\\item 'OTU18'\n",
       "\\item 'OTU26'\n",
       "\\item 'OTU29'\n",
       "\\item 'OTU38'\n",
       "\\item 'OTU44'\n",
       "\\item 'OTU45'\n",
       "\\item 'OTU282'\n",
       "\\item 'OTU297'\n",
       "\\item 'OTU339'\n",
       "\\end{enumerate*}\n"
      ],
      "text/markdown": [
       "1. 'OTU2'\n",
       "2. 'OTU4'\n",
       "3. 'OTU13'\n",
       "4. 'OTU18'\n",
       "5. 'OTU26'\n",
       "6. 'OTU29'\n",
       "7. 'OTU38'\n",
       "8. 'OTU44'\n",
       "9. 'OTU45'\n",
       "10. 'OTU282'\n",
       "11. 'OTU297'\n",
       "12. 'OTU339'\n",
       "\n",
       "\n"
      ],
      "text/plain": [
       " [1] \"OTU2\"   \"OTU4\"   \"OTU13\"  \"OTU18\"  \"OTU26\"  \"OTU29\"  \"OTU38\"  \"OTU44\" \n",
       " [9] \"OTU45\"  \"OTU282\" \"OTU297\" \"OTU339\""
      ]
     },
     "metadata": {},
     "output_type": "display_data"
    },
    {
     "data": {
      "text/plain": [
       "[[1]]\n",
       "\n",
       "Call:\n",
       "bbdml(formula = formula_i, phi.formula = phi.formula, data = data_i, \n",
       "    link = link, phi.link = phi.link, inits = inits)\n",
       "\n",
       "\n",
       "Coefficients associated with abundance:\n",
       "            Estimate Std. Error t value Pr(>|t|)    \n",
       "(Intercept)  -1.4282     0.1950  -7.326 9.15e-06 ***\n",
       "AmdmtOM      -3.2084     0.2845 -11.278 9.62e-08 ***\n",
       "---\n",
       "Signif. codes:  0 ‘***’ 0.001 ‘**’ 0.01 ‘*’ 0.05 ‘.’ 0.1 ‘ ’ 1\n",
       "\n",
       "\n",
       "Coefficients associated with dispersion:\n",
       "            Estimate Std. Error t value Pr(>|t|)    \n",
       "(Intercept)  -2.9990     0.4948  -6.061 5.66e-05 ***\n",
       "AmdmtOM      -2.7316     0.7178  -3.805  0.00251 ** \n",
       "---\n",
       "Signif. codes:  0 ‘***’ 0.001 ‘**’ 0.01 ‘*’ 0.05 ‘.’ 0.1 ‘ ’ 1\n",
       "\n",
       "\n",
       "Log-likelihood: -127.88\n"
      ]
     },
     "metadata": {},
     "output_type": "display_data"
    },
    {
     "data": {
      "text/html": [
       "<ol class=list-inline>\n",
       "\t<li>'OTU10'</li>\n",
       "\t<li>'OTU12'</li>\n",
       "\t<li>'OTU27'</li>\n",
       "\t<li>'OTU50'</li>\n",
       "\t<li>'OTU69'</li>\n",
       "\t<li>'OTU75'</li>\n",
       "\t<li>'OTU102'</li>\n",
       "\t<li>'OTU127'</li>\n",
       "\t<li>'OTU151'</li>\n",
       "\t<li>'OTU163'</li>\n",
       "\t<li>'OTU303'</li>\n",
       "\t<li>'OTU358'</li>\n",
       "</ol>\n"
      ],
      "text/latex": [
       "\\begin{enumerate*}\n",
       "\\item 'OTU10'\n",
       "\\item 'OTU12'\n",
       "\\item 'OTU27'\n",
       "\\item 'OTU50'\n",
       "\\item 'OTU69'\n",
       "\\item 'OTU75'\n",
       "\\item 'OTU102'\n",
       "\\item 'OTU127'\n",
       "\\item 'OTU151'\n",
       "\\item 'OTU163'\n",
       "\\item 'OTU303'\n",
       "\\item 'OTU358'\n",
       "\\end{enumerate*}\n"
      ],
      "text/markdown": [
       "1. 'OTU10'\n",
       "2. 'OTU12'\n",
       "3. 'OTU27'\n",
       "4. 'OTU50'\n",
       "5. 'OTU69'\n",
       "6. 'OTU75'\n",
       "7. 'OTU102'\n",
       "8. 'OTU127'\n",
       "9. 'OTU151'\n",
       "10. 'OTU163'\n",
       "11. 'OTU303'\n",
       "12. 'OTU358'\n",
       "\n",
       "\n"
      ],
      "text/plain": [
       " [1] \"OTU10\"  \"OTU12\"  \"OTU27\"  \"OTU50\"  \"OTU69\"  \"OTU75\"  \"OTU102\" \"OTU127\"\n",
       " [9] \"OTU151\" \"OTU163\" \"OTU303\" \"OTU358\""
      ]
     },
     "metadata": {},
     "output_type": "display_data"
    },
    {
     "data": {
      "text/plain": [
       "[[1]]\n",
       "\n",
       "Call:\n",
       "bbdml(formula = formula_i, phi.formula = phi.formula, data = data_i, \n",
       "    link = link, phi.link = phi.link, inits = inits)\n",
       "\n",
       "\n",
       "Coefficients associated with abundance:\n",
       "            Estimate Std. Error t value Pr(>|t|)    \n",
       "(Intercept)  -1.3140     0.1068 -12.308 3.64e-08 ***\n",
       "AmdmtOM      -4.3645     1.2793  -3.412  0.00516 ** \n",
       "---\n",
       "Signif. codes:  0 ‘***’ 0.001 ‘**’ 0.01 ‘*’ 0.05 ‘.’ 0.1 ‘ ’ 1\n",
       "\n",
       "\n",
       "Coefficients associated with dispersion:\n",
       "            Estimate Std. Error t value Pr(>|t|)    \n",
       "(Intercept)  -4.1748     0.4999  -8.351 2.42e-06 ***\n",
       "AmdmtOM       1.0998     1.5020   0.732    0.478    \n",
       "---\n",
       "Signif. codes:  0 ‘***’ 0.001 ‘**’ 0.01 ‘*’ 0.05 ‘.’ 0.1 ‘ ’ 1\n",
       "\n",
       "\n",
       "Log-likelihood: -90.954\n"
      ]
     },
     "metadata": {},
     "output_type": "display_data"
    },
    {
     "data": {
      "text/plain": [
       "[[1]]\n",
       "\n",
       "Call:\n",
       "bbdml(formula = formula_i, phi.formula = phi.formula, data = data_i, \n",
       "    link = link, phi.link = phi.link, inits = inits)\n",
       "\n",
       "\n",
       "Coefficients associated with abundance:\n",
       "            Estimate Std. Error t value Pr(>|t|)    \n",
       "(Intercept)  -3.7584     0.6521  -5.764 8.97e-05 ***\n",
       "AmdmtOM      -5.8078     2.0596  -2.820   0.0155 *  \n",
       "---\n",
       "Signif. codes:  0 ‘***’ 0.001 ‘**’ 0.01 ‘*’ 0.05 ‘.’ 0.1 ‘ ’ 1\n",
       "\n",
       "\n",
       "Coefficients associated with dispersion:\n",
       "            Estimate Std. Error t value Pr(>|t|)   \n",
       "(Intercept)  -2.4988     0.7868  -3.176  0.00798 **\n",
       "AmdmtOM      -3.6655     2.4063  -1.523  0.15360   \n",
       "---\n",
       "Signif. codes:  0 ‘***’ 0.001 ‘**’ 0.01 ‘*’ 0.05 ‘.’ 0.1 ‘ ’ 1\n",
       "\n",
       "\n",
       "Log-likelihood: -56.71\n"
      ]
     },
     "metadata": {},
     "output_type": "display_data"
    },
    {
     "data": {
      "text/html": [
       "<ol class=list-inline>\n",
       "\t<li>'OTU17'</li>\n",
       "\t<li>'OTU20'</li>\n",
       "\t<li>'OTU25'</li>\n",
       "\t<li>'OTU28'</li>\n",
       "\t<li>'OTU33'</li>\n",
       "\t<li>'OTU35'</li>\n",
       "\t<li>'OTU61'</li>\n",
       "\t<li>'OTU128'</li>\n",
       "\t<li>'OTU142'</li>\n",
       "\t<li>'OTU143'</li>\n",
       "\t<li>'OTU195'</li>\n",
       "\t<li>'OTU319'</li>\n",
       "\t<li>'OTU720'</li>\n",
       "\t<li>'OTU1283'</li>\n",
       "</ol>\n"
      ],
      "text/latex": [
       "\\begin{enumerate*}\n",
       "\\item 'OTU17'\n",
       "\\item 'OTU20'\n",
       "\\item 'OTU25'\n",
       "\\item 'OTU28'\n",
       "\\item 'OTU33'\n",
       "\\item 'OTU35'\n",
       "\\item 'OTU61'\n",
       "\\item 'OTU128'\n",
       "\\item 'OTU142'\n",
       "\\item 'OTU143'\n",
       "\\item 'OTU195'\n",
       "\\item 'OTU319'\n",
       "\\item 'OTU720'\n",
       "\\item 'OTU1283'\n",
       "\\end{enumerate*}\n"
      ],
      "text/markdown": [
       "1. 'OTU17'\n",
       "2. 'OTU20'\n",
       "3. 'OTU25'\n",
       "4. 'OTU28'\n",
       "5. 'OTU33'\n",
       "6. 'OTU35'\n",
       "7. 'OTU61'\n",
       "8. 'OTU128'\n",
       "9. 'OTU142'\n",
       "10. 'OTU143'\n",
       "11. 'OTU195'\n",
       "12. 'OTU319'\n",
       "13. 'OTU720'\n",
       "14. 'OTU1283'\n",
       "\n",
       "\n"
      ],
      "text/plain": [
       " [1] \"OTU17\"   \"OTU20\"   \"OTU25\"   \"OTU28\"   \"OTU33\"   \"OTU35\"   \"OTU61\"  \n",
       " [8] \"OTU128\"  \"OTU142\"  \"OTU143\"  \"OTU195\"  \"OTU319\"  \"OTU720\"  \"OTU1283\""
      ]
     },
     "metadata": {},
     "output_type": "display_data"
    },
    {
     "data": {
      "text/plain": [
       "[[1]]\n",
       "\n",
       "Call:\n",
       "bbdml(formula = formula_i, phi.formula = phi.formula, data = data_i, \n",
       "    link = link, phi.link = phi.link, inits = inits)\n",
       "\n",
       "\n",
       "Coefficients associated with abundance:\n",
       "            Estimate Std. Error t value Pr(>|t|)    \n",
       "(Intercept)  -2.5563     0.3815  -6.700  2.2e-05 ***\n",
       "AmdmtOM      -6.7825     2.0446  -3.317  0.00614 ** \n",
       "---\n",
       "Signif. codes:  0 ‘***’ 0.001 ‘**’ 0.01 ‘*’ 0.05 ‘.’ 0.1 ‘ ’ 1\n",
       "\n",
       "\n",
       "Coefficients associated with dispersion:\n",
       "            Estimate Std. Error t value Pr(>|t|)    \n",
       "(Intercept)  -2.4688     0.5466  -4.517 0.000706 ***\n",
       "AmdmtOM      -3.4060     2.3784  -1.432 0.177656    \n",
       "---\n",
       "Signif. codes:  0 ‘***’ 0.001 ‘**’ 0.01 ‘*’ 0.05 ‘.’ 0.1 ‘ ’ 1\n",
       "\n",
       "\n",
       "Log-likelihood: -76.103\n"
      ]
     },
     "metadata": {},
     "output_type": "display_data"
    },
    {
     "data": {
      "text/plain": [
       "[[1]]\n",
       "\n",
       "Call:\n",
       "bbdml(formula = formula_i, phi.formula = phi.formula, data = data_i, \n",
       "    link = link, phi.link = phi.link, inits = inits)\n",
       "\n",
       "\n",
       "Coefficients associated with abundance:\n",
       "            Estimate Std. Error t value Pr(>|t|)    \n",
       "(Intercept)   -9.861      1.794  -5.497 0.000137 ***\n",
       "AmdmtOM        5.952      2.194   2.712 0.018875 *  \n",
       "---\n",
       "Signif. codes:  0 ‘***’ 0.001 ‘**’ 0.01 ‘*’ 0.05 ‘.’ 0.1 ‘ ’ 1\n",
       "\n",
       "\n",
       "Coefficients associated with dispersion:\n",
       "            Estimate Std. Error t value Pr(>|t|)   \n",
       "(Intercept)   -6.629      2.144  -3.091  0.00934 **\n",
       "AmdmtOM        5.563      2.531   2.197  0.04836 * \n",
       "---\n",
       "Signif. codes:  0 ‘***’ 0.001 ‘**’ 0.01 ‘*’ 0.05 ‘.’ 0.1 ‘ ’ 1\n",
       "\n",
       "\n",
       "Log-likelihood: -40.634\n"
      ]
     },
     "metadata": {},
     "output_type": "display_data"
    }
   ],
   "source": [
    "results[[1]]$significant_taxa\n",
    "results[[1]]$significant_models[1]\n",
    "results[[2]]$significant_taxa\n",
    "results[[2]]$significant_models[2]\n",
    "results[[3]]$significant_taxa\n",
    "results[[3]]$significant_models[1]\n",
    "results[[3]]$significant_models[7]\n",
    "results[[4]]$significant_taxa\n",
    "results[[4]]$significant_models[2]\n",
    "results[[4]]$significant_models[9]"
   ]
  },
  {
   "cell_type": "code",
   "execution_count": 61,
   "metadata": {},
   "outputs": [
    {
     "data": {},
     "metadata": {},
     "output_type": "display_data"
    },
    {
     "data": {
      "image/png": "[encoded data removed]",
      "text/plain": [
       "plot without title"
      ]
     },
     "metadata": {},
     "output_type": "display_data"
    }
   ],
   "source": [
    "p = plot(results[[1]])\n",
    "p = p + theme(axis.title.y=element_blank(),\n",
    "        axis.text.y=element_blank(),\n",
    "        axis.ticks.y=element_blank())\n",
    "p"
   ]
  },
  {
   "cell_type": "code",
   "execution_count": 121,
   "metadata": {},
   "outputs": [],
   "source": [
    "SigOTUs = c(\"OTU1\",\"OTU4\",\"OTU10\",\"OTU102\",\"OTU20\",\"OTU142\")"
   ]
  },
  {
   "cell_type": "code",
   "execution_count": 131,
   "metadata": {},
   "outputs": [
    {
     "data": {
      "text/html": [
       "<table>\n",
       "<thead><tr><th scope=col>OTU</th><th scope=col>Sample</th><th scope=col>Abundance</th><th scope=col>Tube_ID</th><th scope=col>Seq_ID</th><th scope=col>Proj_ID</th><th scope=col>Soil_Rep_Day</th><th scope=col>Soil_Rep_Day_Trtmt</th><th scope=col>Qorpak_ID</th><th scope=col>Amdmt_mg</th><th scope=col>⋯</th><th scope=col>Soil.CO2.mean.mg.per.gram.soil.C.cum</th><th scope=col>Amdmt.CO2.mean.mg.per.mg.amdmt.C.cum</th><th scope=col>Soil_Name</th><th scope=col>Kingdom</th><th scope=col>Phylum</th><th scope=col>Class</th><th scope=col>Order</th><th scope=col>Family</th><th scope=col>Genus</th><th scope=col>Species</th></tr></thead>\n",
       "<tbody>\n",
       "\t<tr><td>OTU1               </td><td>CNL_066            </td><td>0.664435910        </td><td>CNL_66             </td><td> 66                </td><td>CNL                </td><td>HI_C_26            </td><td>HI_C_26_Soil       </td><td> 66                </td><td>x                  </td><td>⋯                  </td><td> 19.96488          </td><td>        NA         </td><td>Hydrudand          </td><td>Fungi              </td><td>Basidiomycota      </td><td>Tremellomycetes    </td><td>Tremellales        </td><td>Trimorphomycetaceae</td><td>Saitozyma          </td><td>podzolica          </td></tr>\n",
       "\t<tr><td>OTU1               </td><td>CNL_064            </td><td>0.582690846        </td><td>CNL_64             </td><td> 64                </td><td>CNL                </td><td>HI_C_26            </td><td>HI_C_26_PyOM       </td><td> 64                </td><td>10.95              </td><td>⋯                  </td><td> 32.31951          </td><td>0.03694358         </td><td>Hydrudand          </td><td>Fungi              </td><td>Basidiomycota      </td><td>Tremellomycetes    </td><td>Tremellales        </td><td>Trimorphomycetaceae</td><td>Saitozyma          </td><td>podzolica          </td></tr>\n",
       "\t<tr><td>OTU1               </td><td>CNL_070            </td><td>0.212720421        </td><td>CNL_70             </td><td> 70                </td><td>CNL                </td><td>HI_D_26            </td><td>HI_D_26_PyOM       </td><td> 70                </td><td>11.07              </td><td>⋯                  </td><td> 30.81563          </td><td>0.02706653         </td><td>Hydrudand          </td><td>Fungi              </td><td>Basidiomycota      </td><td>Tremellomycetes    </td><td>Tremellales        </td><td>Trimorphomycetaceae</td><td>Saitozyma          </td><td>podzolica          </td></tr>\n",
       "\t<tr><td>OTU1               </td><td>CNL_072            </td><td>0.173859935        </td><td>CNL_72             </td><td> 72                </td><td>CNL                </td><td>HI_D_26            </td><td>HI_D_26_Soil       </td><td> 72                </td><td>x                  </td><td>⋯                  </td><td> 29.81276          </td><td>        NA         </td><td>Hydrudand          </td><td>Fungi              </td><td>Basidiomycota      </td><td>Tremellomycetes    </td><td>Tremellales        </td><td>Trimorphomycetaceae</td><td>Saitozyma          </td><td>podzolica          </td></tr>\n",
       "\t<tr><td>OTU1               </td><td>CNL_062            </td><td>0.096182760        </td><td>CNL_62             </td><td> 62                </td><td>CNL                </td><td>HI_C_26            </td><td>HI_C_26_OM         </td><td> 62                </td><td>30.05              </td><td>⋯                  </td><td> 32.17582          </td><td>0.49867837         </td><td>Hydrudand          </td><td>Fungi              </td><td>Basidiomycota      </td><td>Tremellomycetes    </td><td>Tremellales        </td><td>Trimorphomycetaceae</td><td>Saitozyma          </td><td>podzolica          </td></tr>\n",
       "\t<tr><td>OTU1               </td><td>CNL_058            </td><td>0.071571409        </td><td>CNL_58             </td><td> 58                </td><td>CNL                </td><td>HI_B_26            </td><td>HI_B_26_PyOM       </td><td> 58                </td><td>10.95              </td><td>⋯                  </td><td> 17.37512          </td><td>0.02451997         </td><td>Hydrudand          </td><td>Fungi              </td><td>Basidiomycota      </td><td>Tremellomycetes    </td><td>Tremellales        </td><td>Trimorphomycetaceae</td><td>Saitozyma          </td><td>podzolica          </td></tr>\n",
       "\t<tr><td>OTU1               </td><td>CNL_060            </td><td>0.032534209        </td><td>CNL_60             </td><td> 60                </td><td>CNL                </td><td>HI_B_26            </td><td>HI_B_26_Soil       </td><td> 60                </td><td>x                  </td><td>⋯                  </td><td> 25.49399          </td><td>        NA         </td><td>Hydrudand          </td><td>Fungi              </td><td>Basidiomycota      </td><td>Tremellomycetes    </td><td>Tremellales        </td><td>Trimorphomycetaceae</td><td>Saitozyma          </td><td>podzolica          </td></tr>\n",
       "\t<tr><td>OTU1               </td><td>CNL_054            </td><td>0.022574097        </td><td>CNL_54             </td><td> 54                </td><td>CNL                </td><td>HI_A_26            </td><td>HI_A_26_Soil       </td><td> 54                </td><td>x                  </td><td>⋯                  </td><td> 41.17556          </td><td>        NA         </td><td>Hydrudand          </td><td>Fungi              </td><td>Basidiomycota      </td><td>Tremellomycetes    </td><td>Tremellales        </td><td>Trimorphomycetaceae</td><td>Saitozyma          </td><td>podzolica          </td></tr>\n",
       "\t<tr><td>OTU1               </td><td>CNL_112            </td><td>0.018137848        </td><td>CNL_112            </td><td>112                </td><td>CNL                </td><td>MP_A_26            </td><td>MP_A_26_PyOM       </td><td>112                </td><td>55.05              </td><td>⋯                  </td><td> 26.84428          </td><td>0.03445776         </td><td>Fragiudept         </td><td>Fungi              </td><td>Basidiomycota      </td><td>Tremellomycetes    </td><td>Tremellales        </td><td>Trimorphomycetaceae</td><td>Saitozyma          </td><td>podzolica          </td></tr>\n",
       "\t<tr><td>OTU1               </td><td>CNL_100            </td><td>0.014957127        </td><td>CNL_100            </td><td>100                </td><td>CNL                </td><td>MP_A_26            </td><td>MP_A_26_PyOM       </td><td>100                </td><td>54.98              </td><td>⋯                  </td><td> 23.99315          </td><td>0.03378587         </td><td>Fragiudept         </td><td>Fungi              </td><td>Basidiomycota      </td><td>Tremellomycetes    </td><td>Tremellales        </td><td>Trimorphomycetaceae</td><td>Saitozyma          </td><td>podzolica          </td></tr>\n",
       "\t<tr><td>OTU1               </td><td>CNL_108            </td><td>0.014223942        </td><td>CNL_108            </td><td>108                </td><td>CNL                </td><td>MP_A_26            </td><td>MP_A_26_Soil       </td><td>108                </td><td>x                  </td><td>⋯                  </td><td> 21.05492          </td><td>        NA         </td><td>Fragiudept         </td><td>Fungi              </td><td>Basidiomycota      </td><td>Tremellomycetes    </td><td>Tremellales        </td><td>Trimorphomycetaceae</td><td>Saitozyma          </td><td>podzolica          </td></tr>\n",
       "\t<tr><td>OTU1               </td><td>CNL_050            </td><td>0.013097979        </td><td>CNL_50             </td><td> 50                </td><td>CNL                </td><td>HI_A_26            </td><td>HI_A_26_OM         </td><td> 50                </td><td>30.01              </td><td>⋯                  </td><td> 33.18795          </td><td>0.31996082         </td><td>Hydrudand          </td><td>Fungi              </td><td>Basidiomycota      </td><td>Tremellomycetes    </td><td>Tremellales        </td><td>Trimorphomycetaceae</td><td>Saitozyma          </td><td>podzolica          </td></tr>\n",
       "\t<tr><td>OTU1               </td><td>CNL_106            </td><td>0.008983051        </td><td>CNL_106            </td><td>106                </td><td>CNL                </td><td>MP_A_26            </td><td>MP_A_26_PyOM       </td><td>106                </td><td>55.07              </td><td>⋯                  </td><td> 15.55723          </td><td>0.02236555         </td><td>Fragiudept         </td><td>Fungi              </td><td>Basidiomycota      </td><td>Tremellomycetes    </td><td>Tremellales        </td><td>Trimorphomycetaceae</td><td>Saitozyma          </td><td>podzolica          </td></tr>\n",
       "\t<tr><td>OTU1               </td><td>CNL_052            </td><td>0.004652174        </td><td>CNL_52             </td><td> 52                </td><td>CNL                </td><td>HI_A_26            </td><td>HI_A_26_PyOM       </td><td> 52                </td><td>10.95              </td><td>⋯                  </td><td> 39.86480          </td><td>0.03670024         </td><td>Hydrudand          </td><td>Fungi              </td><td>Basidiomycota      </td><td>Tremellomycetes    </td><td>Tremellales        </td><td>Trimorphomycetaceae</td><td>Saitozyma          </td><td>podzolica          </td></tr>\n",
       "\t<tr><td>OTU1               </td><td>CNL_048            </td><td>0.001981621        </td><td>CNL_48             </td><td> 48                </td><td>CNL                </td><td>FL_D_26            </td><td>FL_D_26_Soil       </td><td> 48                </td><td>x                  </td><td>⋯                  </td><td> 85.45913          </td><td>        NA         </td><td>Quartzipsamment    </td><td>Fungi              </td><td>Basidiomycota      </td><td>Tremellomycetes    </td><td>Tremellales        </td><td>Trimorphomycetaceae</td><td>Saitozyma          </td><td>podzolica          </td></tr>\n",
       "\t<tr><td>OTU1               </td><td>CNL_068            </td><td>0.001125246        </td><td>CNL_68             </td><td> 68                </td><td>CNL                </td><td>HI_D_26            </td><td>HI_D_26_OM         </td><td> 68                </td><td>30                 </td><td>⋯                  </td><td> 26.05202          </td><td>0.52745935         </td><td>Hydrudand          </td><td>Fungi              </td><td>Basidiomycota      </td><td>Tremellomycetes    </td><td>Tremellales        </td><td>Trimorphomycetaceae</td><td>Saitozyma          </td><td>podzolica          </td></tr>\n",
       "\t<tr><td>OTU1               </td><td>CNL_086            </td><td>0.000000000        </td><td>CNL_86             </td><td> 86                </td><td>CNL                </td><td>UT_C_26            </td><td>UT_C_26_OM         </td><td> 86                </td><td>150.04             </td><td>⋯                  </td><td> 61.58314          </td><td>0.74965574         </td><td>Haplocalcid        </td><td>Fungi              </td><td>Basidiomycota      </td><td>Tremellomycetes    </td><td>Tremellales        </td><td>Trimorphomycetaceae</td><td>Saitozyma          </td><td>podzolica          </td></tr>\n",
       "\t<tr><td>OTU1               </td><td>CNL_046            </td><td>0.000000000        </td><td>CNL_46             </td><td> 46                </td><td>CNL                </td><td>FL_D_26            </td><td>FL_D_26_PyOM       </td><td> 46                </td><td>55.01              </td><td>⋯                  </td><td>139.31194          </td><td>0.04810811         </td><td>Quartzipsamment    </td><td>Fungi              </td><td>Basidiomycota      </td><td>Tremellomycetes    </td><td>Tremellales        </td><td>Trimorphomycetaceae</td><td>Saitozyma          </td><td>podzolica          </td></tr>\n",
       "\t<tr><td>OTU1               </td><td>CNL_026            </td><td>0.000000000        </td><td>CNL_26             </td><td> 26                </td><td>CNL                </td><td>FL_A_26            </td><td>FL_A_26_OM         </td><td> 26                </td><td>150.04             </td><td>⋯                  </td><td>172.30840          </td><td>0.36324083         </td><td>Quartzipsamment    </td><td>Fungi              </td><td>Basidiomycota      </td><td>Tremellomycetes    </td><td>Tremellales        </td><td>Trimorphomycetaceae</td><td>Saitozyma          </td><td>podzolica          </td></tr>\n",
       "\t<tr><td>OTU1               </td><td>CNL_006            </td><td>0.000000000        </td><td>CNL_6              </td><td>  6                </td><td>CNL                </td><td>AK_A_26            </td><td>AK_A_26_Soil       </td><td>  6                </td><td>x                  </td><td>⋯                  </td><td> 21.50489          </td><td>        NA         </td><td>Cryaquept          </td><td>Fungi              </td><td>Basidiomycota      </td><td>Tremellomycetes    </td><td>Tremellales        </td><td>Trimorphomycetaceae</td><td>Saitozyma          </td><td>podzolica          </td></tr>\n",
       "\t<tr><td>OTU1               </td><td>CNL_088            </td><td>0.000000000        </td><td>CNL_88             </td><td> 88                </td><td>CNL                </td><td>UT_C_26            </td><td>UT_C_26_PyOM       </td><td> 88                </td><td>55                 </td><td>⋯                  </td><td> 44.55727          </td><td>0.04311645         </td><td>Haplocalcid        </td><td>Fungi              </td><td>Basidiomycota      </td><td>Tremellomycetes    </td><td>Tremellales        </td><td>Trimorphomycetaceae</td><td>Saitozyma          </td><td>podzolica          </td></tr>\n",
       "\t<tr><td>OTU1               </td><td>CNL_028            </td><td>0.000000000        </td><td>CNL_28             </td><td> 28                </td><td>CNL                </td><td>FL_A_26            </td><td>FL_A_26_PyOM       </td><td> 28                </td><td>54.98              </td><td>⋯                  </td><td>134.72465          </td><td>0.04718308         </td><td>Quartzipsamment    </td><td>Fungi              </td><td>Basidiomycota      </td><td>Tremellomycetes    </td><td>Tremellales        </td><td>Trimorphomycetaceae</td><td>Saitozyma          </td><td>podzolica          </td></tr>\n",
       "\t<tr><td>OTU1               </td><td>CNL_008            </td><td>0.000000000        </td><td>CNL_8              </td><td>  8                </td><td>CNL                </td><td>AK_B_26            </td><td>AK_B_26_OM         </td><td>  8                </td><td>29.95              </td><td>⋯                  </td><td> 16.09494          </td><td>0.51789432         </td><td>Cryaquept          </td><td>Fungi              </td><td>Basidiomycota      </td><td>Tremellomycetes    </td><td>Tremellales        </td><td>Trimorphomycetaceae</td><td>Saitozyma          </td><td>podzolica          </td></tr>\n",
       "\t<tr><td>OTU1               </td><td>CNL_110            </td><td>0.000000000        </td><td>CNL_110            </td><td>110                </td><td>CNL                </td><td>MP_A_26            </td><td>MP_A_26_OM         </td><td>110                </td><td>149.98             </td><td>⋯                  </td><td> 46.36114          </td><td>0.84168102         </td><td>Fragiudept         </td><td>Fungi              </td><td>Basidiomycota      </td><td>Tremellomycetes    </td><td>Tremellales        </td><td>Trimorphomycetaceae</td><td>Saitozyma          </td><td>podzolica          </td></tr>\n",
       "\t<tr><td>OTU1               </td><td>CNL_090            </td><td>0.000000000        </td><td>CNL_90             </td><td> 90                </td><td>CNL                </td><td>UT_C_26            </td><td>UT_C_26_Soil       </td><td> 90                </td><td>x                  </td><td>⋯                  </td><td> 22.52068          </td><td>        NA         </td><td>Haplocalcid        </td><td>Fungi              </td><td>Basidiomycota      </td><td>Tremellomycetes    </td><td>Tremellales        </td><td>Trimorphomycetaceae</td><td>Saitozyma          </td><td>podzolica          </td></tr>\n",
       "\t<tr><td>OTU1               </td><td>CNL_030            </td><td>0.000000000        </td><td>CNL_30             </td><td> 30                </td><td>CNL                </td><td>FL_A_26            </td><td>FL_A_26_Soil       </td><td> 30                </td><td>x                  </td><td>⋯                  </td><td> 84.23677          </td><td>        NA         </td><td>Quartzipsamment    </td><td>Fungi              </td><td>Basidiomycota      </td><td>Tremellomycetes    </td><td>Tremellales        </td><td>Trimorphomycetaceae</td><td>Saitozyma          </td><td>podzolica          </td></tr>\n",
       "\t<tr><td>OTU1               </td><td>CNL_010            </td><td>0.000000000        </td><td>CNL_10             </td><td> 10                </td><td>CNL                </td><td>AK_B_26            </td><td>AK_B_26_PyOM       </td><td> 10                </td><td>11.03              </td><td>⋯                  </td><td> 17.68535          </td><td>0.02500065         </td><td>Cryaquept          </td><td>Fungi              </td><td>Basidiomycota      </td><td>Tremellomycetes    </td><td>Tremellales        </td><td>Trimorphomycetaceae</td><td>Saitozyma          </td><td>podzolica          </td></tr>\n",
       "\t<tr><td>OTU1               </td><td>CNL_092            </td><td>0.000000000        </td><td>CNL_92             </td><td> 92                </td><td>CNL                </td><td>UT_D_26            </td><td>UT_D_26_OM         </td><td> 92                </td><td>149.96             </td><td>⋯                  </td><td> 72.19743          </td><td>0.65718154         </td><td>Haplocalcid        </td><td>Fungi              </td><td>Basidiomycota      </td><td>Tremellomycetes    </td><td>Tremellales        </td><td>Trimorphomycetaceae</td><td>Saitozyma          </td><td>podzolica          </td></tr>\n",
       "\t<tr><td>OTU1               </td><td>CNL_032            </td><td>0.000000000        </td><td>CNL_32             </td><td> 32                </td><td>CNL                </td><td>FL_B_26            </td><td>FL_B_26_OM         </td><td> 32                </td><td>150.05             </td><td>⋯                  </td><td>228.27195          </td><td>0.68536093         </td><td>Quartzipsamment    </td><td>Fungi              </td><td>Basidiomycota      </td><td>Tremellomycetes    </td><td>Tremellales        </td><td>Trimorphomycetaceae</td><td>Saitozyma          </td><td>podzolica          </td></tr>\n",
       "\t<tr><td>OTU1               </td><td>CNL_012            </td><td>0.000000000        </td><td>CNL_12             </td><td> 12                </td><td>CNL                </td><td>AK_B_26            </td><td>AK_B_26_Soil       </td><td> 12                </td><td>x                  </td><td>⋯                  </td><td> 24.67463          </td><td>        NA         </td><td>Cryaquept          </td><td>Fungi              </td><td>Basidiomycota      </td><td>Tremellomycetes    </td><td>Tremellales        </td><td>Trimorphomycetaceae</td><td>Saitozyma          </td><td>podzolica          </td></tr>\n",
       "\t<tr><td>⋮</td><td>⋮</td><td>⋮</td><td>⋮</td><td>⋮</td><td>⋮</td><td>⋮</td><td>⋮</td><td>⋮</td><td>⋮</td><td>⋱</td><td>⋮</td><td>⋮</td><td>⋮</td><td>⋮</td><td>⋮</td><td>⋮</td><td>⋮</td><td>⋮</td><td>⋮</td><td>⋮</td></tr>\n",
       "\t<tr><td>OTU4             </td><td>CNL_016          </td><td>0                </td><td>CNL_16           </td><td> 16              </td><td>CNL              </td><td>AK_C_26          </td><td>AK_C_26_PyOM     </td><td> 16              </td><td>11.07            </td><td>⋯                </td><td> 36.14912        </td><td>0.04360435       </td><td>Cryaquept        </td><td>Fungi            </td><td>Ascomycota       </td><td>Dothideomycetes  </td><td>Pleosporales     </td><td>Pleosporaceae    </td><td>Alternaria       </td><td>chlamydosporigena</td></tr>\n",
       "\t<tr><td>OTU4             </td><td>CNL_124          </td><td>0                </td><td>CNL_124          </td><td>124              </td><td>CNL              </td><td>AK_A_26          </td><td>AK_A_26_PyOM     </td><td>124              </td><td>10.97            </td><td>⋯                </td><td> 25.68973        </td><td>0.05229653       </td><td>Cryaquept        </td><td>Fungi            </td><td>Ascomycota       </td><td>Dothideomycetes  </td><td>Pleosporales     </td><td>Pleosporaceae    </td><td>Alternaria       </td><td>chlamydosporigena</td></tr>\n",
       "\t<tr><td>OTU4             </td><td>CNL_104          </td><td>0                </td><td>CNL_104          </td><td>104              </td><td>CNL              </td><td>MP_A_26          </td><td>MP_A_26_OM       </td><td>104              </td><td>150.02           </td><td>⋯                </td><td> 50.43425        </td><td>0.83634703       </td><td>Fragiudept       </td><td>Fungi            </td><td>Ascomycota       </td><td>Dothideomycetes  </td><td>Pleosporales     </td><td>Pleosporaceae    </td><td>Alternaria       </td><td>chlamydosporigena</td></tr>\n",
       "\t<tr><td>OTU4             </td><td>CNL_118          </td><td>0                </td><td>CNL_118          </td><td>118              </td><td>CNL              </td><td>MP_A_26          </td><td>MP_A_26_PyOM     </td><td>118              </td><td>55.02            </td><td>⋯                </td><td> 33.86549        </td><td>0.03066436       </td><td>Fragiudept       </td><td>Fungi            </td><td>Ascomycota       </td><td>Dothideomycetes  </td><td>Pleosporales     </td><td>Pleosporaceae    </td><td>Alternaria       </td><td>chlamydosporigena</td></tr>\n",
       "\t<tr><td>OTU4             </td><td>CNL_024          </td><td>0                </td><td>CNL_24           </td><td> 24              </td><td>CNL              </td><td>AK_D_26          </td><td>AK_D_26_Soil     </td><td> 24              </td><td>x                </td><td>⋯                </td><td> 28.95399        </td><td>        NA       </td><td>Cryaquept        </td><td>Fungi            </td><td>Ascomycota       </td><td>Dothideomycetes  </td><td>Pleosporales     </td><td>Pleosporaceae    </td><td>Alternaria       </td><td>chlamydosporigena</td></tr>\n",
       "\t<tr><td>OTU4             </td><td>CNL_018          </td><td>0                </td><td>CNL_18           </td><td> 18              </td><td>CNL              </td><td>AK_C_26          </td><td>AK_C_26_Soil     </td><td> 18              </td><td>x                </td><td>⋯                </td><td> 32.19444        </td><td>        NA       </td><td>Cryaquept        </td><td>Fungi            </td><td>Ascomycota       </td><td>Dothideomycetes  </td><td>Pleosporales     </td><td>Pleosporaceae    </td><td>Alternaria       </td><td>chlamydosporigena</td></tr>\n",
       "\t<tr><td>OTU4             </td><td>CNL_032          </td><td>0                </td><td>CNL_32           </td><td> 32              </td><td>CNL              </td><td>FL_B_26          </td><td>FL_B_26_OM       </td><td> 32              </td><td>150.05           </td><td>⋯                </td><td>228.27195        </td><td>0.68536093       </td><td>Quartzipsamment  </td><td>Fungi            </td><td>Ascomycota       </td><td>Dothideomycetes  </td><td>Pleosporales     </td><td>Pleosporaceae    </td><td>Alternaria       </td><td>chlamydosporigena</td></tr>\n",
       "\t<tr><td>OTU4             </td><td>CNL_066          </td><td>0                </td><td>CNL_66           </td><td> 66              </td><td>CNL              </td><td>HI_C_26          </td><td>HI_C_26_Soil     </td><td> 66              </td><td>x                </td><td>⋯                </td><td> 19.96488        </td><td>        NA       </td><td>Hydrudand        </td><td>Fungi            </td><td>Ascomycota       </td><td>Dothideomycetes  </td><td>Pleosporales     </td><td>Pleosporaceae    </td><td>Alternaria       </td><td>chlamydosporigena</td></tr>\n",
       "\t<tr><td>OTU4             </td><td>CNL_046          </td><td>0                </td><td>CNL_46           </td><td> 46              </td><td>CNL              </td><td>FL_D_26          </td><td>FL_D_26_PyOM     </td><td> 46              </td><td>55.01            </td><td>⋯                </td><td>139.31194        </td><td>0.04810811       </td><td>Quartzipsamment  </td><td>Fungi            </td><td>Ascomycota       </td><td>Dothideomycetes  </td><td>Pleosporales     </td><td>Pleosporaceae    </td><td>Alternaria       </td><td>chlamydosporigena</td></tr>\n",
       "\t<tr><td>OTU4             </td><td>CNL_026          </td><td>0                </td><td>CNL_26           </td><td> 26              </td><td>CNL              </td><td>FL_A_26          </td><td>FL_A_26_OM       </td><td> 26              </td><td>150.04           </td><td>⋯                </td><td>172.30840        </td><td>0.36324083       </td><td>Quartzipsamment  </td><td>Fungi            </td><td>Ascomycota       </td><td>Dothideomycetes  </td><td>Pleosporales     </td><td>Pleosporaceae    </td><td>Alternaria       </td><td>chlamydosporigena</td></tr>\n",
       "\t<tr><td>OTU4             </td><td>CNL_034          </td><td>0                </td><td>CNL_34           </td><td> 34              </td><td>CNL              </td><td>FL_B_26          </td><td>FL_B_26_PyOM     </td><td> 34              </td><td>55.07            </td><td>⋯                </td><td>154.33514        </td><td>0.02511195       </td><td>Quartzipsamment  </td><td>Fungi            </td><td>Ascomycota       </td><td>Dothideomycetes  </td><td>Pleosporales     </td><td>Pleosporaceae    </td><td>Alternaria       </td><td>chlamydosporigena</td></tr>\n",
       "\t<tr><td>OTU4             </td><td>CNL_068          </td><td>0                </td><td>CNL_68           </td><td> 68              </td><td>CNL              </td><td>HI_D_26          </td><td>HI_D_26_OM       </td><td> 68              </td><td>30               </td><td>⋯                </td><td> 26.05202        </td><td>0.52745935       </td><td>Hydrudand        </td><td>Fungi            </td><td>Ascomycota       </td><td>Dothideomycetes  </td><td>Pleosporales     </td><td>Pleosporaceae    </td><td>Alternaria       </td><td>chlamydosporigena</td></tr>\n",
       "\t<tr><td>OTU4             </td><td>CNL_048          </td><td>0                </td><td>CNL_48           </td><td> 48              </td><td>CNL              </td><td>FL_D_26          </td><td>FL_D_26_Soil     </td><td> 48              </td><td>x                </td><td>⋯                </td><td> 85.45913        </td><td>        NA       </td><td>Quartzipsamment  </td><td>Fungi            </td><td>Ascomycota       </td><td>Dothideomycetes  </td><td>Pleosporales     </td><td>Pleosporaceae    </td><td>Alternaria       </td><td>chlamydosporigena</td></tr>\n",
       "\t<tr><td>OTU4             </td><td>CNL_028          </td><td>0                </td><td>CNL_28           </td><td> 28              </td><td>CNL              </td><td>FL_A_26          </td><td>FL_A_26_PyOM     </td><td> 28              </td><td>54.98            </td><td>⋯                </td><td>134.72465        </td><td>0.04718308       </td><td>Quartzipsamment  </td><td>Fungi            </td><td>Ascomycota       </td><td>Dothideomycetes  </td><td>Pleosporales     </td><td>Pleosporaceae    </td><td>Alternaria       </td><td>chlamydosporigena</td></tr>\n",
       "\t<tr><td>OTU4             </td><td>CNL_036          </td><td>0                </td><td>CNL_36           </td><td> 36              </td><td>CNL              </td><td>FL_B_26          </td><td>FL_B_26_Soil     </td><td> 36              </td><td>x                </td><td>⋯                </td><td>109.45305        </td><td>        NA       </td><td>Quartzipsamment  </td><td>Fungi            </td><td>Ascomycota       </td><td>Dothideomycetes  </td><td>Pleosporales     </td><td>Pleosporaceae    </td><td>Alternaria       </td><td>chlamydosporigena</td></tr>\n",
       "\t<tr><td>OTU4             </td><td>CNL_070          </td><td>0                </td><td>CNL_70           </td><td> 70              </td><td>CNL              </td><td>HI_D_26          </td><td>HI_D_26_PyOM     </td><td> 70              </td><td>11.07            </td><td>⋯                </td><td> 30.81563        </td><td>0.02706653       </td><td>Hydrudand        </td><td>Fungi            </td><td>Ascomycota       </td><td>Dothideomycetes  </td><td>Pleosporales     </td><td>Pleosporaceae    </td><td>Alternaria       </td><td>chlamydosporigena</td></tr>\n",
       "\t<tr><td>OTU4             </td><td>CNL_050          </td><td>0                </td><td>CNL_50           </td><td> 50              </td><td>CNL              </td><td>HI_A_26          </td><td>HI_A_26_OM       </td><td> 50              </td><td>30.01            </td><td>⋯                </td><td> 33.18795        </td><td>0.31996082       </td><td>Hydrudand        </td><td>Fungi            </td><td>Ascomycota       </td><td>Dothideomycetes  </td><td>Pleosporales     </td><td>Pleosporaceae    </td><td>Alternaria       </td><td>chlamydosporigena</td></tr>\n",
       "\t<tr><td>OTU4             </td><td>CNL_030          </td><td>0                </td><td>CNL_30           </td><td> 30              </td><td>CNL              </td><td>FL_A_26          </td><td>FL_A_26_Soil     </td><td> 30              </td><td>x                </td><td>⋯                </td><td> 84.23677        </td><td>        NA       </td><td>Quartzipsamment  </td><td>Fungi            </td><td>Ascomycota       </td><td>Dothideomycetes  </td><td>Pleosporales     </td><td>Pleosporaceae    </td><td>Alternaria       </td><td>chlamydosporigena</td></tr>\n",
       "\t<tr><td>OTU4             </td><td>CNL_038          </td><td>0                </td><td>CNL_38           </td><td> 38              </td><td>CNL              </td><td>FL_C_26          </td><td>FL_C_26_OM       </td><td> 38              </td><td>149.95           </td><td>⋯                </td><td>237.42400        </td><td>0.62968512       </td><td>Quartzipsamment  </td><td>Fungi            </td><td>Ascomycota       </td><td>Dothideomycetes  </td><td>Pleosporales     </td><td>Pleosporaceae    </td><td>Alternaria       </td><td>chlamydosporigena</td></tr>\n",
       "\t<tr><td>OTU4             </td><td>CNL_072          </td><td>0                </td><td>CNL_72           </td><td> 72              </td><td>CNL              </td><td>HI_D_26          </td><td>HI_D_26_Soil     </td><td> 72              </td><td>x                </td><td>⋯                </td><td> 29.81276        </td><td>        NA       </td><td>Hydrudand        </td><td>Fungi            </td><td>Ascomycota       </td><td>Dothideomycetes  </td><td>Pleosporales     </td><td>Pleosporaceae    </td><td>Alternaria       </td><td>chlamydosporigena</td></tr>\n",
       "\t<tr><td>OTU4             </td><td>CNL_052          </td><td>0                </td><td>CNL_52           </td><td> 52              </td><td>CNL              </td><td>HI_A_26          </td><td>HI_A_26_PyOM     </td><td> 52              </td><td>10.95            </td><td>⋯                </td><td> 39.86480        </td><td>0.03670024       </td><td>Hydrudand        </td><td>Fungi            </td><td>Ascomycota       </td><td>Dothideomycetes  </td><td>Pleosporales     </td><td>Pleosporaceae    </td><td>Alternaria       </td><td>chlamydosporigena</td></tr>\n",
       "\t<tr><td>OTU4             </td><td>CNL_060          </td><td>0                </td><td>CNL_60           </td><td> 60              </td><td>CNL              </td><td>HI_B_26          </td><td>HI_B_26_Soil     </td><td> 60              </td><td>x                </td><td>⋯                </td><td> 25.49399        </td><td>        NA       </td><td>Hydrudand        </td><td>Fungi            </td><td>Ascomycota       </td><td>Dothideomycetes  </td><td>Pleosporales     </td><td>Pleosporaceae    </td><td>Alternaria       </td><td>chlamydosporigena</td></tr>\n",
       "\t<tr><td>OTU4             </td><td>CNL_040          </td><td>0                </td><td>CNL_40           </td><td> 40              </td><td>CNL              </td><td>FL_C_26          </td><td>FL_C_26_PyOM     </td><td> 40              </td><td>55.04            </td><td>⋯                </td><td>110.28436        </td><td>0.04090268       </td><td>Quartzipsamment  </td><td>Fungi            </td><td>Ascomycota       </td><td>Dothideomycetes  </td><td>Pleosporales     </td><td>Pleosporaceae    </td><td>Alternaria       </td><td>chlamydosporigena</td></tr>\n",
       "\t<tr><td>OTU4             </td><td>CNL_054          </td><td>0                </td><td>CNL_54           </td><td> 54              </td><td>CNL              </td><td>HI_A_26          </td><td>HI_A_26_Soil     </td><td> 54              </td><td>x                </td><td>⋯                </td><td> 41.17556        </td><td>        NA       </td><td>Hydrudand        </td><td>Fungi            </td><td>Ascomycota       </td><td>Dothideomycetes  </td><td>Pleosporales     </td><td>Pleosporaceae    </td><td>Alternaria       </td><td>chlamydosporigena</td></tr>\n",
       "\t<tr><td>OTU4             </td><td>CNL_062          </td><td>0                </td><td>CNL_62           </td><td> 62              </td><td>CNL              </td><td>HI_C_26          </td><td>HI_C_26_OM       </td><td> 62              </td><td>30.05            </td><td>⋯                </td><td> 32.17582        </td><td>0.49867837       </td><td>Hydrudand        </td><td>Fungi            </td><td>Ascomycota       </td><td>Dothideomycetes  </td><td>Pleosporales     </td><td>Pleosporaceae    </td><td>Alternaria       </td><td>chlamydosporigena</td></tr>\n",
       "\t<tr><td>OTU4             </td><td>CNL_042          </td><td>0                </td><td>CNL_42           </td><td> 42              </td><td>CNL              </td><td>FL_C_26          </td><td>FL_C_26_Soil     </td><td> 42              </td><td>x                </td><td>⋯                </td><td> 64.47982        </td><td>        NA       </td><td>Quartzipsamment  </td><td>Fungi            </td><td>Ascomycota       </td><td>Dothideomycetes  </td><td>Pleosporales     </td><td>Pleosporaceae    </td><td>Alternaria       </td><td>chlamydosporigena</td></tr>\n",
       "\t<tr><td>OTU4             </td><td>CNL_056          </td><td>0                </td><td>CNL_56           </td><td> 56              </td><td>CNL              </td><td>HI_B_26          </td><td>HI_B_26_OM       </td><td> 56              </td><td>30.02            </td><td>⋯                </td><td> 27.65425        </td><td>0.44073472       </td><td>Hydrudand        </td><td>Fungi            </td><td>Ascomycota       </td><td>Dothideomycetes  </td><td>Pleosporales     </td><td>Pleosporaceae    </td><td>Alternaria       </td><td>chlamydosporigena</td></tr>\n",
       "\t<tr><td>OTU4             </td><td>CNL_064          </td><td>0                </td><td>CNL_64           </td><td> 64              </td><td>CNL              </td><td>HI_C_26          </td><td>HI_C_26_PyOM     </td><td> 64              </td><td>10.95            </td><td>⋯                </td><td> 32.31951        </td><td>0.03694358       </td><td>Hydrudand        </td><td>Fungi            </td><td>Ascomycota       </td><td>Dothideomycetes  </td><td>Pleosporales     </td><td>Pleosporaceae    </td><td>Alternaria       </td><td>chlamydosporigena</td></tr>\n",
       "\t<tr><td>OTU4             </td><td>CNL_044          </td><td>0                </td><td>CNL_44           </td><td> 44              </td><td>CNL              </td><td>FL_D_26          </td><td>FL_D_26_OM       </td><td> 44              </td><td>150.03           </td><td>⋯                </td><td>289.42419        </td><td>0.74304785       </td><td>Quartzipsamment  </td><td>Fungi            </td><td>Ascomycota       </td><td>Dothideomycetes  </td><td>Pleosporales     </td><td>Pleosporaceae    </td><td>Alternaria       </td><td>chlamydosporigena</td></tr>\n",
       "\t<tr><td>OTU4             </td><td>CNL_058          </td><td>0                </td><td>CNL_58           </td><td> 58              </td><td>CNL              </td><td>HI_B_26          </td><td>HI_B_26_PyOM     </td><td> 58              </td><td>10.95            </td><td>⋯                </td><td> 17.37512        </td><td>0.02451997       </td><td>Hydrudand        </td><td>Fungi            </td><td>Ascomycota       </td><td>Dothideomycetes  </td><td>Pleosporales     </td><td>Pleosporaceae    </td><td>Alternaria       </td><td>chlamydosporigena</td></tr>\n",
       "</tbody>\n",
       "</table>\n"
      ],
      "text/latex": [
       "\\begin{tabular}{r|lllllllllllllllllllllllllllllllllllllllllllllllllllllllllllllllllllllllllllllll}\n",
       " OTU & Sample & Abundance & Tube\\_ID & Seq\\_ID & Proj\\_ID & Soil\\_Rep\\_Day & Soil\\_Rep\\_Day\\_Trtmt & Qorpak\\_ID & Amdmt\\_mg & ⋯ & Soil.CO2.mean.mg.per.gram.soil.C.cum & Amdmt.CO2.mean.mg.per.mg.amdmt.C.cum & Soil\\_Name & Kingdom & Phylum & Class & Order & Family & Genus & Species\\\\\n",
       "\\hline\n",
       "\t OTU1                & CNL\\_066           & 0.664435910         & CNL\\_66            &  66                 & CNL                 & HI\\_C\\_26         & HI\\_C\\_26\\_Soil  &  66                 & x                   & ⋯                   &  19.96488           &         NA          & Hydrudand           & Fungi               & Basidiomycota       & Tremellomycetes     & Tremellales         & Trimorphomycetaceae & Saitozyma           & podzolica          \\\\\n",
       "\t OTU1                & CNL\\_064           & 0.582690846         & CNL\\_64            &  64                 & CNL                 & HI\\_C\\_26         & HI\\_C\\_26\\_PyOM  &  64                 & 10.95               & ⋯                   &  32.31951           & 0.03694358          & Hydrudand           & Fungi               & Basidiomycota       & Tremellomycetes     & Tremellales         & Trimorphomycetaceae & Saitozyma           & podzolica          \\\\\n",
       "\t OTU1                & CNL\\_070           & 0.212720421         & CNL\\_70            &  70                 & CNL                 & HI\\_D\\_26         & HI\\_D\\_26\\_PyOM  &  70                 & 11.07               & ⋯                   &  30.81563           & 0.02706653          & Hydrudand           & Fungi               & Basidiomycota       & Tremellomycetes     & Tremellales         & Trimorphomycetaceae & Saitozyma           & podzolica          \\\\\n",
       "\t OTU1                & CNL\\_072           & 0.173859935         & CNL\\_72            &  72                 & CNL                 & HI\\_D\\_26         & HI\\_D\\_26\\_Soil  &  72                 & x                   & ⋯                   &  29.81276           &         NA          & Hydrudand           & Fungi               & Basidiomycota       & Tremellomycetes     & Tremellales         & Trimorphomycetaceae & Saitozyma           & podzolica          \\\\\n",
       "\t OTU1                & CNL\\_062           & 0.096182760         & CNL\\_62            &  62                 & CNL                 & HI\\_C\\_26         & HI\\_C\\_26\\_OM    &  62                 & 30.05               & ⋯                   &  32.17582           & 0.49867837          & Hydrudand           & Fungi               & Basidiomycota       & Tremellomycetes     & Tremellales         & Trimorphomycetaceae & Saitozyma           & podzolica          \\\\\n",
       "\t OTU1                & CNL\\_058           & 0.071571409         & CNL\\_58            &  58                 & CNL                 & HI\\_B\\_26         & HI\\_B\\_26\\_PyOM  &  58                 & 10.95               & ⋯                   &  17.37512           & 0.02451997          & Hydrudand           & Fungi               & Basidiomycota       & Tremellomycetes     & Tremellales         & Trimorphomycetaceae & Saitozyma           & podzolica          \\\\\n",
       "\t OTU1                & CNL\\_060           & 0.032534209         & CNL\\_60            &  60                 & CNL                 & HI\\_B\\_26         & HI\\_B\\_26\\_Soil  &  60                 & x                   & ⋯                   &  25.49399           &         NA          & Hydrudand           & Fungi               & Basidiomycota       & Tremellomycetes     & Tremellales         & Trimorphomycetaceae & Saitozyma           & podzolica          \\\\\n",
       "\t OTU1                & CNL\\_054           & 0.022574097         & CNL\\_54            &  54                 & CNL                 & HI\\_A\\_26         & HI\\_A\\_26\\_Soil  &  54                 & x                   & ⋯                   &  41.17556           &         NA          & Hydrudand           & Fungi               & Basidiomycota       & Tremellomycetes     & Tremellales         & Trimorphomycetaceae & Saitozyma           & podzolica          \\\\\n",
       "\t OTU1                & CNL\\_112           & 0.018137848         & CNL\\_112           & 112                 & CNL                 & MP\\_A\\_26         & MP\\_A\\_26\\_PyOM  & 112                 & 55.05               & ⋯                   &  26.84428           & 0.03445776          & Fragiudept          & Fungi               & Basidiomycota       & Tremellomycetes     & Tremellales         & Trimorphomycetaceae & Saitozyma           & podzolica          \\\\\n",
       "\t OTU1                & CNL\\_100           & 0.014957127         & CNL\\_100           & 100                 & CNL                 & MP\\_A\\_26         & MP\\_A\\_26\\_PyOM  & 100                 & 54.98               & ⋯                   &  23.99315           & 0.03378587          & Fragiudept          & Fungi               & Basidiomycota       & Tremellomycetes     & Tremellales         & Trimorphomycetaceae & Saitozyma           & podzolica          \\\\\n",
       "\t OTU1                & CNL\\_108           & 0.014223942         & CNL\\_108           & 108                 & CNL                 & MP\\_A\\_26         & MP\\_A\\_26\\_Soil  & 108                 & x                   & ⋯                   &  21.05492           &         NA          & Fragiudept          & Fungi               & Basidiomycota       & Tremellomycetes     & Tremellales         & Trimorphomycetaceae & Saitozyma           & podzolica          \\\\\n",
       "\t OTU1                & CNL\\_050           & 0.013097979         & CNL\\_50            &  50                 & CNL                 & HI\\_A\\_26         & HI\\_A\\_26\\_OM    &  50                 & 30.01               & ⋯                   &  33.18795           & 0.31996082          & Hydrudand           & Fungi               & Basidiomycota       & Tremellomycetes     & Tremellales         & Trimorphomycetaceae & Saitozyma           & podzolica          \\\\\n",
       "\t OTU1                & CNL\\_106           & 0.008983051         & CNL\\_106           & 106                 & CNL                 & MP\\_A\\_26         & MP\\_A\\_26\\_PyOM  & 106                 & 55.07               & ⋯                   &  15.55723           & 0.02236555          & Fragiudept          & Fungi               & Basidiomycota       & Tremellomycetes     & Tremellales         & Trimorphomycetaceae & Saitozyma           & podzolica          \\\\\n",
       "\t OTU1                & CNL\\_052           & 0.004652174         & CNL\\_52            &  52                 & CNL                 & HI\\_A\\_26         & HI\\_A\\_26\\_PyOM  &  52                 & 10.95               & ⋯                   &  39.86480           & 0.03670024          & Hydrudand           & Fungi               & Basidiomycota       & Tremellomycetes     & Tremellales         & Trimorphomycetaceae & Saitozyma           & podzolica          \\\\\n",
       "\t OTU1                & CNL\\_048           & 0.001981621         & CNL\\_48            &  48                 & CNL                 & FL\\_D\\_26         & FL\\_D\\_26\\_Soil  &  48                 & x                   & ⋯                   &  85.45913           &         NA          & Quartzipsamment     & Fungi               & Basidiomycota       & Tremellomycetes     & Tremellales         & Trimorphomycetaceae & Saitozyma           & podzolica          \\\\\n",
       "\t OTU1                & CNL\\_068           & 0.001125246         & CNL\\_68            &  68                 & CNL                 & HI\\_D\\_26         & HI\\_D\\_26\\_OM    &  68                 & 30                  & ⋯                   &  26.05202           & 0.52745935          & Hydrudand           & Fungi               & Basidiomycota       & Tremellomycetes     & Tremellales         & Trimorphomycetaceae & Saitozyma           & podzolica          \\\\\n",
       "\t OTU1                & CNL\\_086           & 0.000000000         & CNL\\_86            &  86                 & CNL                 & UT\\_C\\_26         & UT\\_C\\_26\\_OM    &  86                 & 150.04              & ⋯                   &  61.58314           & 0.74965574          & Haplocalcid         & Fungi               & Basidiomycota       & Tremellomycetes     & Tremellales         & Trimorphomycetaceae & Saitozyma           & podzolica          \\\\\n",
       "\t OTU1                & CNL\\_046           & 0.000000000         & CNL\\_46            &  46                 & CNL                 & FL\\_D\\_26         & FL\\_D\\_26\\_PyOM  &  46                 & 55.01               & ⋯                   & 139.31194           & 0.04810811          & Quartzipsamment     & Fungi               & Basidiomycota       & Tremellomycetes     & Tremellales         & Trimorphomycetaceae & Saitozyma           & podzolica          \\\\\n",
       "\t OTU1                & CNL\\_026           & 0.000000000         & CNL\\_26            &  26                 & CNL                 & FL\\_A\\_26         & FL\\_A\\_26\\_OM    &  26                 & 150.04              & ⋯                   & 172.30840           & 0.36324083          & Quartzipsamment     & Fungi               & Basidiomycota       & Tremellomycetes     & Tremellales         & Trimorphomycetaceae & Saitozyma           & podzolica          \\\\\n",
       "\t OTU1                & CNL\\_006           & 0.000000000         & CNL\\_6             &   6                 & CNL                 & AK\\_A\\_26         & AK\\_A\\_26\\_Soil  &   6                 & x                   & ⋯                   &  21.50489           &         NA          & Cryaquept           & Fungi               & Basidiomycota       & Tremellomycetes     & Tremellales         & Trimorphomycetaceae & Saitozyma           & podzolica          \\\\\n",
       "\t OTU1                & CNL\\_088           & 0.000000000         & CNL\\_88            &  88                 & CNL                 & UT\\_C\\_26         & UT\\_C\\_26\\_PyOM  &  88                 & 55                  & ⋯                   &  44.55727           & 0.04311645          & Haplocalcid         & Fungi               & Basidiomycota       & Tremellomycetes     & Tremellales         & Trimorphomycetaceae & Saitozyma           & podzolica          \\\\\n",
       "\t OTU1                & CNL\\_028           & 0.000000000         & CNL\\_28            &  28                 & CNL                 & FL\\_A\\_26         & FL\\_A\\_26\\_PyOM  &  28                 & 54.98               & ⋯                   & 134.72465           & 0.04718308          & Quartzipsamment     & Fungi               & Basidiomycota       & Tremellomycetes     & Tremellales         & Trimorphomycetaceae & Saitozyma           & podzolica          \\\\\n",
       "\t OTU1                & CNL\\_008           & 0.000000000         & CNL\\_8             &   8                 & CNL                 & AK\\_B\\_26         & AK\\_B\\_26\\_OM    &   8                 & 29.95               & ⋯                   &  16.09494           & 0.51789432          & Cryaquept           & Fungi               & Basidiomycota       & Tremellomycetes     & Tremellales         & Trimorphomycetaceae & Saitozyma           & podzolica          \\\\\n",
       "\t OTU1                & CNL\\_110           & 0.000000000         & CNL\\_110           & 110                 & CNL                 & MP\\_A\\_26         & MP\\_A\\_26\\_OM    & 110                 & 149.98              & ⋯                   &  46.36114           & 0.84168102          & Fragiudept          & Fungi               & Basidiomycota       & Tremellomycetes     & Tremellales         & Trimorphomycetaceae & Saitozyma           & podzolica          \\\\\n",
       "\t OTU1                & CNL\\_090           & 0.000000000         & CNL\\_90            &  90                 & CNL                 & UT\\_C\\_26         & UT\\_C\\_26\\_Soil  &  90                 & x                   & ⋯                   &  22.52068           &         NA          & Haplocalcid         & Fungi               & Basidiomycota       & Tremellomycetes     & Tremellales         & Trimorphomycetaceae & Saitozyma           & podzolica          \\\\\n",
       "\t OTU1                & CNL\\_030           & 0.000000000         & CNL\\_30            &  30                 & CNL                 & FL\\_A\\_26         & FL\\_A\\_26\\_Soil  &  30                 & x                   & ⋯                   &  84.23677           &         NA          & Quartzipsamment     & Fungi               & Basidiomycota       & Tremellomycetes     & Tremellales         & Trimorphomycetaceae & Saitozyma           & podzolica          \\\\\n",
       "\t OTU1                & CNL\\_010           & 0.000000000         & CNL\\_10            &  10                 & CNL                 & AK\\_B\\_26         & AK\\_B\\_26\\_PyOM  &  10                 & 11.03               & ⋯                   &  17.68535           & 0.02500065          & Cryaquept           & Fungi               & Basidiomycota       & Tremellomycetes     & Tremellales         & Trimorphomycetaceae & Saitozyma           & podzolica          \\\\\n",
       "\t OTU1                & CNL\\_092           & 0.000000000         & CNL\\_92            &  92                 & CNL                 & UT\\_D\\_26         & UT\\_D\\_26\\_OM    &  92                 & 149.96              & ⋯                   &  72.19743           & 0.65718154          & Haplocalcid         & Fungi               & Basidiomycota       & Tremellomycetes     & Tremellales         & Trimorphomycetaceae & Saitozyma           & podzolica          \\\\\n",
       "\t OTU1                & CNL\\_032           & 0.000000000         & CNL\\_32            &  32                 & CNL                 & FL\\_B\\_26         & FL\\_B\\_26\\_OM    &  32                 & 150.05              & ⋯                   & 228.27195           & 0.68536093          & Quartzipsamment     & Fungi               & Basidiomycota       & Tremellomycetes     & Tremellales         & Trimorphomycetaceae & Saitozyma           & podzolica          \\\\\n",
       "\t OTU1                & CNL\\_012           & 0.000000000         & CNL\\_12            &  12                 & CNL                 & AK\\_B\\_26         & AK\\_B\\_26\\_Soil  &  12                 & x                   & ⋯                   &  24.67463           &         NA          & Cryaquept           & Fungi               & Basidiomycota       & Tremellomycetes     & Tremellales         & Trimorphomycetaceae & Saitozyma           & podzolica          \\\\\n",
       "\t ⋮ & ⋮ & ⋮ & ⋮ & ⋮ & ⋮ & ⋮ & ⋮ & ⋮ & ⋮ & ⋱ & ⋮ & ⋮ & ⋮ & ⋮ & ⋮ & ⋮ & ⋮ & ⋮ & ⋮ & ⋮\\\\\n",
       "\t OTU4               & CNL\\_016          & 0                  & CNL\\_16           &  16                & CNL                & AK\\_C\\_26        & AK\\_C\\_26\\_PyOM &  16                & 11.07              & ⋯                  &  36.14912          & 0.04360435         & Cryaquept          & Fungi              & Ascomycota         & Dothideomycetes    & Pleosporales       & Pleosporaceae      & Alternaria         & chlamydosporigena \\\\\n",
       "\t OTU4               & CNL\\_124          & 0                  & CNL\\_124          & 124                & CNL                & AK\\_A\\_26        & AK\\_A\\_26\\_PyOM & 124                & 10.97              & ⋯                  &  25.68973          & 0.05229653         & Cryaquept          & Fungi              & Ascomycota         & Dothideomycetes    & Pleosporales       & Pleosporaceae      & Alternaria         & chlamydosporigena \\\\\n",
       "\t OTU4               & CNL\\_104          & 0                  & CNL\\_104          & 104                & CNL                & MP\\_A\\_26        & MP\\_A\\_26\\_OM   & 104                & 150.02             & ⋯                  &  50.43425          & 0.83634703         & Fragiudept         & Fungi              & Ascomycota         & Dothideomycetes    & Pleosporales       & Pleosporaceae      & Alternaria         & chlamydosporigena \\\\\n",
       "\t OTU4               & CNL\\_118          & 0                  & CNL\\_118          & 118                & CNL                & MP\\_A\\_26        & MP\\_A\\_26\\_PyOM & 118                & 55.02              & ⋯                  &  33.86549          & 0.03066436         & Fragiudept         & Fungi              & Ascomycota         & Dothideomycetes    & Pleosporales       & Pleosporaceae      & Alternaria         & chlamydosporigena \\\\\n",
       "\t OTU4               & CNL\\_024          & 0                  & CNL\\_24           &  24                & CNL                & AK\\_D\\_26        & AK\\_D\\_26\\_Soil &  24                & x                  & ⋯                  &  28.95399          &         NA         & Cryaquept          & Fungi              & Ascomycota         & Dothideomycetes    & Pleosporales       & Pleosporaceae      & Alternaria         & chlamydosporigena \\\\\n",
       "\t OTU4               & CNL\\_018          & 0                  & CNL\\_18           &  18                & CNL                & AK\\_C\\_26        & AK\\_C\\_26\\_Soil &  18                & x                  & ⋯                  &  32.19444          &         NA         & Cryaquept          & Fungi              & Ascomycota         & Dothideomycetes    & Pleosporales       & Pleosporaceae      & Alternaria         & chlamydosporigena \\\\\n",
       "\t OTU4               & CNL\\_032          & 0                  & CNL\\_32           &  32                & CNL                & FL\\_B\\_26        & FL\\_B\\_26\\_OM   &  32                & 150.05             & ⋯                  & 228.27195          & 0.68536093         & Quartzipsamment    & Fungi              & Ascomycota         & Dothideomycetes    & Pleosporales       & Pleosporaceae      & Alternaria         & chlamydosporigena \\\\\n",
       "\t OTU4               & CNL\\_066          & 0                  & CNL\\_66           &  66                & CNL                & HI\\_C\\_26        & HI\\_C\\_26\\_Soil &  66                & x                  & ⋯                  &  19.96488          &         NA         & Hydrudand          & Fungi              & Ascomycota         & Dothideomycetes    & Pleosporales       & Pleosporaceae      & Alternaria         & chlamydosporigena \\\\\n",
       "\t OTU4               & CNL\\_046          & 0                  & CNL\\_46           &  46                & CNL                & FL\\_D\\_26        & FL\\_D\\_26\\_PyOM &  46                & 55.01              & ⋯                  & 139.31194          & 0.04810811         & Quartzipsamment    & Fungi              & Ascomycota         & Dothideomycetes    & Pleosporales       & Pleosporaceae      & Alternaria         & chlamydosporigena \\\\\n",
       "\t OTU4               & CNL\\_026          & 0                  & CNL\\_26           &  26                & CNL                & FL\\_A\\_26        & FL\\_A\\_26\\_OM   &  26                & 150.04             & ⋯                  & 172.30840          & 0.36324083         & Quartzipsamment    & Fungi              & Ascomycota         & Dothideomycetes    & Pleosporales       & Pleosporaceae      & Alternaria         & chlamydosporigena \\\\\n",
       "\t OTU4               & CNL\\_034          & 0                  & CNL\\_34           &  34                & CNL                & FL\\_B\\_26        & FL\\_B\\_26\\_PyOM &  34                & 55.07              & ⋯                  & 154.33514          & 0.02511195         & Quartzipsamment    & Fungi              & Ascomycota         & Dothideomycetes    & Pleosporales       & Pleosporaceae      & Alternaria         & chlamydosporigena \\\\\n",
       "\t OTU4               & CNL\\_068          & 0                  & CNL\\_68           &  68                & CNL                & HI\\_D\\_26        & HI\\_D\\_26\\_OM   &  68                & 30                 & ⋯                  &  26.05202          & 0.52745935         & Hydrudand          & Fungi              & Ascomycota         & Dothideomycetes    & Pleosporales       & Pleosporaceae      & Alternaria         & chlamydosporigena \\\\\n",
       "\t OTU4               & CNL\\_048          & 0                  & CNL\\_48           &  48                & CNL                & FL\\_D\\_26        & FL\\_D\\_26\\_Soil &  48                & x                  & ⋯                  &  85.45913          &         NA         & Quartzipsamment    & Fungi              & Ascomycota         & Dothideomycetes    & Pleosporales       & Pleosporaceae      & Alternaria         & chlamydosporigena \\\\\n",
       "\t OTU4               & CNL\\_028          & 0                  & CNL\\_28           &  28                & CNL                & FL\\_A\\_26        & FL\\_A\\_26\\_PyOM &  28                & 54.98              & ⋯                  & 134.72465          & 0.04718308         & Quartzipsamment    & Fungi              & Ascomycota         & Dothideomycetes    & Pleosporales       & Pleosporaceae      & Alternaria         & chlamydosporigena \\\\\n",
       "\t OTU4               & CNL\\_036          & 0                  & CNL\\_36           &  36                & CNL                & FL\\_B\\_26        & FL\\_B\\_26\\_Soil &  36                & x                  & ⋯                  & 109.45305          &         NA         & Quartzipsamment    & Fungi              & Ascomycota         & Dothideomycetes    & Pleosporales       & Pleosporaceae      & Alternaria         & chlamydosporigena \\\\\n",
       "\t OTU4               & CNL\\_070          & 0                  & CNL\\_70           &  70                & CNL                & HI\\_D\\_26        & HI\\_D\\_26\\_PyOM &  70                & 11.07              & ⋯                  &  30.81563          & 0.02706653         & Hydrudand          & Fungi              & Ascomycota         & Dothideomycetes    & Pleosporales       & Pleosporaceae      & Alternaria         & chlamydosporigena \\\\\n",
       "\t OTU4               & CNL\\_050          & 0                  & CNL\\_50           &  50                & CNL                & HI\\_A\\_26        & HI\\_A\\_26\\_OM   &  50                & 30.01              & ⋯                  &  33.18795          & 0.31996082         & Hydrudand          & Fungi              & Ascomycota         & Dothideomycetes    & Pleosporales       & Pleosporaceae      & Alternaria         & chlamydosporigena \\\\\n",
       "\t OTU4               & CNL\\_030          & 0                  & CNL\\_30           &  30                & CNL                & FL\\_A\\_26        & FL\\_A\\_26\\_Soil &  30                & x                  & ⋯                  &  84.23677          &         NA         & Quartzipsamment    & Fungi              & Ascomycota         & Dothideomycetes    & Pleosporales       & Pleosporaceae      & Alternaria         & chlamydosporigena \\\\\n",
       "\t OTU4               & CNL\\_038          & 0                  & CNL\\_38           &  38                & CNL                & FL\\_C\\_26        & FL\\_C\\_26\\_OM   &  38                & 149.95             & ⋯                  & 237.42400          & 0.62968512         & Quartzipsamment    & Fungi              & Ascomycota         & Dothideomycetes    & Pleosporales       & Pleosporaceae      & Alternaria         & chlamydosporigena \\\\\n",
       "\t OTU4               & CNL\\_072          & 0                  & CNL\\_72           &  72                & CNL                & HI\\_D\\_26        & HI\\_D\\_26\\_Soil &  72                & x                  & ⋯                  &  29.81276          &         NA         & Hydrudand          & Fungi              & Ascomycota         & Dothideomycetes    & Pleosporales       & Pleosporaceae      & Alternaria         & chlamydosporigena \\\\\n",
       "\t OTU4               & CNL\\_052          & 0                  & CNL\\_52           &  52                & CNL                & HI\\_A\\_26        & HI\\_A\\_26\\_PyOM &  52                & 10.95              & ⋯                  &  39.86480          & 0.03670024         & Hydrudand          & Fungi              & Ascomycota         & Dothideomycetes    & Pleosporales       & Pleosporaceae      & Alternaria         & chlamydosporigena \\\\\n",
       "\t OTU4               & CNL\\_060          & 0                  & CNL\\_60           &  60                & CNL                & HI\\_B\\_26        & HI\\_B\\_26\\_Soil &  60                & x                  & ⋯                  &  25.49399          &         NA         & Hydrudand          & Fungi              & Ascomycota         & Dothideomycetes    & Pleosporales       & Pleosporaceae      & Alternaria         & chlamydosporigena \\\\\n",
       "\t OTU4               & CNL\\_040          & 0                  & CNL\\_40           &  40                & CNL                & FL\\_C\\_26        & FL\\_C\\_26\\_PyOM &  40                & 55.04              & ⋯                  & 110.28436          & 0.04090268         & Quartzipsamment    & Fungi              & Ascomycota         & Dothideomycetes    & Pleosporales       & Pleosporaceae      & Alternaria         & chlamydosporigena \\\\\n",
       "\t OTU4               & CNL\\_054          & 0                  & CNL\\_54           &  54                & CNL                & HI\\_A\\_26        & HI\\_A\\_26\\_Soil &  54                & x                  & ⋯                  &  41.17556          &         NA         & Hydrudand          & Fungi              & Ascomycota         & Dothideomycetes    & Pleosporales       & Pleosporaceae      & Alternaria         & chlamydosporigena \\\\\n",
       "\t OTU4               & CNL\\_062          & 0                  & CNL\\_62           &  62                & CNL                & HI\\_C\\_26        & HI\\_C\\_26\\_OM   &  62                & 30.05              & ⋯                  &  32.17582          & 0.49867837         & Hydrudand          & Fungi              & Ascomycota         & Dothideomycetes    & Pleosporales       & Pleosporaceae      & Alternaria         & chlamydosporigena \\\\\n",
       "\t OTU4               & CNL\\_042          & 0                  & CNL\\_42           &  42                & CNL                & FL\\_C\\_26        & FL\\_C\\_26\\_Soil &  42                & x                  & ⋯                  &  64.47982          &         NA         & Quartzipsamment    & Fungi              & Ascomycota         & Dothideomycetes    & Pleosporales       & Pleosporaceae      & Alternaria         & chlamydosporigena \\\\\n",
       "\t OTU4               & CNL\\_056          & 0                  & CNL\\_56           &  56                & CNL                & HI\\_B\\_26        & HI\\_B\\_26\\_OM   &  56                & 30.02              & ⋯                  &  27.65425          & 0.44073472         & Hydrudand          & Fungi              & Ascomycota         & Dothideomycetes    & Pleosporales       & Pleosporaceae      & Alternaria         & chlamydosporigena \\\\\n",
       "\t OTU4               & CNL\\_064          & 0                  & CNL\\_64           &  64                & CNL                & HI\\_C\\_26        & HI\\_C\\_26\\_PyOM &  64                & 10.95              & ⋯                  &  32.31951          & 0.03694358         & Hydrudand          & Fungi              & Ascomycota         & Dothideomycetes    & Pleosporales       & Pleosporaceae      & Alternaria         & chlamydosporigena \\\\\n",
       "\t OTU4               & CNL\\_044          & 0                  & CNL\\_44           &  44                & CNL                & FL\\_D\\_26        & FL\\_D\\_26\\_OM   &  44                & 150.03             & ⋯                  & 289.42419          & 0.74304785         & Quartzipsamment    & Fungi              & Ascomycota         & Dothideomycetes    & Pleosporales       & Pleosporaceae      & Alternaria         & chlamydosporigena \\\\\n",
       "\t OTU4               & CNL\\_058          & 0                  & CNL\\_58           &  58                & CNL                & HI\\_B\\_26        & HI\\_B\\_26\\_PyOM &  58                & 10.95              & ⋯                  &  17.37512          & 0.02451997         & Hydrudand          & Fungi              & Ascomycota         & Dothideomycetes    & Pleosporales       & Pleosporaceae      & Alternaria         & chlamydosporigena \\\\\n",
       "\\end{tabular}\n"
      ],
      "text/markdown": [
       "\n",
       "OTU | Sample | Abundance | Tube_ID | Seq_ID | Proj_ID | Soil_Rep_Day | Soil_Rep_Day_Trtmt | Qorpak_ID | Amdmt_mg | ⋯ | Soil.CO2.mean.mg.per.gram.soil.C.cum | Amdmt.CO2.mean.mg.per.mg.amdmt.C.cum | Soil_Name | Kingdom | Phylum | Class | Order | Family | Genus | Species | \n",
       "|---|---|---|---|---|---|---|---|---|---|---|---|---|---|---|---|---|---|---|---|---|---|---|---|---|---|---|---|---|---|---|---|---|---|---|---|---|---|---|---|---|---|---|---|---|---|---|---|---|---|---|---|---|---|---|---|---|---|---|---|---|\n",
       "| OTU1                | CNL_066             | 0.664435910         | CNL_66              |  66                 | CNL                 | HI_C_26             | HI_C_26_Soil        |  66                 | x                   | ⋯                   |  19.96488           |         NA          | Hydrudand           | Fungi               | Basidiomycota       | Tremellomycetes     | Tremellales         | Trimorphomycetaceae | Saitozyma           | podzolica           | \n",
       "| OTU1                | CNL_064             | 0.582690846         | CNL_64              |  64                 | CNL                 | HI_C_26             | HI_C_26_PyOM        |  64                 | 10.95               | ⋯                   |  32.31951           | 0.03694358          | Hydrudand           | Fungi               | Basidiomycota       | Tremellomycetes     | Tremellales         | Trimorphomycetaceae | Saitozyma           | podzolica           | \n",
       "| OTU1                | CNL_070             | 0.212720421         | CNL_70              |  70                 | CNL                 | HI_D_26             | HI_D_26_PyOM        |  70                 | 11.07               | ⋯                   |  30.81563           | 0.02706653          | Hydrudand           | Fungi               | Basidiomycota       | Tremellomycetes     | Tremellales         | Trimorphomycetaceae | Saitozyma           | podzolica           | \n",
       "| OTU1                | CNL_072             | 0.173859935         | CNL_72              |  72                 | CNL                 | HI_D_26             | HI_D_26_Soil        |  72                 | x                   | ⋯                   |  29.81276           |         NA          | Hydrudand           | Fungi               | Basidiomycota       | Tremellomycetes     | Tremellales         | Trimorphomycetaceae | Saitozyma           | podzolica           | \n",
       "| OTU1                | CNL_062             | 0.096182760         | CNL_62              |  62                 | CNL                 | HI_C_26             | HI_C_26_OM          |  62                 | 30.05               | ⋯                   |  32.17582           | 0.49867837          | Hydrudand           | Fungi               | Basidiomycota       | Tremellomycetes     | Tremellales         | Trimorphomycetaceae | Saitozyma           | podzolica           | \n",
       "| OTU1                | CNL_058             | 0.071571409         | CNL_58              |  58                 | CNL                 | HI_B_26             | HI_B_26_PyOM        |  58                 | 10.95               | ⋯                   |  17.37512           | 0.02451997          | Hydrudand           | Fungi               | Basidiomycota       | Tremellomycetes     | Tremellales         | Trimorphomycetaceae | Saitozyma           | podzolica           | \n",
       "| OTU1                | CNL_060             | 0.032534209         | CNL_60              |  60                 | CNL                 | HI_B_26             | HI_B_26_Soil        |  60                 | x                   | ⋯                   |  25.49399           |         NA          | Hydrudand           | Fungi               | Basidiomycota       | Tremellomycetes     | Tremellales         | Trimorphomycetaceae | Saitozyma           | podzolica           | \n",
       "| OTU1                | CNL_054             | 0.022574097         | CNL_54              |  54                 | CNL                 | HI_A_26             | HI_A_26_Soil        |  54                 | x                   | ⋯                   |  41.17556           |         NA          | Hydrudand           | Fungi               | Basidiomycota       | Tremellomycetes     | Tremellales         | Trimorphomycetaceae | Saitozyma           | podzolica           | \n",
       "| OTU1                | CNL_112             | 0.018137848         | CNL_112             | 112                 | CNL                 | MP_A_26             | MP_A_26_PyOM        | 112                 | 55.05               | ⋯                   |  26.84428           | 0.03445776          | Fragiudept          | Fungi               | Basidiomycota       | Tremellomycetes     | Tremellales         | Trimorphomycetaceae | Saitozyma           | podzolica           | \n",
       "| OTU1                | CNL_100             | 0.014957127         | CNL_100             | 100                 | CNL                 | MP_A_26             | MP_A_26_PyOM        | 100                 | 54.98               | ⋯                   |  23.99315           | 0.03378587          | Fragiudept          | Fungi               | Basidiomycota       | Tremellomycetes     | Tremellales         | Trimorphomycetaceae | Saitozyma           | podzolica           | \n",
       "| OTU1                | CNL_108             | 0.014223942         | CNL_108             | 108                 | CNL                 | MP_A_26             | MP_A_26_Soil        | 108                 | x                   | ⋯                   |  21.05492           |         NA          | Fragiudept          | Fungi               | Basidiomycota       | Tremellomycetes     | Tremellales         | Trimorphomycetaceae | Saitozyma           | podzolica           | \n",
       "| OTU1                | CNL_050             | 0.013097979         | CNL_50              |  50                 | CNL                 | HI_A_26             | HI_A_26_OM          |  50                 | 30.01               | ⋯                   |  33.18795           | 0.31996082          | Hydrudand           | Fungi               | Basidiomycota       | Tremellomycetes     | Tremellales         | Trimorphomycetaceae | Saitozyma           | podzolica           | \n",
       "| OTU1                | CNL_106             | 0.008983051         | CNL_106             | 106                 | CNL                 | MP_A_26             | MP_A_26_PyOM        | 106                 | 55.07               | ⋯                   |  15.55723           | 0.02236555          | Fragiudept          | Fungi               | Basidiomycota       | Tremellomycetes     | Tremellales         | Trimorphomycetaceae | Saitozyma           | podzolica           | \n",
       "| OTU1                | CNL_052             | 0.004652174         | CNL_52              |  52                 | CNL                 | HI_A_26             | HI_A_26_PyOM        |  52                 | 10.95               | ⋯                   |  39.86480           | 0.03670024          | Hydrudand           | Fungi               | Basidiomycota       | Tremellomycetes     | Tremellales         | Trimorphomycetaceae | Saitozyma           | podzolica           | \n",
       "| OTU1                | CNL_048             | 0.001981621         | CNL_48              |  48                 | CNL                 | FL_D_26             | FL_D_26_Soil        |  48                 | x                   | ⋯                   |  85.45913           |         NA          | Quartzipsamment     | Fungi               | Basidiomycota       | Tremellomycetes     | Tremellales         | Trimorphomycetaceae | Saitozyma           | podzolica           | \n",
       "| OTU1                | CNL_068             | 0.001125246         | CNL_68              |  68                 | CNL                 | HI_D_26             | HI_D_26_OM          |  68                 | 30                  | ⋯                   |  26.05202           | 0.52745935          | Hydrudand           | Fungi               | Basidiomycota       | Tremellomycetes     | Tremellales         | Trimorphomycetaceae | Saitozyma           | podzolica           | \n",
       "| OTU1                | CNL_086             | 0.000000000         | CNL_86              |  86                 | CNL                 | UT_C_26             | UT_C_26_OM          |  86                 | 150.04              | ⋯                   |  61.58314           | 0.74965574          | Haplocalcid         | Fungi               | Basidiomycota       | Tremellomycetes     | Tremellales         | Trimorphomycetaceae | Saitozyma           | podzolica           | \n",
       "| OTU1                | CNL_046             | 0.000000000         | CNL_46              |  46                 | CNL                 | FL_D_26             | FL_D_26_PyOM        |  46                 | 55.01               | ⋯                   | 139.31194           | 0.04810811          | Quartzipsamment     | Fungi               | Basidiomycota       | Tremellomycetes     | Tremellales         | Trimorphomycetaceae | Saitozyma           | podzolica           | \n",
       "| OTU1                | CNL_026             | 0.000000000         | CNL_26              |  26                 | CNL                 | FL_A_26             | FL_A_26_OM          |  26                 | 150.04              | ⋯                   | 172.30840           | 0.36324083          | Quartzipsamment     | Fungi               | Basidiomycota       | Tremellomycetes     | Tremellales         | Trimorphomycetaceae | Saitozyma           | podzolica           | \n",
       "| OTU1                | CNL_006             | 0.000000000         | CNL_6               |   6                 | CNL                 | AK_A_26             | AK_A_26_Soil        |   6                 | x                   | ⋯                   |  21.50489           |         NA          | Cryaquept           | Fungi               | Basidiomycota       | Tremellomycetes     | Tremellales         | Trimorphomycetaceae | Saitozyma           | podzolica           | \n",
       "| OTU1                | CNL_088             | 0.000000000         | CNL_88              |  88                 | CNL                 | UT_C_26             | UT_C_26_PyOM        |  88                 | 55                  | ⋯                   |  44.55727           | 0.04311645          | Haplocalcid         | Fungi               | Basidiomycota       | Tremellomycetes     | Tremellales         | Trimorphomycetaceae | Saitozyma           | podzolica           | \n",
       "| OTU1                | CNL_028             | 0.000000000         | CNL_28              |  28                 | CNL                 | FL_A_26             | FL_A_26_PyOM        |  28                 | 54.98               | ⋯                   | 134.72465           | 0.04718308          | Quartzipsamment     | Fungi               | Basidiomycota       | Tremellomycetes     | Tremellales         | Trimorphomycetaceae | Saitozyma           | podzolica           | \n",
       "| OTU1                | CNL_008             | 0.000000000         | CNL_8               |   8                 | CNL                 | AK_B_26             | AK_B_26_OM          |   8                 | 29.95               | ⋯                   |  16.09494           | 0.51789432          | Cryaquept           | Fungi               | Basidiomycota       | Tremellomycetes     | Tremellales         | Trimorphomycetaceae | Saitozyma           | podzolica           | \n",
       "| OTU1                | CNL_110             | 0.000000000         | CNL_110             | 110                 | CNL                 | MP_A_26             | MP_A_26_OM          | 110                 | 149.98              | ⋯                   |  46.36114           | 0.84168102          | Fragiudept          | Fungi               | Basidiomycota       | Tremellomycetes     | Tremellales         | Trimorphomycetaceae | Saitozyma           | podzolica           | \n",
       "| OTU1                | CNL_090             | 0.000000000         | CNL_90              |  90                 | CNL                 | UT_C_26             | UT_C_26_Soil        |  90                 | x                   | ⋯                   |  22.52068           |         NA          | Haplocalcid         | Fungi               | Basidiomycota       | Tremellomycetes     | Tremellales         | Trimorphomycetaceae | Saitozyma           | podzolica           | \n",
       "| OTU1                | CNL_030             | 0.000000000         | CNL_30              |  30                 | CNL                 | FL_A_26             | FL_A_26_Soil        |  30                 | x                   | ⋯                   |  84.23677           |         NA          | Quartzipsamment     | Fungi               | Basidiomycota       | Tremellomycetes     | Tremellales         | Trimorphomycetaceae | Saitozyma           | podzolica           | \n",
       "| OTU1                | CNL_010             | 0.000000000         | CNL_10              |  10                 | CNL                 | AK_B_26             | AK_B_26_PyOM        |  10                 | 11.03               | ⋯                   |  17.68535           | 0.02500065          | Cryaquept           | Fungi               | Basidiomycota       | Tremellomycetes     | Tremellales         | Trimorphomycetaceae | Saitozyma           | podzolica           | \n",
       "| OTU1                | CNL_092             | 0.000000000         | CNL_92              |  92                 | CNL                 | UT_D_26             | UT_D_26_OM          |  92                 | 149.96              | ⋯                   |  72.19743           | 0.65718154          | Haplocalcid         | Fungi               | Basidiomycota       | Tremellomycetes     | Tremellales         | Trimorphomycetaceae | Saitozyma           | podzolica           | \n",
       "| OTU1                | CNL_032             | 0.000000000         | CNL_32              |  32                 | CNL                 | FL_B_26             | FL_B_26_OM          |  32                 | 150.05              | ⋯                   | 228.27195           | 0.68536093          | Quartzipsamment     | Fungi               | Basidiomycota       | Tremellomycetes     | Tremellales         | Trimorphomycetaceae | Saitozyma           | podzolica           | \n",
       "| OTU1                | CNL_012             | 0.000000000         | CNL_12              |  12                 | CNL                 | AK_B_26             | AK_B_26_Soil        |  12                 | x                   | ⋯                   |  24.67463           |         NA          | Cryaquept           | Fungi               | Basidiomycota       | Tremellomycetes     | Tremellales         | Trimorphomycetaceae | Saitozyma           | podzolica           | \n",
       "| ⋮ | ⋮ | ⋮ | ⋮ | ⋮ | ⋮ | ⋮ | ⋮ | ⋮ | ⋮ | ⋱ | ⋮ | ⋮ | ⋮ | ⋮ | ⋮ | ⋮ | ⋮ | ⋮ | ⋮ | ⋮ | \n",
       "| OTU4              | CNL_016           | 0                 | CNL_16            |  16               | CNL               | AK_C_26           | AK_C_26_PyOM      |  16               | 11.07             | ⋯                 |  36.14912         | 0.04360435        | Cryaquept         | Fungi             | Ascomycota        | Dothideomycetes   | Pleosporales      | Pleosporaceae     | Alternaria        | chlamydosporigena | \n",
       "| OTU4              | CNL_124           | 0                 | CNL_124           | 124               | CNL               | AK_A_26           | AK_A_26_PyOM      | 124               | 10.97             | ⋯                 |  25.68973         | 0.05229653        | Cryaquept         | Fungi             | Ascomycota        | Dothideomycetes   | Pleosporales      | Pleosporaceae     | Alternaria        | chlamydosporigena | \n",
       "| OTU4              | CNL_104           | 0                 | CNL_104           | 104               | CNL               | MP_A_26           | MP_A_26_OM        | 104               | 150.02            | ⋯                 |  50.43425         | 0.83634703        | Fragiudept        | Fungi             | Ascomycota        | Dothideomycetes   | Pleosporales      | Pleosporaceae     | Alternaria        | chlamydosporigena | \n",
       "| OTU4              | CNL_118           | 0                 | CNL_118           | 118               | CNL               | MP_A_26           | MP_A_26_PyOM      | 118               | 55.02             | ⋯                 |  33.86549         | 0.03066436        | Fragiudept        | Fungi             | Ascomycota        | Dothideomycetes   | Pleosporales      | Pleosporaceae     | Alternaria        | chlamydosporigena | \n",
       "| OTU4              | CNL_024           | 0                 | CNL_24            |  24               | CNL               | AK_D_26           | AK_D_26_Soil      |  24               | x                 | ⋯                 |  28.95399         |         NA        | Cryaquept         | Fungi             | Ascomycota        | Dothideomycetes   | Pleosporales      | Pleosporaceae     | Alternaria        | chlamydosporigena | \n",
       "| OTU4              | CNL_018           | 0                 | CNL_18            |  18               | CNL               | AK_C_26           | AK_C_26_Soil      |  18               | x                 | ⋯                 |  32.19444         |         NA        | Cryaquept         | Fungi             | Ascomycota        | Dothideomycetes   | Pleosporales      | Pleosporaceae     | Alternaria        | chlamydosporigena | \n",
       "| OTU4              | CNL_032           | 0                 | CNL_32            |  32               | CNL               | FL_B_26           | FL_B_26_OM        |  32               | 150.05            | ⋯                 | 228.27195         | 0.68536093        | Quartzipsamment   | Fungi             | Ascomycota        | Dothideomycetes   | Pleosporales      | Pleosporaceae     | Alternaria        | chlamydosporigena | \n",
       "| OTU4              | CNL_066           | 0                 | CNL_66            |  66               | CNL               | HI_C_26           | HI_C_26_Soil      |  66               | x                 | ⋯                 |  19.96488         |         NA        | Hydrudand         | Fungi             | Ascomycota        | Dothideomycetes   | Pleosporales      | Pleosporaceae     | Alternaria        | chlamydosporigena | \n",
       "| OTU4              | CNL_046           | 0                 | CNL_46            |  46               | CNL               | FL_D_26           | FL_D_26_PyOM      |  46               | 55.01             | ⋯                 | 139.31194         | 0.04810811        | Quartzipsamment   | Fungi             | Ascomycota        | Dothideomycetes   | Pleosporales      | Pleosporaceae     | Alternaria        | chlamydosporigena | \n",
       "| OTU4              | CNL_026           | 0                 | CNL_26            |  26               | CNL               | FL_A_26           | FL_A_26_OM        |  26               | 150.04            | ⋯                 | 172.30840         | 0.36324083        | Quartzipsamment   | Fungi             | Ascomycota        | Dothideomycetes   | Pleosporales      | Pleosporaceae     | Alternaria        | chlamydosporigena | \n",
       "| OTU4              | CNL_034           | 0                 | CNL_34            |  34               | CNL               | FL_B_26           | FL_B_26_PyOM      |  34               | 55.07             | ⋯                 | 154.33514         | 0.02511195        | Quartzipsamment   | Fungi             | Ascomycota        | Dothideomycetes   | Pleosporales      | Pleosporaceae     | Alternaria        | chlamydosporigena | \n",
       "| OTU4              | CNL_068           | 0                 | CNL_68            |  68               | CNL               | HI_D_26           | HI_D_26_OM        |  68               | 30                | ⋯                 |  26.05202         | 0.52745935        | Hydrudand         | Fungi             | Ascomycota        | Dothideomycetes   | Pleosporales      | Pleosporaceae     | Alternaria        | chlamydosporigena | \n",
       "| OTU4              | CNL_048           | 0                 | CNL_48            |  48               | CNL               | FL_D_26           | FL_D_26_Soil      |  48               | x                 | ⋯                 |  85.45913         |         NA        | Quartzipsamment   | Fungi             | Ascomycota        | Dothideomycetes   | Pleosporales      | Pleosporaceae     | Alternaria        | chlamydosporigena | \n",
       "| OTU4              | CNL_028           | 0                 | CNL_28            |  28               | CNL               | FL_A_26           | FL_A_26_PyOM      |  28               | 54.98             | ⋯                 | 134.72465         | 0.04718308        | Quartzipsamment   | Fungi             | Ascomycota        | Dothideomycetes   | Pleosporales      | Pleosporaceae     | Alternaria        | chlamydosporigena | \n",
       "| OTU4              | CNL_036           | 0                 | CNL_36            |  36               | CNL               | FL_B_26           | FL_B_26_Soil      |  36               | x                 | ⋯                 | 109.45305         |         NA        | Quartzipsamment   | Fungi             | Ascomycota        | Dothideomycetes   | Pleosporales      | Pleosporaceae     | Alternaria        | chlamydosporigena | \n",
       "| OTU4              | CNL_070           | 0                 | CNL_70            |  70               | CNL               | HI_D_26           | HI_D_26_PyOM      |  70               | 11.07             | ⋯                 |  30.81563         | 0.02706653        | Hydrudand         | Fungi             | Ascomycota        | Dothideomycetes   | Pleosporales      | Pleosporaceae     | Alternaria        | chlamydosporigena | \n",
       "| OTU4              | CNL_050           | 0                 | CNL_50            |  50               | CNL               | HI_A_26           | HI_A_26_OM        |  50               | 30.01             | ⋯                 |  33.18795         | 0.31996082        | Hydrudand         | Fungi             | Ascomycota        | Dothideomycetes   | Pleosporales      | Pleosporaceae     | Alternaria        | chlamydosporigena | \n",
       "| OTU4              | CNL_030           | 0                 | CNL_30            |  30               | CNL               | FL_A_26           | FL_A_26_Soil      |  30               | x                 | ⋯                 |  84.23677         |         NA        | Quartzipsamment   | Fungi             | Ascomycota        | Dothideomycetes   | Pleosporales      | Pleosporaceae     | Alternaria        | chlamydosporigena | \n",
       "| OTU4              | CNL_038           | 0                 | CNL_38            |  38               | CNL               | FL_C_26           | FL_C_26_OM        |  38               | 149.95            | ⋯                 | 237.42400         | 0.62968512        | Quartzipsamment   | Fungi             | Ascomycota        | Dothideomycetes   | Pleosporales      | Pleosporaceae     | Alternaria        | chlamydosporigena | \n",
       "| OTU4              | CNL_072           | 0                 | CNL_72            |  72               | CNL               | HI_D_26           | HI_D_26_Soil      |  72               | x                 | ⋯                 |  29.81276         |         NA        | Hydrudand         | Fungi             | Ascomycota        | Dothideomycetes   | Pleosporales      | Pleosporaceae     | Alternaria        | chlamydosporigena | \n",
       "| OTU4              | CNL_052           | 0                 | CNL_52            |  52               | CNL               | HI_A_26           | HI_A_26_PyOM      |  52               | 10.95             | ⋯                 |  39.86480         | 0.03670024        | Hydrudand         | Fungi             | Ascomycota        | Dothideomycetes   | Pleosporales      | Pleosporaceae     | Alternaria        | chlamydosporigena | \n",
       "| OTU4              | CNL_060           | 0                 | CNL_60            |  60               | CNL               | HI_B_26           | HI_B_26_Soil      |  60               | x                 | ⋯                 |  25.49399         |         NA        | Hydrudand         | Fungi             | Ascomycota        | Dothideomycetes   | Pleosporales      | Pleosporaceae     | Alternaria        | chlamydosporigena | \n",
       "| OTU4              | CNL_040           | 0                 | CNL_40            |  40               | CNL               | FL_C_26           | FL_C_26_PyOM      |  40               | 55.04             | ⋯                 | 110.28436         | 0.04090268        | Quartzipsamment   | Fungi             | Ascomycota        | Dothideomycetes   | Pleosporales      | Pleosporaceae     | Alternaria        | chlamydosporigena | \n",
       "| OTU4              | CNL_054           | 0                 | CNL_54            |  54               | CNL               | HI_A_26           | HI_A_26_Soil      |  54               | x                 | ⋯                 |  41.17556         |         NA        | Hydrudand         | Fungi             | Ascomycota        | Dothideomycetes   | Pleosporales      | Pleosporaceae     | Alternaria        | chlamydosporigena | \n",
       "| OTU4              | CNL_062           | 0                 | CNL_62            |  62               | CNL               | HI_C_26           | HI_C_26_OM        |  62               | 30.05             | ⋯                 |  32.17582         | 0.49867837        | Hydrudand         | Fungi             | Ascomycota        | Dothideomycetes   | Pleosporales      | Pleosporaceae     | Alternaria        | chlamydosporigena | \n",
       "| OTU4              | CNL_042           | 0                 | CNL_42            |  42               | CNL               | FL_C_26           | FL_C_26_Soil      |  42               | x                 | ⋯                 |  64.47982         |         NA        | Quartzipsamment   | Fungi             | Ascomycota        | Dothideomycetes   | Pleosporales      | Pleosporaceae     | Alternaria        | chlamydosporigena | \n",
       "| OTU4              | CNL_056           | 0                 | CNL_56            |  56               | CNL               | HI_B_26           | HI_B_26_OM        |  56               | 30.02             | ⋯                 |  27.65425         | 0.44073472        | Hydrudand         | Fungi             | Ascomycota        | Dothideomycetes   | Pleosporales      | Pleosporaceae     | Alternaria        | chlamydosporigena | \n",
       "| OTU4              | CNL_064           | 0                 | CNL_64            |  64               | CNL               | HI_C_26           | HI_C_26_PyOM      |  64               | 10.95             | ⋯                 |  32.31951         | 0.03694358        | Hydrudand         | Fungi             | Ascomycota        | Dothideomycetes   | Pleosporales      | Pleosporaceae     | Alternaria        | chlamydosporigena | \n",
       "| OTU4              | CNL_044           | 0                 | CNL_44            |  44               | CNL               | FL_D_26           | FL_D_26_OM        |  44               | 150.03            | ⋯                 | 289.42419         | 0.74304785        | Quartzipsamment   | Fungi             | Ascomycota        | Dothideomycetes   | Pleosporales      | Pleosporaceae     | Alternaria        | chlamydosporigena | \n",
       "| OTU4              | CNL_058           | 0                 | CNL_58            |  58               | CNL               | HI_B_26           | HI_B_26_PyOM      |  58               | 10.95             | ⋯                 |  17.37512         | 0.02451997        | Hydrudand         | Fungi             | Ascomycota        | Dothideomycetes   | Pleosporales      | Pleosporaceae     | Alternaria        | chlamydosporigena | \n",
       "\n",
       "\n"
      ],
      "text/plain": [
       "    OTU  Sample  Abundance   Tube_ID Seq_ID Proj_ID Soil_Rep_Day\n",
       "1   OTU1 CNL_066 0.664435910 CNL_66   66    CNL     HI_C_26     \n",
       "2   OTU1 CNL_064 0.582690846 CNL_64   64    CNL     HI_C_26     \n",
       "3   OTU1 CNL_070 0.212720421 CNL_70   70    CNL     HI_D_26     \n",
       "4   OTU1 CNL_072 0.173859935 CNL_72   72    CNL     HI_D_26     \n",
       "5   OTU1 CNL_062 0.096182760 CNL_62   62    CNL     HI_C_26     \n",
       "6   OTU1 CNL_058 0.071571409 CNL_58   58    CNL     HI_B_26     \n",
       "7   OTU1 CNL_060 0.032534209 CNL_60   60    CNL     HI_B_26     \n",
       "8   OTU1 CNL_054 0.022574097 CNL_54   54    CNL     HI_A_26     \n",
       "9   OTU1 CNL_112 0.018137848 CNL_112 112    CNL     MP_A_26     \n",
       "10  OTU1 CNL_100 0.014957127 CNL_100 100    CNL     MP_A_26     \n",
       "11  OTU1 CNL_108 0.014223942 CNL_108 108    CNL     MP_A_26     \n",
       "12  OTU1 CNL_050 0.013097979 CNL_50   50    CNL     HI_A_26     \n",
       "13  OTU1 CNL_106 0.008983051 CNL_106 106    CNL     MP_A_26     \n",
       "14  OTU1 CNL_052 0.004652174 CNL_52   52    CNL     HI_A_26     \n",
       "15  OTU1 CNL_048 0.001981621 CNL_48   48    CNL     FL_D_26     \n",
       "16  OTU1 CNL_068 0.001125246 CNL_68   68    CNL     HI_D_26     \n",
       "17  OTU1 CNL_086 0.000000000 CNL_86   86    CNL     UT_C_26     \n",
       "18  OTU1 CNL_046 0.000000000 CNL_46   46    CNL     FL_D_26     \n",
       "19  OTU1 CNL_026 0.000000000 CNL_26   26    CNL     FL_A_26     \n",
       "20  OTU1 CNL_006 0.000000000 CNL_6     6    CNL     AK_A_26     \n",
       "21  OTU1 CNL_088 0.000000000 CNL_88   88    CNL     UT_C_26     \n",
       "22  OTU1 CNL_028 0.000000000 CNL_28   28    CNL     FL_A_26     \n",
       "23  OTU1 CNL_008 0.000000000 CNL_8     8    CNL     AK_B_26     \n",
       "24  OTU1 CNL_110 0.000000000 CNL_110 110    CNL     MP_A_26     \n",
       "25  OTU1 CNL_090 0.000000000 CNL_90   90    CNL     UT_C_26     \n",
       "26  OTU1 CNL_030 0.000000000 CNL_30   30    CNL     FL_A_26     \n",
       "27  OTU1 CNL_010 0.000000000 CNL_10   10    CNL     AK_B_26     \n",
       "28  OTU1 CNL_092 0.000000000 CNL_92   92    CNL     UT_D_26     \n",
       "29  OTU1 CNL_032 0.000000000 CNL_32   32    CNL     FL_B_26     \n",
       "30  OTU1 CNL_012 0.000000000 CNL_12   12    CNL     AK_B_26     \n",
       "⋮   ⋮    ⋮       ⋮           ⋮       ⋮      ⋮       ⋮           \n",
       "331 OTU4 CNL_016 0           CNL_16   16    CNL     AK_C_26     \n",
       "332 OTU4 CNL_124 0           CNL_124 124    CNL     AK_A_26     \n",
       "333 OTU4 CNL_104 0           CNL_104 104    CNL     MP_A_26     \n",
       "334 OTU4 CNL_118 0           CNL_118 118    CNL     MP_A_26     \n",
       "335 OTU4 CNL_024 0           CNL_24   24    CNL     AK_D_26     \n",
       "336 OTU4 CNL_018 0           CNL_18   18    CNL     AK_C_26     \n",
       "337 OTU4 CNL_032 0           CNL_32   32    CNL     FL_B_26     \n",
       "338 OTU4 CNL_066 0           CNL_66   66    CNL     HI_C_26     \n",
       "339 OTU4 CNL_046 0           CNL_46   46    CNL     FL_D_26     \n",
       "340 OTU4 CNL_026 0           CNL_26   26    CNL     FL_A_26     \n",
       "341 OTU4 CNL_034 0           CNL_34   34    CNL     FL_B_26     \n",
       "342 OTU4 CNL_068 0           CNL_68   68    CNL     HI_D_26     \n",
       "343 OTU4 CNL_048 0           CNL_48   48    CNL     FL_D_26     \n",
       "344 OTU4 CNL_028 0           CNL_28   28    CNL     FL_A_26     \n",
       "345 OTU4 CNL_036 0           CNL_36   36    CNL     FL_B_26     \n",
       "346 OTU4 CNL_070 0           CNL_70   70    CNL     HI_D_26     \n",
       "347 OTU4 CNL_050 0           CNL_50   50    CNL     HI_A_26     \n",
       "348 OTU4 CNL_030 0           CNL_30   30    CNL     FL_A_26     \n",
       "349 OTU4 CNL_038 0           CNL_38   38    CNL     FL_C_26     \n",
       "350 OTU4 CNL_072 0           CNL_72   72    CNL     HI_D_26     \n",
       "351 OTU4 CNL_052 0           CNL_52   52    CNL     HI_A_26     \n",
       "352 OTU4 CNL_060 0           CNL_60   60    CNL     HI_B_26     \n",
       "353 OTU4 CNL_040 0           CNL_40   40    CNL     FL_C_26     \n",
       "354 OTU4 CNL_054 0           CNL_54   54    CNL     HI_A_26     \n",
       "355 OTU4 CNL_062 0           CNL_62   62    CNL     HI_C_26     \n",
       "356 OTU4 CNL_042 0           CNL_42   42    CNL     FL_C_26     \n",
       "357 OTU4 CNL_056 0           CNL_56   56    CNL     HI_B_26     \n",
       "358 OTU4 CNL_064 0           CNL_64   64    CNL     HI_C_26     \n",
       "359 OTU4 CNL_044 0           CNL_44   44    CNL     FL_D_26     \n",
       "360 OTU4 CNL_058 0           CNL_58   58    CNL     HI_B_26     \n",
       "    Soil_Rep_Day_Trtmt Qorpak_ID Amdmt_mg ⋯\n",
       "1   HI_C_26_Soil        66       x        ⋯\n",
       "2   HI_C_26_PyOM        64       10.95    ⋯\n",
       "3   HI_D_26_PyOM        70       11.07    ⋯\n",
       "4   HI_D_26_Soil        72       x        ⋯\n",
       "5   HI_C_26_OM          62       30.05    ⋯\n",
       "6   HI_B_26_PyOM        58       10.95    ⋯\n",
       "7   HI_B_26_Soil        60       x        ⋯\n",
       "8   HI_A_26_Soil        54       x        ⋯\n",
       "9   MP_A_26_PyOM       112       55.05    ⋯\n",
       "10  MP_A_26_PyOM       100       54.98    ⋯\n",
       "11  MP_A_26_Soil       108       x        ⋯\n",
       "12  HI_A_26_OM          50       30.01    ⋯\n",
       "13  MP_A_26_PyOM       106       55.07    ⋯\n",
       "14  HI_A_26_PyOM        52       10.95    ⋯\n",
       "15  FL_D_26_Soil        48       x        ⋯\n",
       "16  HI_D_26_OM          68       30       ⋯\n",
       "17  UT_C_26_OM          86       150.04   ⋯\n",
       "18  FL_D_26_PyOM        46       55.01    ⋯\n",
       "19  FL_A_26_OM          26       150.04   ⋯\n",
       "20  AK_A_26_Soil         6       x        ⋯\n",
       "21  UT_C_26_PyOM        88       55       ⋯\n",
       "22  FL_A_26_PyOM        28       54.98    ⋯\n",
       "23  AK_B_26_OM           8       29.95    ⋯\n",
       "24  MP_A_26_OM         110       149.98   ⋯\n",
       "25  UT_C_26_Soil        90       x        ⋯\n",
       "26  FL_A_26_Soil        30       x        ⋯\n",
       "27  AK_B_26_PyOM        10       11.03    ⋯\n",
       "28  UT_D_26_OM          92       149.96   ⋯\n",
       "29  FL_B_26_OM          32       150.05   ⋯\n",
       "30  AK_B_26_Soil        12       x        ⋯\n",
       "⋮   ⋮                  ⋮         ⋮        ⋱\n",
       "331 AK_C_26_PyOM        16       11.07    ⋯\n",
       "332 AK_A_26_PyOM       124       10.97    ⋯\n",
       "333 MP_A_26_OM         104       150.02   ⋯\n",
       "334 MP_A_26_PyOM       118       55.02    ⋯\n",
       "335 AK_D_26_Soil        24       x        ⋯\n",
       "336 AK_C_26_Soil        18       x        ⋯\n",
       "337 FL_B_26_OM          32       150.05   ⋯\n",
       "338 HI_C_26_Soil        66       x        ⋯\n",
       "339 FL_D_26_PyOM        46       55.01    ⋯\n",
       "340 FL_A_26_OM          26       150.04   ⋯\n",
       "341 FL_B_26_PyOM        34       55.07    ⋯\n",
       "342 HI_D_26_OM          68       30       ⋯\n",
       "343 FL_D_26_Soil        48       x        ⋯\n",
       "344 FL_A_26_PyOM        28       54.98    ⋯\n",
       "345 FL_B_26_Soil        36       x        ⋯\n",
       "346 HI_D_26_PyOM        70       11.07    ⋯\n",
       "347 HI_A_26_OM          50       30.01    ⋯\n",
       "348 FL_A_26_Soil        30       x        ⋯\n",
       "349 FL_C_26_OM          38       149.95   ⋯\n",
       "350 HI_D_26_Soil        72       x        ⋯\n",
       "351 HI_A_26_PyOM        52       10.95    ⋯\n",
       "352 HI_B_26_Soil        60       x        ⋯\n",
       "353 FL_C_26_PyOM        40       55.04    ⋯\n",
       "354 HI_A_26_Soil        54       x        ⋯\n",
       "355 HI_C_26_OM          62       30.05    ⋯\n",
       "356 FL_C_26_Soil        42       x        ⋯\n",
       "357 HI_B_26_OM          56       30.02    ⋯\n",
       "358 HI_C_26_PyOM        64       10.95    ⋯\n",
       "359 FL_D_26_OM          44       150.03   ⋯\n",
       "360 HI_B_26_PyOM        58       10.95    ⋯\n",
       "    Soil.CO2.mean.mg.per.gram.soil.C.cum Amdmt.CO2.mean.mg.per.mg.amdmt.C.cum\n",
       "1    19.96488                                    NA                          \n",
       "2    32.31951                            0.03694358                          \n",
       "3    30.81563                            0.02706653                          \n",
       "4    29.81276                                    NA                          \n",
       "5    32.17582                            0.49867837                          \n",
       "6    17.37512                            0.02451997                          \n",
       "7    25.49399                                    NA                          \n",
       "8    41.17556                                    NA                          \n",
       "9    26.84428                            0.03445776                          \n",
       "10   23.99315                            0.03378587                          \n",
       "11   21.05492                                    NA                          \n",
       "12   33.18795                            0.31996082                          \n",
       "13   15.55723                            0.02236555                          \n",
       "14   39.86480                            0.03670024                          \n",
       "15   85.45913                                    NA                          \n",
       "16   26.05202                            0.52745935                          \n",
       "17   61.58314                            0.74965574                          \n",
       "18  139.31194                            0.04810811                          \n",
       "19  172.30840                            0.36324083                          \n",
       "20   21.50489                                    NA                          \n",
       "21   44.55727                            0.04311645                          \n",
       "22  134.72465                            0.04718308                          \n",
       "23   16.09494                            0.51789432                          \n",
       "24   46.36114                            0.84168102                          \n",
       "25   22.52068                                    NA                          \n",
       "26   84.23677                                    NA                          \n",
       "27   17.68535                            0.02500065                          \n",
       "28   72.19743                            0.65718154                          \n",
       "29  228.27195                            0.68536093                          \n",
       "30   24.67463                                    NA                          \n",
       "⋮   ⋮                                    ⋮                                   \n",
       "331  36.14912                            0.04360435                          \n",
       "332  25.68973                            0.05229653                          \n",
       "333  50.43425                            0.83634703                          \n",
       "334  33.86549                            0.03066436                          \n",
       "335  28.95399                                    NA                          \n",
       "336  32.19444                                    NA                          \n",
       "337 228.27195                            0.68536093                          \n",
       "338  19.96488                                    NA                          \n",
       "339 139.31194                            0.04810811                          \n",
       "340 172.30840                            0.36324083                          \n",
       "341 154.33514                            0.02511195                          \n",
       "342  26.05202                            0.52745935                          \n",
       "343  85.45913                                    NA                          \n",
       "344 134.72465                            0.04718308                          \n",
       "345 109.45305                                    NA                          \n",
       "346  30.81563                            0.02706653                          \n",
       "347  33.18795                            0.31996082                          \n",
       "348  84.23677                                    NA                          \n",
       "349 237.42400                            0.62968512                          \n",
       "350  29.81276                                    NA                          \n",
       "351  39.86480                            0.03670024                          \n",
       "352  25.49399                                    NA                          \n",
       "353 110.28436                            0.04090268                          \n",
       "354  41.17556                                    NA                          \n",
       "355  32.17582                            0.49867837                          \n",
       "356  64.47982                                    NA                          \n",
       "357  27.65425                            0.44073472                          \n",
       "358  32.31951                            0.03694358                          \n",
       "359 289.42419                            0.74304785                          \n",
       "360  17.37512                            0.02451997                          \n",
       "    Soil_Name       Kingdom Phylum        Class           Order       \n",
       "1   Hydrudand       Fungi   Basidiomycota Tremellomycetes Tremellales \n",
       "2   Hydrudand       Fungi   Basidiomycota Tremellomycetes Tremellales \n",
       "3   Hydrudand       Fungi   Basidiomycota Tremellomycetes Tremellales \n",
       "4   Hydrudand       Fungi   Basidiomycota Tremellomycetes Tremellales \n",
       "5   Hydrudand       Fungi   Basidiomycota Tremellomycetes Tremellales \n",
       "6   Hydrudand       Fungi   Basidiomycota Tremellomycetes Tremellales \n",
       "7   Hydrudand       Fungi   Basidiomycota Tremellomycetes Tremellales \n",
       "8   Hydrudand       Fungi   Basidiomycota Tremellomycetes Tremellales \n",
       "9   Fragiudept      Fungi   Basidiomycota Tremellomycetes Tremellales \n",
       "10  Fragiudept      Fungi   Basidiomycota Tremellomycetes Tremellales \n",
       "11  Fragiudept      Fungi   Basidiomycota Tremellomycetes Tremellales \n",
       "12  Hydrudand       Fungi   Basidiomycota Tremellomycetes Tremellales \n",
       "13  Fragiudept      Fungi   Basidiomycota Tremellomycetes Tremellales \n",
       "14  Hydrudand       Fungi   Basidiomycota Tremellomycetes Tremellales \n",
       "15  Quartzipsamment Fungi   Basidiomycota Tremellomycetes Tremellales \n",
       "16  Hydrudand       Fungi   Basidiomycota Tremellomycetes Tremellales \n",
       "17  Haplocalcid     Fungi   Basidiomycota Tremellomycetes Tremellales \n",
       "18  Quartzipsamment Fungi   Basidiomycota Tremellomycetes Tremellales \n",
       "19  Quartzipsamment Fungi   Basidiomycota Tremellomycetes Tremellales \n",
       "20  Cryaquept       Fungi   Basidiomycota Tremellomycetes Tremellales \n",
       "21  Haplocalcid     Fungi   Basidiomycota Tremellomycetes Tremellales \n",
       "22  Quartzipsamment Fungi   Basidiomycota Tremellomycetes Tremellales \n",
       "23  Cryaquept       Fungi   Basidiomycota Tremellomycetes Tremellales \n",
       "24  Fragiudept      Fungi   Basidiomycota Tremellomycetes Tremellales \n",
       "25  Haplocalcid     Fungi   Basidiomycota Tremellomycetes Tremellales \n",
       "26  Quartzipsamment Fungi   Basidiomycota Tremellomycetes Tremellales \n",
       "27  Cryaquept       Fungi   Basidiomycota Tremellomycetes Tremellales \n",
       "28  Haplocalcid     Fungi   Basidiomycota Tremellomycetes Tremellales \n",
       "29  Quartzipsamment Fungi   Basidiomycota Tremellomycetes Tremellales \n",
       "30  Cryaquept       Fungi   Basidiomycota Tremellomycetes Tremellales \n",
       "⋮   ⋮               ⋮       ⋮             ⋮               ⋮           \n",
       "331 Cryaquept       Fungi   Ascomycota    Dothideomycetes Pleosporales\n",
       "332 Cryaquept       Fungi   Ascomycota    Dothideomycetes Pleosporales\n",
       "333 Fragiudept      Fungi   Ascomycota    Dothideomycetes Pleosporales\n",
       "334 Fragiudept      Fungi   Ascomycota    Dothideomycetes Pleosporales\n",
       "335 Cryaquept       Fungi   Ascomycota    Dothideomycetes Pleosporales\n",
       "336 Cryaquept       Fungi   Ascomycota    Dothideomycetes Pleosporales\n",
       "337 Quartzipsamment Fungi   Ascomycota    Dothideomycetes Pleosporales\n",
       "338 Hydrudand       Fungi   Ascomycota    Dothideomycetes Pleosporales\n",
       "339 Quartzipsamment Fungi   Ascomycota    Dothideomycetes Pleosporales\n",
       "340 Quartzipsamment Fungi   Ascomycota    Dothideomycetes Pleosporales\n",
       "341 Quartzipsamment Fungi   Ascomycota    Dothideomycetes Pleosporales\n",
       "342 Hydrudand       Fungi   Ascomycota    Dothideomycetes Pleosporales\n",
       "343 Quartzipsamment Fungi   Ascomycota    Dothideomycetes Pleosporales\n",
       "344 Quartzipsamment Fungi   Ascomycota    Dothideomycetes Pleosporales\n",
       "345 Quartzipsamment Fungi   Ascomycota    Dothideomycetes Pleosporales\n",
       "346 Hydrudand       Fungi   Ascomycota    Dothideomycetes Pleosporales\n",
       "347 Hydrudand       Fungi   Ascomycota    Dothideomycetes Pleosporales\n",
       "348 Quartzipsamment Fungi   Ascomycota    Dothideomycetes Pleosporales\n",
       "349 Quartzipsamment Fungi   Ascomycota    Dothideomycetes Pleosporales\n",
       "350 Hydrudand       Fungi   Ascomycota    Dothideomycetes Pleosporales\n",
       "351 Hydrudand       Fungi   Ascomycota    Dothideomycetes Pleosporales\n",
       "352 Hydrudand       Fungi   Ascomycota    Dothideomycetes Pleosporales\n",
       "353 Quartzipsamment Fungi   Ascomycota    Dothideomycetes Pleosporales\n",
       "354 Hydrudand       Fungi   Ascomycota    Dothideomycetes Pleosporales\n",
       "355 Hydrudand       Fungi   Ascomycota    Dothideomycetes Pleosporales\n",
       "356 Quartzipsamment Fungi   Ascomycota    Dothideomycetes Pleosporales\n",
       "357 Hydrudand       Fungi   Ascomycota    Dothideomycetes Pleosporales\n",
       "358 Hydrudand       Fungi   Ascomycota    Dothideomycetes Pleosporales\n",
       "359 Quartzipsamment Fungi   Ascomycota    Dothideomycetes Pleosporales\n",
       "360 Hydrudand       Fungi   Ascomycota    Dothideomycetes Pleosporales\n",
       "    Family              Genus      Species          \n",
       "1   Trimorphomycetaceae Saitozyma  podzolica        \n",
       "2   Trimorphomycetaceae Saitozyma  podzolica        \n",
       "3   Trimorphomycetaceae Saitozyma  podzolica        \n",
       "4   Trimorphomycetaceae Saitozyma  podzolica        \n",
       "5   Trimorphomycetaceae Saitozyma  podzolica        \n",
       "6   Trimorphomycetaceae Saitozyma  podzolica        \n",
       "7   Trimorphomycetaceae Saitozyma  podzolica        \n",
       "8   Trimorphomycetaceae Saitozyma  podzolica        \n",
       "9   Trimorphomycetaceae Saitozyma  podzolica        \n",
       "10  Trimorphomycetaceae Saitozyma  podzolica        \n",
       "11  Trimorphomycetaceae Saitozyma  podzolica        \n",
       "12  Trimorphomycetaceae Saitozyma  podzolica        \n",
       "13  Trimorphomycetaceae Saitozyma  podzolica        \n",
       "14  Trimorphomycetaceae Saitozyma  podzolica        \n",
       "15  Trimorphomycetaceae Saitozyma  podzolica        \n",
       "16  Trimorphomycetaceae Saitozyma  podzolica        \n",
       "17  Trimorphomycetaceae Saitozyma  podzolica        \n",
       "18  Trimorphomycetaceae Saitozyma  podzolica        \n",
       "19  Trimorphomycetaceae Saitozyma  podzolica        \n",
       "20  Trimorphomycetaceae Saitozyma  podzolica        \n",
       "21  Trimorphomycetaceae Saitozyma  podzolica        \n",
       "22  Trimorphomycetaceae Saitozyma  podzolica        \n",
       "23  Trimorphomycetaceae Saitozyma  podzolica        \n",
       "24  Trimorphomycetaceae Saitozyma  podzolica        \n",
       "25  Trimorphomycetaceae Saitozyma  podzolica        \n",
       "26  Trimorphomycetaceae Saitozyma  podzolica        \n",
       "27  Trimorphomycetaceae Saitozyma  podzolica        \n",
       "28  Trimorphomycetaceae Saitozyma  podzolica        \n",
       "29  Trimorphomycetaceae Saitozyma  podzolica        \n",
       "30  Trimorphomycetaceae Saitozyma  podzolica        \n",
       "⋮   ⋮                   ⋮          ⋮                \n",
       "331 Pleosporaceae       Alternaria chlamydosporigena\n",
       "332 Pleosporaceae       Alternaria chlamydosporigena\n",
       "333 Pleosporaceae       Alternaria chlamydosporigena\n",
       "334 Pleosporaceae       Alternaria chlamydosporigena\n",
       "335 Pleosporaceae       Alternaria chlamydosporigena\n",
       "336 Pleosporaceae       Alternaria chlamydosporigena\n",
       "337 Pleosporaceae       Alternaria chlamydosporigena\n",
       "338 Pleosporaceae       Alternaria chlamydosporigena\n",
       "339 Pleosporaceae       Alternaria chlamydosporigena\n",
       "340 Pleosporaceae       Alternaria chlamydosporigena\n",
       "341 Pleosporaceae       Alternaria chlamydosporigena\n",
       "342 Pleosporaceae       Alternaria chlamydosporigena\n",
       "343 Pleosporaceae       Alternaria chlamydosporigena\n",
       "344 Pleosporaceae       Alternaria chlamydosporigena\n",
       "345 Pleosporaceae       Alternaria chlamydosporigena\n",
       "346 Pleosporaceae       Alternaria chlamydosporigena\n",
       "347 Pleosporaceae       Alternaria chlamydosporigena\n",
       "348 Pleosporaceae       Alternaria chlamydosporigena\n",
       "349 Pleosporaceae       Alternaria chlamydosporigena\n",
       "350 Pleosporaceae       Alternaria chlamydosporigena\n",
       "351 Pleosporaceae       Alternaria chlamydosporigena\n",
       "352 Pleosporaceae       Alternaria chlamydosporigena\n",
       "353 Pleosporaceae       Alternaria chlamydosporigena\n",
       "354 Pleosporaceae       Alternaria chlamydosporigena\n",
       "355 Pleosporaceae       Alternaria chlamydosporigena\n",
       "356 Pleosporaceae       Alternaria chlamydosporigena\n",
       "357 Pleosporaceae       Alternaria chlamydosporigena\n",
       "358 Pleosporaceae       Alternaria chlamydosporigena\n",
       "359 Pleosporaceae       Alternaria chlamydosporigena\n",
       "360 Pleosporaceae       Alternaria chlamydosporigena"
      ]
     },
     "metadata": {},
     "output_type": "display_data"
    }
   ],
   "source": [
    "ps.sig = prune_taxa(taxa_names(ps.norm) %in% SigOTUs,ps.norm)\n",
    "mdf = psmelt(ps.sig)\n",
    "mdf = mdf %>%\n",
    "    filter(Day==\"26\")%>%\n",
    "    group_by(Soil_Trtmt,OTU,Genus,Amdmt)%>%\n",
    "    #summarize(meanAbund=mean(Abundance))%>%\n",
    "    arrange(OTU)\n",
    "mdf"
   ]
  },
  {
   "cell_type": "code",
   "execution_count": 132,
   "metadata": {},
   "outputs": [
    {
     "data": {},
     "metadata": {},
     "output_type": "display_data"
    },
    {
     "data": {
      "image/png": "[encoded data removed]",
      "text/plain": [
       "plot without title"
      ]
     },
     "metadata": {},
     "output_type": "display_data"
    }
   ],
   "source": [
    "options(repr.plot.width=5, repr.plot.height=4)\n",
    "\n",
    "p = ggplot(data=mdf, aes(x=Amdmt,y=Abundance,color=Amdmt))\n",
    "p = p + geom_boxplot()\n",
    "p = p + theme_bw()\n",
    "p = p + theme(axis.text.x = element_text(angle=45,hjust=1))\n",
    "palette = c(wes_palette(\"Cavalcanti1\"))\n",
    "palette = palette[c(3,1,2)]\n",
    "p = p + scale_color_manual(values=palette)\n",
    "p = p + facet_grid(~Genus~Soil_Trtmt, scales=\"free\")\n",
    "p = p + theme(strip.text.y = element_text(face=\"italic\"))\n",
    "p = p + xlab(\"Amendment\")\n",
    "p"
   ]
  },
  {
   "cell_type": "code",
   "execution_count": 136,
   "metadata": {},
   "outputs": [
    {
     "data": {
      "text/html": [
       "<table>\n",
       "<thead><tr><th scope=col>Soil_Trtmt</th><th scope=col>OTU</th><th scope=col>meanAbund</th></tr></thead>\n",
       "<tbody>\n",
       "\t<tr><td>Hawaii      </td><td>OTU1        </td><td>0.2233510377</td></tr>\n",
       "\t<tr><td>Alaska      </td><td>OTU1        </td><td>0.0000000000</td></tr>\n",
       "\t<tr><td>Utah        </td><td>OTU1        </td><td>0.0000000000</td></tr>\n",
       "\t<tr><td>New York    </td><td>OTU1        </td><td>0.0035559854</td></tr>\n",
       "\t<tr><td>Florida     </td><td>OTU1        </td><td>0.0004954054</td></tr>\n",
       "\t<tr><td>Hawaii      </td><td>OTU10       </td><td>0.0000000000</td></tr>\n",
       "\t<tr><td>Alaska      </td><td>OTU10       </td><td>0.0000000000</td></tr>\n",
       "\t<tr><td>Utah        </td><td>OTU10       </td><td>0.0000000000</td></tr>\n",
       "\t<tr><td>New York    </td><td>OTU10       </td><td>0.2234813037</td></tr>\n",
       "\t<tr><td>Florida     </td><td>OTU10       </td><td>0.0000000000</td></tr>\n",
       "\t<tr><td>Hawaii      </td><td>OTU102      </td><td>0.0000000000</td></tr>\n",
       "\t<tr><td>Alaska      </td><td>OTU102      </td><td>0.0000000000</td></tr>\n",
       "\t<tr><td>Utah        </td><td>OTU102      </td><td>0.0000000000</td></tr>\n",
       "\t<tr><td>New York    </td><td>OTU102      </td><td>0.0078117845</td></tr>\n",
       "\t<tr><td>Florida     </td><td>OTU102      </td><td>0.0000000000</td></tr>\n",
       "\t<tr><td>Hawaii      </td><td>OTU142      </td><td>0.0000000000</td></tr>\n",
       "\t<tr><td>Alaska      </td><td>OTU142      </td><td>0.0000000000</td></tr>\n",
       "\t<tr><td>Utah        </td><td>OTU142      </td><td>0.0000000000</td></tr>\n",
       "\t<tr><td>New York    </td><td>OTU142      </td><td>0.0000000000</td></tr>\n",
       "\t<tr><td>Florida     </td><td>OTU142      </td><td>0.0000000000</td></tr>\n",
       "\t<tr><td>Hawaii      </td><td>OTU20       </td><td>0.0000000000</td></tr>\n",
       "\t<tr><td>Alaska      </td><td>OTU20       </td><td>0.0003320478</td></tr>\n",
       "\t<tr><td>Utah        </td><td>OTU20       </td><td>0.0000000000</td></tr>\n",
       "\t<tr><td>New York    </td><td>OTU20       </td><td>0.0000000000</td></tr>\n",
       "\t<tr><td>Florida     </td><td>OTU20       </td><td>0.0281851787</td></tr>\n",
       "\t<tr><td>Hawaii      </td><td>OTU4        </td><td>0.0000000000</td></tr>\n",
       "\t<tr><td>Alaska      </td><td>OTU4        </td><td>0.0000000000</td></tr>\n",
       "\t<tr><td>Utah        </td><td>OTU4        </td><td>0.1807119492</td></tr>\n",
       "\t<tr><td>New York    </td><td>OTU4        </td><td>0.0000000000</td></tr>\n",
       "\t<tr><td>Florida     </td><td>OTU4        </td><td>0.0000000000</td></tr>\n",
       "</tbody>\n",
       "</table>\n"
      ],
      "text/latex": [
       "\\begin{tabular}{r|lll}\n",
       " Soil\\_Trtmt & OTU & meanAbund\\\\\n",
       "\\hline\n",
       "\t Hawaii       & OTU1         & 0.2233510377\\\\\n",
       "\t Alaska       & OTU1         & 0.0000000000\\\\\n",
       "\t Utah         & OTU1         & 0.0000000000\\\\\n",
       "\t New York     & OTU1         & 0.0035559854\\\\\n",
       "\t Florida      & OTU1         & 0.0004954054\\\\\n",
       "\t Hawaii       & OTU10        & 0.0000000000\\\\\n",
       "\t Alaska       & OTU10        & 0.0000000000\\\\\n",
       "\t Utah         & OTU10        & 0.0000000000\\\\\n",
       "\t New York     & OTU10        & 0.2234813037\\\\\n",
       "\t Florida      & OTU10        & 0.0000000000\\\\\n",
       "\t Hawaii       & OTU102       & 0.0000000000\\\\\n",
       "\t Alaska       & OTU102       & 0.0000000000\\\\\n",
       "\t Utah         & OTU102       & 0.0000000000\\\\\n",
       "\t New York     & OTU102       & 0.0078117845\\\\\n",
       "\t Florida      & OTU102       & 0.0000000000\\\\\n",
       "\t Hawaii       & OTU142       & 0.0000000000\\\\\n",
       "\t Alaska       & OTU142       & 0.0000000000\\\\\n",
       "\t Utah         & OTU142       & 0.0000000000\\\\\n",
       "\t New York     & OTU142       & 0.0000000000\\\\\n",
       "\t Florida      & OTU142       & 0.0000000000\\\\\n",
       "\t Hawaii       & OTU20        & 0.0000000000\\\\\n",
       "\t Alaska       & OTU20        & 0.0003320478\\\\\n",
       "\t Utah         & OTU20        & 0.0000000000\\\\\n",
       "\t New York     & OTU20        & 0.0000000000\\\\\n",
       "\t Florida      & OTU20        & 0.0281851787\\\\\n",
       "\t Hawaii       & OTU4         & 0.0000000000\\\\\n",
       "\t Alaska       & OTU4         & 0.0000000000\\\\\n",
       "\t Utah         & OTU4         & 0.1807119492\\\\\n",
       "\t New York     & OTU4         & 0.0000000000\\\\\n",
       "\t Florida      & OTU4         & 0.0000000000\\\\\n",
       "\\end{tabular}\n"
      ],
      "text/markdown": [
       "\n",
       "Soil_Trtmt | OTU | meanAbund | \n",
       "|---|---|---|---|---|---|---|---|---|---|---|---|---|---|---|---|---|---|---|---|---|---|---|---|---|---|---|---|---|---|\n",
       "| Hawaii       | OTU1         | 0.2233510377 | \n",
       "| Alaska       | OTU1         | 0.0000000000 | \n",
       "| Utah         | OTU1         | 0.0000000000 | \n",
       "| New York     | OTU1         | 0.0035559854 | \n",
       "| Florida      | OTU1         | 0.0004954054 | \n",
       "| Hawaii       | OTU10        | 0.0000000000 | \n",
       "| Alaska       | OTU10        | 0.0000000000 | \n",
       "| Utah         | OTU10        | 0.0000000000 | \n",
       "| New York     | OTU10        | 0.2234813037 | \n",
       "| Florida      | OTU10        | 0.0000000000 | \n",
       "| Hawaii       | OTU102       | 0.0000000000 | \n",
       "| Alaska       | OTU102       | 0.0000000000 | \n",
       "| Utah         | OTU102       | 0.0000000000 | \n",
       "| New York     | OTU102       | 0.0078117845 | \n",
       "| Florida      | OTU102       | 0.0000000000 | \n",
       "| Hawaii       | OTU142       | 0.0000000000 | \n",
       "| Alaska       | OTU142       | 0.0000000000 | \n",
       "| Utah         | OTU142       | 0.0000000000 | \n",
       "| New York     | OTU142       | 0.0000000000 | \n",
       "| Florida      | OTU142       | 0.0000000000 | \n",
       "| Hawaii       | OTU20        | 0.0000000000 | \n",
       "| Alaska       | OTU20        | 0.0003320478 | \n",
       "| Utah         | OTU20        | 0.0000000000 | \n",
       "| New York     | OTU20        | 0.0000000000 | \n",
       "| Florida      | OTU20        | 0.0281851787 | \n",
       "| Hawaii       | OTU4         | 0.0000000000 | \n",
       "| Alaska       | OTU4         | 0.0000000000 | \n",
       "| Utah         | OTU4         | 0.1807119492 | \n",
       "| New York     | OTU4         | 0.0000000000 | \n",
       "| Florida      | OTU4         | 0.0000000000 | \n",
       "\n",
       "\n"
      ],
      "text/plain": [
       "   Soil_Trtmt OTU    meanAbund   \n",
       "1  Hawaii     OTU1   0.2233510377\n",
       "2  Alaska     OTU1   0.0000000000\n",
       "3  Utah       OTU1   0.0000000000\n",
       "4  New York   OTU1   0.0035559854\n",
       "5  Florida    OTU1   0.0004954054\n",
       "6  Hawaii     OTU10  0.0000000000\n",
       "7  Alaska     OTU10  0.0000000000\n",
       "8  Utah       OTU10  0.0000000000\n",
       "9  New York   OTU10  0.2234813037\n",
       "10 Florida    OTU10  0.0000000000\n",
       "11 Hawaii     OTU102 0.0000000000\n",
       "12 Alaska     OTU102 0.0000000000\n",
       "13 Utah       OTU102 0.0000000000\n",
       "14 New York   OTU102 0.0078117845\n",
       "15 Florida    OTU102 0.0000000000\n",
       "16 Hawaii     OTU142 0.0000000000\n",
       "17 Alaska     OTU142 0.0000000000\n",
       "18 Utah       OTU142 0.0000000000\n",
       "19 New York   OTU142 0.0000000000\n",
       "20 Florida    OTU142 0.0000000000\n",
       "21 Hawaii     OTU20  0.0000000000\n",
       "22 Alaska     OTU20  0.0003320478\n",
       "23 Utah       OTU20  0.0000000000\n",
       "24 New York   OTU20  0.0000000000\n",
       "25 Florida    OTU20  0.0281851787\n",
       "26 Hawaii     OTU4   0.0000000000\n",
       "27 Alaska     OTU4   0.0000000000\n",
       "28 Utah       OTU4   0.1807119492\n",
       "29 New York   OTU4   0.0000000000\n",
       "30 Florida    OTU4   0.0000000000"
      ]
     },
     "metadata": {},
     "output_type": "display_data"
    }
   ],
   "source": [
    "ps.sig = prune_taxa(taxa_names(ps.norm) %in% SigOTUs,ps.norm)\n",
    "mdf = psmelt(ps.sig)\n",
    "mdf = mdf %>%\n",
    "    filter(Day==\"26\")%>%\n",
    "    filter(Amdmt==\"Soil\")%>%\n",
    "    group_by(Soil_Trtmt,OTU)%>%\n",
    "    summarize(meanAbund=mean(Abundance))%>%\n",
    "    arrange(OTU)\n",
    "mdf"
   ]
  },
  {
   "cell_type": "code",
   "execution_count": null,
   "metadata": {},
   "outputs": [],
   "source": []
  }
 ],
 "metadata": {
  "kernelspec": {
   "display_name": "R",
   "language": "R",
   "name": "ir"
  },
  "language_info": {
   "codemirror_mode": "r",
   "file_extension": ".r",
   "mimetype": "text/x-r-source",
   "name": "R",
   "pygments_lexer": "r",
   "version": "3.6.1"
  }
 },
 "nbformat": 4,
 "nbformat_minor": 2
}

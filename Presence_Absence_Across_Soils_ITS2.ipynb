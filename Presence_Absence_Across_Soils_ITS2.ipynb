{
 "cells": [
  {
   "cell_type": "code",
   "execution_count": 5,
   "metadata": {},
   "outputs": [
    {
     "name": "stderr",
     "output_type": "stream",
     "text": [
      "\n",
      "Attaching package: ‘dplyr’\n",
      "\n",
      "The following objects are masked from ‘package:stats’:\n",
      "\n",
      "    filter, lag\n",
      "\n",
      "The following objects are masked from ‘package:base’:\n",
      "\n",
      "    intersect, setdiff, setequal, union\n",
      "\n"
     ]
    }
   ],
   "source": [
    "library(phyloseq)\n",
    "library(wesanderson)\n",
    "library(ggplot2)\n",
    "library(dplyr)"
   ]
  },
  {
   "cell_type": "code",
   "execution_count": 1,
   "metadata": {},
   "outputs": [
    {
     "name": "stderr",
     "output_type": "stream",
     "text": [
      "Loading required package: phyloseq\n"
     ]
    },
    {
     "data": {
      "text/plain": [
       "phyloseq-class experiment-level object\n",
       "otu_table()   OTU Table:         [ 1810 taxa and 177 samples ]\n",
       "sample_data() Sample Data:       [ 177 samples by 69 sample variables ]\n",
       "tax_table()   Taxonomy Table:    [ 1810 taxa by 7 taxonomic ranks ]"
      ]
     },
     "metadata": {},
     "output_type": "display_data"
    }
   ],
   "source": [
    "ps=readRDS(\"../data/CornellITS2/ps.ITS2\")\n",
    "ps"
   ]
  },
  {
   "cell_type": "code",
   "execution_count": 2,
   "metadata": {},
   "outputs": [],
   "source": [
    "psmelt = psmelt(ps)"
   ]
  },
  {
   "cell_type": "code",
   "execution_count": 3,
   "metadata": {},
   "outputs": [
    {
     "data": {
      "text/html": [
       "<ol class=list-inline>\n",
       "\t<li>'OTU'</li>\n",
       "\t<li>'Sample'</li>\n",
       "\t<li>'Abundance'</li>\n",
       "\t<li>'Tube_ID'</li>\n",
       "\t<li>'Seq_ID'</li>\n",
       "\t<li>'Proj_ID'</li>\n",
       "\t<li>'Soil_Rep_Day'</li>\n",
       "\t<li>'Soil_Rep_Day_Trtmt'</li>\n",
       "\t<li>'Qorpak_ID'</li>\n",
       "\t<li>'Amdmt_mg'</li>\n",
       "\t<li>'Soil_g'</li>\n",
       "\t<li>'Soil_Trtmt'</li>\n",
       "\t<li>'Soil_Rep'</li>\n",
       "\t<li>'Soil_Sample'</li>\n",
       "\t<li>'Amdmt'</li>\n",
       "\t<li>'Date'</li>\n",
       "\t<li>'Day'</li>\n",
       "\t<li>'FakeDay'</li>\n",
       "\t<li>'Mason_Jar'</li>\n",
       "\t<li>'Water_mL'</li>\n",
       "\t<li>'Full_ID'</li>\n",
       "\t<li>'Corresponding_control_Qorpak_ID'</li>\n",
       "\t<li>'Corresponding_control_Mason_ID'</li>\n",
       "\t<li>'Picarro_ID'</li>\n",
       "\t<li>'sample.test'</li>\n",
       "\t<li>'Amdmt_d13C'</li>\n",
       "\t<li>'Amdmt_C_frac'</li>\n",
       "\t<li>'lat_lon'</li>\n",
       "\t<li>'depth'</li>\n",
       "\t<li>'Single.or.Composite.Core'</li>\n",
       "\t<li>'US_State'</li>\n",
       "\t<li>'description'</li>\n",
       "\t<li>'country'</li>\n",
       "\t<li>'elevation'</li>\n",
       "\t<li>'env_biome'</li>\n",
       "\t<li>'env_feature'</li>\n",
       "\t<li>'NEON_soil_descrip'</li>\n",
       "\t<li>'env_material'</li>\n",
       "\t<li>'horizon'</li>\n",
       "\t<li>'host_subject_id'</li>\n",
       "\t<li>'NEON_tower_lat'</li>\n",
       "\t<li>'NEON_tower_long'</li>\n",
       "\t<li>'ph'</li>\n",
       "\t<li>'project_name'</li>\n",
       "\t<li>'water_content_soil'</li>\n",
       "\t<li>'CEC'</li>\n",
       "\t<li>'organicMatter'</li>\n",
       "\t<li>'Ca'</li>\n",
       "\t<li>'Mg'</li>\n",
       "\t<li>'Na'</li>\n",
       "\t<li>'K'</li>\n",
       "\t<li>'totalCarbon'</li>\n",
       "\t<li>'totalNitrogen'</li>\n",
       "\t<li>'micBiomass'</li>\n",
       "\t<li>'anions.chloride'</li>\n",
       "\t<li>'anions.nitrite'</li>\n",
       "\t<li>'anions.bromide'</li>\n",
       "\t<li>'anions.nitrate'</li>\n",
       "\t<li>'anions.phosphate'</li>\n",
       "\t<li>'anions.sulfate'</li>\n",
       "\t<li>'PLFA.bacterial'</li>\n",
       "\t<li>'PLFA.actinomycetes'</li>\n",
       "\t<li>'PLFA.fungi'</li>\n",
       "\t<li>'PLFA.fungBactRatio'</li>\n",
       "\t<li>'PLFA.actinoBactRatio'</li>\n",
       "\t<li>'CNratio'</li>\n",
       "\t<li>'Day.1'</li>\n",
       "\t<li>'Soil.CO2.mean.mg.per.gram.soil.cum'</li>\n",
       "\t<li>'Amdmt.CO2.mean.mg.per.mg.amdmt.cum'</li>\n",
       "\t<li>'Soil.CO2.mean.mg.per.gram.soil.C.cum'</li>\n",
       "\t<li>'Amdmt.CO2.mean.mg.per.mg.amdmt.C.cum'</li>\n",
       "\t<li>'Soil_Name'</li>\n",
       "\t<li>'Kingdom'</li>\n",
       "\t<li>'Phylum'</li>\n",
       "\t<li>'Class'</li>\n",
       "\t<li>'Order'</li>\n",
       "\t<li>'Family'</li>\n",
       "\t<li>'Genus'</li>\n",
       "\t<li>'Species'</li>\n",
       "</ol>\n"
      ],
      "text/latex": [
       "\\begin{enumerate*}\n",
       "\\item 'OTU'\n",
       "\\item 'Sample'\n",
       "\\item 'Abundance'\n",
       "\\item 'Tube\\_ID'\n",
       "\\item 'Seq\\_ID'\n",
       "\\item 'Proj\\_ID'\n",
       "\\item 'Soil\\_Rep\\_Day'\n",
       "\\item 'Soil\\_Rep\\_Day\\_Trtmt'\n",
       "\\item 'Qorpak\\_ID'\n",
       "\\item 'Amdmt\\_mg'\n",
       "\\item 'Soil\\_g'\n",
       "\\item 'Soil\\_Trtmt'\n",
       "\\item 'Soil\\_Rep'\n",
       "\\item 'Soil\\_Sample'\n",
       "\\item 'Amdmt'\n",
       "\\item 'Date'\n",
       "\\item 'Day'\n",
       "\\item 'FakeDay'\n",
       "\\item 'Mason\\_Jar'\n",
       "\\item 'Water\\_mL'\n",
       "\\item 'Full\\_ID'\n",
       "\\item 'Corresponding\\_control\\_Qorpak\\_ID'\n",
       "\\item 'Corresponding\\_control\\_Mason\\_ID'\n",
       "\\item 'Picarro\\_ID'\n",
       "\\item 'sample.test'\n",
       "\\item 'Amdmt\\_d13C'\n",
       "\\item 'Amdmt\\_C\\_frac'\n",
       "\\item 'lat\\_lon'\n",
       "\\item 'depth'\n",
       "\\item 'Single.or.Composite.Core'\n",
       "\\item 'US\\_State'\n",
       "\\item 'description'\n",
       "\\item 'country'\n",
       "\\item 'elevation'\n",
       "\\item 'env\\_biome'\n",
       "\\item 'env\\_feature'\n",
       "\\item 'NEON\\_soil\\_descrip'\n",
       "\\item 'env\\_material'\n",
       "\\item 'horizon'\n",
       "\\item 'host\\_subject\\_id'\n",
       "\\item 'NEON\\_tower\\_lat'\n",
       "\\item 'NEON\\_tower\\_long'\n",
       "\\item 'ph'\n",
       "\\item 'project\\_name'\n",
       "\\item 'water\\_content\\_soil'\n",
       "\\item 'CEC'\n",
       "\\item 'organicMatter'\n",
       "\\item 'Ca'\n",
       "\\item 'Mg'\n",
       "\\item 'Na'\n",
       "\\item 'K'\n",
       "\\item 'totalCarbon'\n",
       "\\item 'totalNitrogen'\n",
       "\\item 'micBiomass'\n",
       "\\item 'anions.chloride'\n",
       "\\item 'anions.nitrite'\n",
       "\\item 'anions.bromide'\n",
       "\\item 'anions.nitrate'\n",
       "\\item 'anions.phosphate'\n",
       "\\item 'anions.sulfate'\n",
       "\\item 'PLFA.bacterial'\n",
       "\\item 'PLFA.actinomycetes'\n",
       "\\item 'PLFA.fungi'\n",
       "\\item 'PLFA.fungBactRatio'\n",
       "\\item 'PLFA.actinoBactRatio'\n",
       "\\item 'CNratio'\n",
       "\\item 'Day.1'\n",
       "\\item 'Soil.CO2.mean.mg.per.gram.soil.cum'\n",
       "\\item 'Amdmt.CO2.mean.mg.per.mg.amdmt.cum'\n",
       "\\item 'Soil.CO2.mean.mg.per.gram.soil.C.cum'\n",
       "\\item 'Amdmt.CO2.mean.mg.per.mg.amdmt.C.cum'\n",
       "\\item 'Soil\\_Name'\n",
       "\\item 'Kingdom'\n",
       "\\item 'Phylum'\n",
       "\\item 'Class'\n",
       "\\item 'Order'\n",
       "\\item 'Family'\n",
       "\\item 'Genus'\n",
       "\\item 'Species'\n",
       "\\end{enumerate*}\n"
      ],
      "text/markdown": [
       "1. 'OTU'\n",
       "2. 'Sample'\n",
       "3. 'Abundance'\n",
       "4. 'Tube_ID'\n",
       "5. 'Seq_ID'\n",
       "6. 'Proj_ID'\n",
       "7. 'Soil_Rep_Day'\n",
       "8. 'Soil_Rep_Day_Trtmt'\n",
       "9. 'Qorpak_ID'\n",
       "10. 'Amdmt_mg'\n",
       "11. 'Soil_g'\n",
       "12. 'Soil_Trtmt'\n",
       "13. 'Soil_Rep'\n",
       "14. 'Soil_Sample'\n",
       "15. 'Amdmt'\n",
       "16. 'Date'\n",
       "17. 'Day'\n",
       "18. 'FakeDay'\n",
       "19. 'Mason_Jar'\n",
       "20. 'Water_mL'\n",
       "21. 'Full_ID'\n",
       "22. 'Corresponding_control_Qorpak_ID'\n",
       "23. 'Corresponding_control_Mason_ID'\n",
       "24. 'Picarro_ID'\n",
       "25. 'sample.test'\n",
       "26. 'Amdmt_d13C'\n",
       "27. 'Amdmt_C_frac'\n",
       "28. 'lat_lon'\n",
       "29. 'depth'\n",
       "30. 'Single.or.Composite.Core'\n",
       "31. 'US_State'\n",
       "32. 'description'\n",
       "33. 'country'\n",
       "34. 'elevation'\n",
       "35. 'env_biome'\n",
       "36. 'env_feature'\n",
       "37. 'NEON_soil_descrip'\n",
       "38. 'env_material'\n",
       "39. 'horizon'\n",
       "40. 'host_subject_id'\n",
       "41. 'NEON_tower_lat'\n",
       "42. 'NEON_tower_long'\n",
       "43. 'ph'\n",
       "44. 'project_name'\n",
       "45. 'water_content_soil'\n",
       "46. 'CEC'\n",
       "47. 'organicMatter'\n",
       "48. 'Ca'\n",
       "49. 'Mg'\n",
       "50. 'Na'\n",
       "51. 'K'\n",
       "52. 'totalCarbon'\n",
       "53. 'totalNitrogen'\n",
       "54. 'micBiomass'\n",
       "55. 'anions.chloride'\n",
       "56. 'anions.nitrite'\n",
       "57. 'anions.bromide'\n",
       "58. 'anions.nitrate'\n",
       "59. 'anions.phosphate'\n",
       "60. 'anions.sulfate'\n",
       "61. 'PLFA.bacterial'\n",
       "62. 'PLFA.actinomycetes'\n",
       "63. 'PLFA.fungi'\n",
       "64. 'PLFA.fungBactRatio'\n",
       "65. 'PLFA.actinoBactRatio'\n",
       "66. 'CNratio'\n",
       "67. 'Day.1'\n",
       "68. 'Soil.CO2.mean.mg.per.gram.soil.cum'\n",
       "69. 'Amdmt.CO2.mean.mg.per.mg.amdmt.cum'\n",
       "70. 'Soil.CO2.mean.mg.per.gram.soil.C.cum'\n",
       "71. 'Amdmt.CO2.mean.mg.per.mg.amdmt.C.cum'\n",
       "72. 'Soil_Name'\n",
       "73. 'Kingdom'\n",
       "74. 'Phylum'\n",
       "75. 'Class'\n",
       "76. 'Order'\n",
       "77. 'Family'\n",
       "78. 'Genus'\n",
       "79. 'Species'\n",
       "\n",
       "\n"
      ],
      "text/plain": [
       " [1] \"OTU\"                                 \n",
       " [2] \"Sample\"                              \n",
       " [3] \"Abundance\"                           \n",
       " [4] \"Tube_ID\"                             \n",
       " [5] \"Seq_ID\"                              \n",
       " [6] \"Proj_ID\"                             \n",
       " [7] \"Soil_Rep_Day\"                        \n",
       " [8] \"Soil_Rep_Day_Trtmt\"                  \n",
       " [9] \"Qorpak_ID\"                           \n",
       "[10] \"Amdmt_mg\"                            \n",
       "[11] \"Soil_g\"                              \n",
       "[12] \"Soil_Trtmt\"                          \n",
       "[13] \"Soil_Rep\"                            \n",
       "[14] \"Soil_Sample\"                         \n",
       "[15] \"Amdmt\"                               \n",
       "[16] \"Date\"                                \n",
       "[17] \"Day\"                                 \n",
       "[18] \"FakeDay\"                             \n",
       "[19] \"Mason_Jar\"                           \n",
       "[20] \"Water_mL\"                            \n",
       "[21] \"Full_ID\"                             \n",
       "[22] \"Corresponding_control_Qorpak_ID\"     \n",
       "[23] \"Corresponding_control_Mason_ID\"      \n",
       "[24] \"Picarro_ID\"                          \n",
       "[25] \"sample.test\"                         \n",
       "[26] \"Amdmt_d13C\"                          \n",
       "[27] \"Amdmt_C_frac\"                        \n",
       "[28] \"lat_lon\"                             \n",
       "[29] \"depth\"                               \n",
       "[30] \"Single.or.Composite.Core\"            \n",
       "[31] \"US_State\"                            \n",
       "[32] \"description\"                         \n",
       "[33] \"country\"                             \n",
       "[34] \"elevation\"                           \n",
       "[35] \"env_biome\"                           \n",
       "[36] \"env_feature\"                         \n",
       "[37] \"NEON_soil_descrip\"                   \n",
       "[38] \"env_material\"                        \n",
       "[39] \"horizon\"                             \n",
       "[40] \"host_subject_id\"                     \n",
       "[41] \"NEON_tower_lat\"                      \n",
       "[42] \"NEON_tower_long\"                     \n",
       "[43] \"ph\"                                  \n",
       "[44] \"project_name\"                        \n",
       "[45] \"water_content_soil\"                  \n",
       "[46] \"CEC\"                                 \n",
       "[47] \"organicMatter\"                       \n",
       "[48] \"Ca\"                                  \n",
       "[49] \"Mg\"                                  \n",
       "[50] \"Na\"                                  \n",
       "[51] \"K\"                                   \n",
       "[52] \"totalCarbon\"                         \n",
       "[53] \"totalNitrogen\"                       \n",
       "[54] \"micBiomass\"                          \n",
       "[55] \"anions.chloride\"                     \n",
       "[56] \"anions.nitrite\"                      \n",
       "[57] \"anions.bromide\"                      \n",
       "[58] \"anions.nitrate\"                      \n",
       "[59] \"anions.phosphate\"                    \n",
       "[60] \"anions.sulfate\"                      \n",
       "[61] \"PLFA.bacterial\"                      \n",
       "[62] \"PLFA.actinomycetes\"                  \n",
       "[63] \"PLFA.fungi\"                          \n",
       "[64] \"PLFA.fungBactRatio\"                  \n",
       "[65] \"PLFA.actinoBactRatio\"                \n",
       "[66] \"CNratio\"                             \n",
       "[67] \"Day.1\"                               \n",
       "[68] \"Soil.CO2.mean.mg.per.gram.soil.cum\"  \n",
       "[69] \"Amdmt.CO2.mean.mg.per.mg.amdmt.cum\"  \n",
       "[70] \"Soil.CO2.mean.mg.per.gram.soil.C.cum\"\n",
       "[71] \"Amdmt.CO2.mean.mg.per.mg.amdmt.C.cum\"\n",
       "[72] \"Soil_Name\"                           \n",
       "[73] \"Kingdom\"                             \n",
       "[74] \"Phylum\"                              \n",
       "[75] \"Class\"                               \n",
       "[76] \"Order\"                               \n",
       "[77] \"Family\"                              \n",
       "[78] \"Genus\"                               \n",
       "[79] \"Species\"                             "
      ]
     },
     "metadata": {},
     "output_type": "display_data"
    }
   ],
   "source": [
    "colnames(psmelt)"
   ]
  },
  {
   "cell_type": "code",
   "execution_count": 10,
   "metadata": {},
   "outputs": [
    {
     "data": {
      "text/html": [
       "<table>\n",
       "<caption>A tibble: 6 × 2</caption>\n",
       "<thead>\n",
       "\t<tr><th scope=col>OTU</th><th scope=col>nSoils</th></tr>\n",
       "\t<tr><th scope=col>&lt;chr&gt;</th><th scope=col>&lt;dbl&gt;</th></tr>\n",
       "</thead>\n",
       "<tbody>\n",
       "\t<tr><td>OTU1  </td><td>4</td></tr>\n",
       "\t<tr><td>OTU2  </td><td>3</td></tr>\n",
       "\t<tr><td>OTU89 </td><td>3</td></tr>\n",
       "\t<tr><td>OTU123</td><td>2</td></tr>\n",
       "\t<tr><td>OTU133</td><td>2</td></tr>\n",
       "\t<tr><td>OTU152</td><td>2</td></tr>\n",
       "</tbody>\n",
       "</table>\n"
      ],
      "text/latex": [
       "A tibble: 6 × 2\n",
       "\\begin{tabular}{r|ll}\n",
       " OTU & nSoils\\\\\n",
       " <chr> & <dbl>\\\\\n",
       "\\hline\n",
       "\t OTU1   & 4\\\\\n",
       "\t OTU2   & 3\\\\\n",
       "\t OTU89  & 3\\\\\n",
       "\t OTU123 & 2\\\\\n",
       "\t OTU133 & 2\\\\\n",
       "\t OTU152 & 2\\\\\n",
       "\\end{tabular}\n"
      ],
      "text/markdown": [
       "\n",
       "A tibble: 6 × 2\n",
       "\n",
       "| OTU &lt;chr&gt; | nSoils &lt;dbl&gt; |\n",
       "|---|---|\n",
       "| OTU1   | 4 |\n",
       "| OTU2   | 3 |\n",
       "| OTU89  | 3 |\n",
       "| OTU123 | 2 |\n",
       "| OTU133 | 2 |\n",
       "| OTU152 | 2 |\n",
       "\n"
      ],
      "text/plain": [
       "  OTU    nSoils\n",
       "1 OTU1   4     \n",
       "2 OTU2   3     \n",
       "3 OTU89  3     \n",
       "4 OTU123 2     \n",
       "5 OTU133 2     \n",
       "6 OTU152 2     "
      ]
     },
     "metadata": {},
     "output_type": "display_data"
    }
   ],
   "source": [
    "PresAbs = psmelt %>%\n",
    "    filter(Amdmt==\"Soil\")%>%\n",
    "    group_by(Soil_Name,OTU)%>%\n",
    "    summarize(PresAbs = ifelse(sum(Abundance)>1,1,0))%>%\n",
    "    group_by(OTU)%>%\n",
    "    summarize(nSoils=sum(PresAbs))%>%\n",
    "    filter(nSoils>0)%>%\n",
    "    arrange(-nSoils)\n",
    "head(PresAbs)"
   ]
  },
  {
   "cell_type": "code",
   "execution_count": 11,
   "metadata": {},
   "outputs": [
    {
     "data": {
      "text/html": [
       "0"
      ],
      "text/latex": [
       "0"
      ],
      "text/markdown": [
       "0"
      ],
      "text/plain": [
       "[1] 0"
      ]
     },
     "metadata": {},
     "output_type": "display_data"
    },
    {
     "data": {
      "text/html": [
       "0.000960614793467819"
      ],
      "text/latex": [
       "0.000960614793467819"
      ],
      "text/markdown": [
       "0.000960614793467819"
      ],
      "text/plain": [
       "[1] 0.0009606148"
      ]
     },
     "metadata": {},
     "output_type": "display_data"
    },
    {
     "data": {
      "text/html": [
       "0.00192122958693564"
      ],
      "text/latex": [
       "0.00192122958693564"
      ],
      "text/markdown": [
       "0.00192122958693564"
      ],
      "text/plain": [
       "[1] 0.00192123"
      ]
     },
     "metadata": {},
     "output_type": "display_data"
    },
    {
     "data": {
      "text/html": [
       "0.0201729106628242"
      ],
      "text/latex": [
       "0.0201729106628242"
      ],
      "text/markdown": [
       "0.0201729106628242"
      ],
      "text/plain": [
       "[1] 0.02017291"
      ]
     },
     "metadata": {},
     "output_type": "display_data"
    },
    {
     "data": {
      "text/html": [
       "0.976945244956772"
      ],
      "text/latex": [
       "0.976945244956772"
      ],
      "text/markdown": [
       "0.976945244956772"
      ],
      "text/plain": [
       "[1] 0.9769452"
      ]
     },
     "metadata": {},
     "output_type": "display_data"
    }
   ],
   "source": [
    "nrow(PresAbs[PresAbs$nSoils==5,])/nrow(PresAbs)\n",
    "nrow(PresAbs[PresAbs$nSoils==4,])/nrow(PresAbs)\n",
    "nrow(PresAbs[PresAbs$nSoils==3,])/nrow(PresAbs)\n",
    "nrow(PresAbs[PresAbs$nSoils==2,])/nrow(PresAbs)\n",
    "nrow(PresAbs[PresAbs$nSoils==1,])/nrow(PresAbs)"
   ]
  },
  {
   "cell_type": "code",
   "execution_count": null,
   "metadata": {},
   "outputs": [],
   "source": []
  }
 ],
 "metadata": {
  "kernelspec": {
   "display_name": "R",
   "language": "R",
   "name": "ir"
  },
  "language_info": {
   "codemirror_mode": "r",
   "file_extension": ".r",
   "mimetype": "text/x-r-source",
   "name": "R",
   "pygments_lexer": "r",
   "version": "3.6.1"
  }
 },
 "nbformat": 4,
 "nbformat_minor": 2
}
